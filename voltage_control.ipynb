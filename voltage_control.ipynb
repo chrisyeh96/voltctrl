{
 "cells": [
  {
   "cell_type": "markdown",
   "id": "streaming-phoenix",
   "metadata": {},
   "source": [
    "## Imports and Constants\n",
    "\n",
    "$$\n",
    "\\newcommand{\\abs}[1]{\\left\\lvert#1\\right\\rvert}  % absolute value\n",
    "\\newcommand{\\C}{\\mathbb{C}}  % complex numbers\n",
    "\\newcommand{\\ceil}[1]{\\left\\lceil #1 \\right\\rceil}  % ceiling\n",
    "\\newcommand{\\closure}{\\operatorname{cl}}  % distance\n",
    "\\newcommand{\\conv}{\\operatorname{conv}}  % convex hull\n",
    "\\newcommand{\\cov}{\\operatorname{Cov}}  % covariance\n",
    "\\newcommand{\\diag}{\\operatorname{diag}}  % diagonal\n",
    "\\newcommand{\\dist}{\\operatorname{dist}}  % distance\n",
    "\\newcommand{\\dom}{\\operatorname{dom}}  % domain\n",
    "\\newcommand{\\E}{\\mathbb{E}}  % expectation\n",
    "\\newcommand{\\epi}{\\operatorname{epi}}  % epigraph\n",
    "\\newcommand{\\extreme}{\\operatorname{extreme}}  % extreme point\n",
    "\\newcommand{\\floor}[1]{\\left\\lfloor #1 \\right\\rfloor}  % floor\n",
    "\\newcommand{\\inner}[2]{\\left\\langle#1,\\ #2\\right\\rangle}  % inner product\n",
    "\\newcommand{\\interior}{\\operatorname{int}}  % interior\n",
    "\\newcommand{\\norm}[1]{\\left\\lVert#1\\right\\rVert}  % norm\n",
    "\\newcommand{\\nullspace}{\\operatorname{Null}}  % nullspace\n",
    "\\newcommand{\\one}{\\mathbf{1}}  % ones vector\n",
    "\\newcommand{\\Proj}{\\mathcal{P}}  % projection\n",
    "\\newcommand{\\range}{\\operatorname{Range}}  % range\n",
    "\\newcommand{\\rank}{\\operatorname{rank}}  % rank\n",
    "\\newcommand{\\set}[1]{\\left\\{#1\\right\\}}  % set\n",
    "\\newcommand{\\spanset}{\\operatorname{span}}  % span\n",
    "\\newcommand{\\Sym}{\\mathbb{S}}  % symmetric, real matrices\n",
    "\\newcommand{\\tr}{\\operatorname{tr}}  % trace\n",
    "\\newcommand{\\var}{\\operatorname{Var}}  % variance\n",
    "\\newcommand{\\zero}{\\mathbf{0}}  % ones vector\n",
    "\\renewcommand{\\N}{\\mathbb{N}}  % natural numbers\n",
    "\\renewcommand{\\R}{\\mathbb{R}}  % real numbers\n",
    "\\renewcommand{\\Z}{\\mathbb{Z}}  % integers\n",
    "\\newcommand{\\vpar}{v^\\text{par}}\n",
    "\\newcommand{\\vnom}{v^\\text{nom}}\n",
    "\\newcommand{\\vmid}{v^\\text{mid}}\n",
    "\\newcommand{\\vmin}{\\underline{v}}\n",
    "\\newcommand{\\vmax}{\\overline{v}}\n",
    "\\newcommand{\\qmin}{\\underline{q}}\n",
    "\\newcommand{\\qmax}{\\overline{q}}\n",
    "\\newcommand{\\qlims}{[\\qmin, \\qmax]}\n",
    "\\newcommand{\\vlims}{[\\vmin, \\vmax]}\n",
    "$$"
   ]
  },
  {
   "cell_type": "code",
   "execution_count": 1,
   "id": "political-event",
   "metadata": {},
   "outputs": [],
   "source": [
    "%load_ext autoreload\n",
    "%autoreload 2\n",
    "# %matplotlib inline\n",
    "%matplotlib widget"
   ]
  },
  {
   "cell_type": "code",
   "execution_count": 2,
   "id": "greater-publicity",
   "metadata": {},
   "outputs": [
    {
     "name": "stderr",
     "output_type": "stream",
     "text": [
      "/tmp/ipykernel_5982/1375556576.py:30: DeprecationWarning: `set_matplotlib_formats` is deprecated since IPython 7.23, directly use `matplotlib_inline.backend_inline.set_matplotlib_formats()`\n",
      "  set_matplotlib_formats('svg')\n"
     ]
    }
   ],
   "source": [
    "from __future__ import annotations\n",
    "\n",
    "from collections.abc import Sequence\n",
    "import csv\n",
    "import time\n",
    "from typing import Any, TypeVar\n",
    "\n",
    "import cvxpy as cp\n",
    "import matplotlib.pyplot as plt\n",
    "import networkx as nx\n",
    "import numpy as np\n",
    "import pandas as pd\n",
    "import pandapower as pp\n",
    "import pandapower.plotting\n",
    "import scipy.io\n",
    "from tqdm.auto import tqdm\n",
    "\n",
    "from cbc import CBCProjection\n",
    "from network_utils import (\n",
    "    create_56bus,\n",
    "    create_R_X_from_net,\n",
    "    calc_voltage_profile\n",
    ")\n",
    "from robust_voltage_control import (\n",
    "    VoltPlot,\n",
    "    robust_voltage_control\n",
    ")\n",
    "\n",
    "from IPython.display import set_matplotlib_formats\n",
    "set_matplotlib_formats('svg')\n",
    "\n",
    "# hide top and right splines on plots\n",
    "plt.rcParams['axes.spines.right'] = False\n",
    "plt.rcParams['axes.spines.top'] = False"
   ]
  },
  {
   "cell_type": "code",
   "execution_count": 3,
   "id": "structural-radical",
   "metadata": {},
   "outputs": [],
   "source": [
    "time_ticks =  [0      ,    2400,    4800,    7200,    9600,   12000,   14400]\n",
    "time_labels = ['00:00', '04:00', '08:00', '12:00', '16:00', '20:00', '24:00']\n",
    "\n",
    "rng = np.random.default_rng()"
   ]
  },
  {
   "cell_type": "markdown",
   "id": "utility-reservation",
   "metadata": {},
   "source": [
    "## Setup\n",
    "\n",
    "Data (TODO: check units)\n",
    "- $r$, $x$: resistance, in ohms\n",
    "- $p$: active power injection, in MW\n",
    "- $q$: reactive power injection, in MVar\n",
    "\n",
    "The nominal voltage is 12kV.\n",
    "\n",
    "We know that $P = I V = V^2 / R$. In units, we have\n",
    "$$ W = V^2 / R $$\n",
    "$$ MW = (kV)^2 / R $$"
   ]
  },
  {
   "cell_type": "code",
   "execution_count": 4,
   "id": "starting-fever",
   "metadata": {},
   "outputs": [],
   "source": [
    "net = create_56bus()\n",
    "R, X = create_R_X_from_net(net)\n",
    "\n",
    "# fig, ax = plt.subplots(1,1)\n",
    "# pp.plotting.simple_plot(net, ax=ax)\n",
    "# plt.show()"
   ]
  },
  {
   "cell_type": "markdown",
   "id": "ceramic-sensitivity",
   "metadata": {},
   "source": [
    "$$w = \\underbrace{R (p_t - p_{t-1})}_{w^p} + \\underbrace{X (q_t - q_{t-1})}_{w^q}$$"
   ]
  },
  {
   "cell_type": "code",
   "execution_count": 6,
   "id": "geographic-chile",
   "metadata": {},
   "outputs": [],
   "source": [
    "def read_load_data() -> tuple[np.array, np.array]:\n",
    "    \"\"\"Read in load data.\n",
    "\n",
    "    Returns\n",
    "    - p: np.array, shape [n, T], active load in MW, TODO sign\n",
    "    - q: np.array, shape [n, T], reactive load in MVar, TODO sign\n",
    "    \"\"\"\n",
    "    mat = scipy.io.loadmat('data/pq_fluc.mat', squeeze_me=True)\n",
    "    pq_fluc = mat['pq_fluc']  # shape (55, 2, 14421)\n",
    "    p = pq_fluc[:, 0]  # active load, shape (55, 14421)\n",
    "    qe = pq_fluc[:, 1]  # reactive load\n",
    "    return p, qe\n",
    "\n",
    "def smooth(x: np.ndarray, w: int = 5) -> np.ndarray:\n",
    "    \"\"\"Smooths input using moving-average window.\n",
    "\n",
    "    Edge values are preserved as-is without smoothing.\n",
    "\n",
    "    Args\n",
    "    - x: np.array, shape [T] or [n, T]\n",
    "    - w: int, moving average window, odd positive integer\n",
    "\n",
    "    Returns: np.array, same shape as x, smoothed\n",
    "    \"\"\"\n",
    "    assert w % 2 == 1\n",
    "    edge = w // 2\n",
    "\n",
    "    x_smooth = x.copy()\n",
    "    ones = np.ones(w)\n",
    "    if len(x.shape) == 1:\n",
    "        x_smooth[edge:-edge] = np.convolve(x, ones, 'valid') / w\n",
    "    elif len(x.shape) == 2:\n",
    "        for i in range(len(x)):\n",
    "            x_smooth[i, edge:-edge] = np.convolve(x[i], ones, 'valid') / w\n",
    "    else:\n",
    "        raise ValueError('smooth() only works on 1D or 2D arrays')\n",
    "    return x_smooth\n",
    "\n",
    "def calc_max_norm_w(R, X, p, qe):\n",
    "    \"\"\"Calculates ||w||_∞.\n",
    "\n",
    "    Args\n",
    "    - R: shape [n, n]\n",
    "    - X: shape [n, n]\n",
    "    - p: shape [n, T], active power load\n",
    "    - qe: shape [n, T], exogenous reactive load\n",
    "\n",
    "    Returns\n",
    "    - norms: dict, keys are ['w', 'wp', 'wq']\n",
    "    - max_p_idx: int, bus index with largest ||w_p||\n",
    "    - max_q_idx: int, bus index with largest ||w_q||\n",
    "    \"\"\"\n",
    "    wp = R @ (p[:, 1:] - p[:, :-1])\n",
    "    wq = X @ (qe[:, 1:] - qe[:, :-1])\n",
    "    w = wp + wq\n",
    "    norms = {\n",
    "        'w':  np.linalg.norm( w, ord=np.inf, axis=0),\n",
    "        'wp': np.linalg.norm(wp, ord=np.inf, axis=0),\n",
    "        'wq': np.linalg.norm(wq, ord=np.inf, axis=0)\n",
    "    }\n",
    "    max_p_idx = np.argmax(np.max(np.abs(wp), axis=1))\n",
    "    max_q_idx = np.argmax(np.max(np.abs(wq), axis=1))\n",
    "    return norms, max_p_idx, max_q_idx"
   ]
  },
  {
   "cell_type": "code",
   "execution_count": 7,
   "id": "buried-alfred",
   "metadata": {},
   "outputs": [],
   "source": [
    "p, qe = read_load_data()  # in MW and MVar (TODO: confirm units)"
   ]
  },
  {
   "cell_type": "markdown",
   "id": "b3a4cee8-8086-4bb7-ac07-947e7ea843f3",
   "metadata": {},
   "source": [
    "## Consider smoothing the data"
   ]
  },
  {
   "cell_type": "code",
   "execution_count": null,
   "id": "9e66b624-61dc-4a69-b995-5c078a88410b",
   "metadata": {},
   "outputs": [],
   "source": [
    "def plot_w_norms(norms, title):\n",
    "    fig, axs = plt.subplots(1, 3, figsize=(10, 2), sharey=True, tight_layout=True)\n",
    "    axs[0].hist(norms['w'], bins=200)\n",
    "    axs[0].set(xlabel='$||w||_\\infty$', ylabel='count', yscale='log')\n",
    "    axs[1].hist(norms['wp'], bins=200)\n",
    "    axs[1].set(xlabel='$||w^p||_\\infty$')\n",
    "    axs[2].hist(norms['wq'], bins=200)\n",
    "    axs[2].set(xlabel='$||w^q||_\\infty$')\n",
    "    fig.suptitle(title)\n",
    "    plt.show()\n",
    "\n",
    "def plot_with_diff(axs, p, max_idx, ylabel, ylabel_diff):\n",
    "    for i in range(len(p)):\n",
    "        axs[0].plot(p[i])\n",
    "    axs[0].set(xlabel='time $t$', ylabel=ylabel)\n",
    "    axs[1].plot(np.diff(p[max_idx]), label=f'bus {max_idx}')\n",
    "    axs[1].set(xlabel='time $t$', ylabel=ylabel_diff)\n",
    "    axs[1].legend()\n",
    "\n",
    "# before smoothing\n",
    "norms, max_p_idx, max_q_idx = calc_max_norm_w(R, X, p, qe)\n",
    "print(f'max_t ||w_t||_∞ = {norms[\"w\"].max()}')\n",
    "\n",
    "title = 'No smoothing'\n",
    "fig, axs = plt.subplots(2, 2, figsize=(10, 4), sharex=True, tight_layout=True, gridspec_kw={'height_ratios': [2, 1]})\n",
    "plot_with_diff(axs[:, 0], p, max_idx=max_p_idx, ylabel='active power (MW)', ylabel_diff='$p_{t+1} - p_t$')\n",
    "plot_with_diff(axs[:, 1], qe, max_idx=max_q_idx, ylabel='reactive power (MVar)', ylabel_diff='$q^e_{t+1} - q^e_t$ (MVar)')\n",
    "fig.suptitle(title)\n",
    "plot_w_norms(norms, title)"
   ]
  },
  {
   "cell_type": "raw",
   "id": "730105b5-0599-4310-b888-7d8f8e1028d9",
   "metadata": {},
   "source": [
    "p = smooth(p, w=39)\n",
    "\n",
    "# after smoothing p's\n",
    "for w in range(3, 51, 2):\n",
    "    norms, max_p_idx, max_q_idx = calc_max_norm_w(R, X, smooth(p, w=w), qe)\n",
    "    max_norm = norms['w'].max()\n",
    "    if max_norm <= 0.7:\n",
    "        print(f'w = {w}, max ||w|| = {max_norm}')\n",
    "        break\n",
    "p = smooth(p, w=w)\n",
    "\n",
    "title = f'After smoothing ($w={w}$)'\n",
    "fig, axs = plt.subplots(2, 1, figsize=(5, 4), sharex=True, tight_layout=True, gridspec_kw={'height_ratios': [2, 1]})\n",
    "plot_with_diff(axs, p, max_idx=max_p_idx, ylabel='active power (MW)', ylabel_diff='$p_{t+1} - p_t$')\n",
    "fig.suptitle(title)\n",
    "plot_w_norms(norms, title)"
   ]
  },
  {
   "cell_type": "markdown",
   "id": "ancient-administration",
   "metadata": {},
   "source": [
    "## Voltage Control with Known Line Parameters\n",
    "\n",
    "If the line parameters $X$ are known, then we can directly apply our 1-step controller.\n",
    "\n",
    "We define\n",
    "- $\\vlims = [0.95 \\mathrm{pu}, 1.05 \\mathrm{pu}] = [(11.4 \\mathrm{kV})^2, (12.6 \\mathrm{kV})^2]$\n",
    "- $\\qlims = TODO$"
   ]
  },
  {
   "cell_type": "markdown",
   "id": "hairy-situation",
   "metadata": {},
   "source": [
    "### Assuming linear system dynamics\n",
    "\n",
    "In this section, we assume the Simplified DistFlow linear model.\n",
    "\n",
    "$$\n",
    "\\begin{aligned}\n",
    "    v(t+1)\n",
    "    &= v(t) + X u(t) + w(t) \\\\\n",
    "    &= X[q^c(t) + q^e(t)] + Rp(t) + v^0 \\one\n",
    "\\end{aligned}\n",
    "$$\n",
    "\n",
    "<!-- In a sense, we could let $v(0) = X q^e(t) + R p(t)$ with $q^c(-1) = \\zero$, then\n",
    "$$\n",
    "    v(1) = v(0) + X u(t) + w(0)\n",
    "$$ -->"
   ]
  },
  {
   "cell_type": "code",
   "execution_count": null,
   "id": "d5efa35e-2770-4a60-a20a-32b12194b0a1",
   "metadata": {},
   "outputs": [],
   "source": [
    "# given data\n",
    "n, T = qe.shape\n",
    "print(\"exogenous reactive power injection:\", qe.shape)\n",
    "print(\"active power injection:\", p.shape)\n",
    "print()\n",
    "\n",
    "# bounds\n",
    "# - see Qu and Li, 2020\n",
    "constrained_buses = np.array([18, 21, 30, 45, 53]) - 1  # -1 for 0-indexing\n",
    "q_min, q_max = (-.2 , .2)   # MVar\n",
    "v_min, v_max = (11.4**2, 12.6**2)  # +/-5%, units kV^2\n",
    "\n",
    "# initial conditions\n",
    "vnom = 12  # nominal voltage magnitude, units kV\n",
    "qc0 = np.zeros(n)\n",
    "\n",
    "# v1 = rng.uniform((0.97 * vnom)**2, (0.98 * vnom)**2, size=[n])  # initial squared voltage magnitude, units kV^2"
   ]
  },
  {
   "cell_type": "markdown",
   "id": "f458e203-4af6-4f1b-a0dd-d0f9f2a929de",
   "metadata": {},
   "source": [
    "First, we check that Assumption 2 is actually satisfied:\n",
    "\n",
    "For some known $\\epsilon \\geq 0$, the noise sequence $\\{w(t)\\}_t$, line parameters $X$, voltage limits $\\vlims$, reactive power injection limits $\\qlims$, and recovery time $T_r \\geq 2$ satisfy\n",
    "\n",
    "$$\n",
    "\\begin{aligned}\n",
    "& \\forall t \\geq T_r - 1.\\ \\exists u \\in \\mathcal{U}(t) \\text{ s.t. }\\\\\n",
    "& \\quad v(t)+Xu \\in [\\vmin + (\\eta + \\epsilon) \\one,\\ \\vmax - (\\eta + \\epsilon) \\one] \\\\\n",
    "& \\text{where } \\mathcal{U}(t):=\\{u \\in \\R^n: \\qmin \\leq q^c(t-1)+u \\leq \\qmax \\}\n",
    "\\end{aligned}\n",
    "$$\n",
    "\n",
    "Note that $u = q^c_t - q^c(t-1)$, so\n",
    "$$\n",
    "\\begin{aligned}\n",
    "v(t)\n",
    "    &= X[q^c(t-1) + q^e(t-1)] + Rp(t-1) + v^0 \\one \\\\\n",
    "Xu\n",
    "    &= X[q^c_t - q^c(t-1)] \\\\\n",
    "v(t) + Xu\n",
    "    &= X[q^c_t + q^e(t-1)] + Rp(t-1) + v^0 \\one.\n",
    "\\end{aligned}\n",
    "$$\n",
    "\n",
    "Therefore, an equivalent assumption is:\n",
    "$$\n",
    "\\begin{aligned}\n",
    "& \\forall t \\geq T_r - 1.\\ \\exists q^c_t \\in \\qlims \\text{ s.t. } \\\\\n",
    "& \\quad X[q^c_t + q^e(t-1)] + Rp(t-1) + v^0 \\one \\in [\\vmin + (\\eta + \\epsilon) \\one,\\ \\vmax - (\\eta + \\epsilon) \\one]\n",
    "\\end{aligned}\n",
    "$$"
   ]
  },
  {
   "cell_type": "code",
   "execution_count": null,
   "id": "inappropriate-point",
   "metadata": {},
   "outputs": [],
   "source": [
    "def calc_qlims(\n",
    "        p: np.ndarray, qe: np.ndarray,\n",
    "        v_lims: tuple[Any, Any],\n",
    "        X: np.ndarray, R: np.ndarray,\n",
    "        eta: float, eps: float, Tr: int, v_sub: float) -> np.ndarray:\n",
    "    \"\"\"Calculates minimum-inf-norm values for q^c_t to ensure feasibility.\n",
    "\n",
    "    Args\n",
    "    - p: np.array, shape [n, T], active power injection (MW)\n",
    "    - qe: np.array, shape [n, T], exogenous reactive power injection (MVar)\n",
    "    - v_lims: tuple (v_min, v_max), squared voltage magnitude limits (kV^2)\n",
    "        - v_min, v_max could be floats, or np.arrays of shape [n]\n",
    "    - X: np.array, shape [n, n], line parameters for reactive power injection\n",
    "    - R: np.array, shape [n, n], line parameters for active power injection\n",
    "    - eta: float, noise bound (kV^2)\n",
    "    - eps: float, robustness buffer (kV^2)\n",
    "    - Tr: int, recovery time, >= 2\n",
    "    - v_sub: float, fixed squared voltage magnitude at substation (kV^2)\n",
    "\n",
    "    Returns\n",
    "    - qcts: np.ndarray, shape [n, T-1]\n",
    "    \"\"\"\n",
    "    assert p.shape == qe.shape\n",
    "    n, T = qe.shape\n",
    "\n",
    "    v_min, v_max = v_lims\n",
    "    if isinstance(v_min, float):\n",
    "        v_min = v_min * np.ones(n)\n",
    "        v_max = v_max * np.ones(n)\n",
    "\n",
    "    v_lb = v_min + eta + eps\n",
    "    v_ub = v_max - (eta + eps)\n",
    "    qcts = []\n",
    "\n",
    "    # ============================================================\n",
    "    # slower version: optimize qct one time step at a time\n",
    "    # ============================================================\n",
    "    # qct = cp.Variable(n)\n",
    "    # obj = cp.Minimize(cp.norm(qct, p='inf'))\n",
    "\n",
    "    # qe_t = cp.Parameter(n)\n",
    "    # p_t = cp.Parameter(n)\n",
    "\n",
    "    # vt = v_sub + X @ (qct + qe_t) + R @ p_t\n",
    "    # constraints = [v_lb <= vt, vt <= v_ub]\n",
    "    # prob = cp.Problem(objective=obj, constraints=constraints)\n",
    "    # assert prob.is_dcp(dpp=True)\n",
    "\n",
    "    # for t in tqdm(range(Tr-1, T)):\n",
    "    #     qe_t.value = qe[:, t-1]\n",
    "    #     p_t.value = p[:, t-1]\n",
    "    #     prob.solve()\n",
    "    #     assert prob.status == 'optimal'\n",
    "    #     qcts.append(np.array(qct.value))  # make a copy\n",
    "    # qcts = np.stack(qcts, axis=1)\n",
    "\n",
    "    # ============================================================\n",
    "    # faster version: optimize qct mulitple time steps at once\n",
    "    # ============================================================\n",
    "    v_lb = v_lb.reshape(n, 1)\n",
    "    v_ub = v_ub.reshape(n, 1)\n",
    "\n",
    "    block = 64\n",
    "    qct = cp.Variable([n, block])\n",
    "    obj = cp.Minimize(cp.sum(cp.norm(qct, p='inf', axis=0)))\n",
    "\n",
    "    qe_t = cp.Parameter([n, block])\n",
    "    p_t = cp.Parameter([n, block])\n",
    "    vt = v_sub + X @ (qct + qe_t) + R @ p_t\n",
    "    constraints = [v_lb <= vt, vt <= v_ub]\n",
    "    prob = cp.Problem(objective=obj, constraints=constraints)\n",
    "\n",
    "    for t in tqdm(range(Tr-1, T, block)):\n",
    "        if t + block > T:\n",
    "            cols = list(range(t-1, T)) + [T-1] * (block + t - T - 1)\n",
    "        else:\n",
    "            cols = slice(t-1, t-1+block)\n",
    "\n",
    "        qe_t.value = qe[:, cols]\n",
    "        p_t.value = p[:, cols]\n",
    "        \n",
    "        prob.solve()\n",
    "        assert prob.status == 'optimal'\n",
    "        qcts.append(np.array(qct.value))  # make a copy\n",
    "    qcts = np.concatenate(qcts, axis=1)\n",
    "\n",
    "    return qcts\n",
    "\n",
    "\n",
    "def check_assumption_2(\n",
    "        p: np.ndarray, qe: np.ndarray,\n",
    "        q_lims: tuple[Any, Any], v_lims: tuple[Any, Any],\n",
    "        X: np.ndarray, R: np.ndarray,\n",
    "        eta: float, eps: float, Tr: int, v_sub: float) -> None:\n",
    "    \"\"\"Checks if the given q_lims are feasible.\n",
    "\n",
    "    Args\n",
    "    - p: np.array, shape [n, T], active power injection (MW)\n",
    "    - qe: np.array, shape [n, T], exogenous reactive power injection (MVar)\n",
    "    - q_lims: tuple (q_min, q_max), reactive power injection limits (MVar)\n",
    "        - q_min, q_max could be floats, or np.arrays of shape [n]\n",
    "    - v_lims: tuple (v_min, v_max), squared voltage magnitude limits (kV^2)\n",
    "        - v_min, v_max could be floats, or np.arrays of shape [n]\n",
    "    - X: np.array, shape [n, n], line parameters for reactive power injection\n",
    "    - R: np.array, shape [n, n], line parameters for active power injection\n",
    "    - eta: float, noise bound (kV^2)\n",
    "    - eps: float, robustness buffer (kV^2)\n",
    "    - Tr: int, recovery time\n",
    "    - v_sub: float, fixed squared voltage magnitude at substation (kV^2)\n",
    "    \"\"\"\n",
    "    assert p.shape == qe.shape\n",
    "    n, T = qe.shape\n",
    "\n",
    "    q_min, q_max = q_lims\n",
    "    v_min, v_max = v_lims\n",
    "\n",
    "    if isinstance(q_min, float):\n",
    "        q_min = np.ones(n) * q_min\n",
    "        q_max = np.ones(n) * q_max\n",
    "    if isinstance(v_min, float):\n",
    "        v_min = np.ones(n) * v_min\n",
    "        v_max = np.ones(n) * v_max\n",
    "\n",
    "    v_lb = v_min + eta + eps\n",
    "    v_ub = v_max - (eta + eps)\n",
    "\n",
    "    obj = cp.Minimize(1)\n",
    "\n",
    "    # ============================================================\n",
    "    # slow version: check feasibility one time step at a time\n",
    "    # ============================================================\n",
    "    # qct = cp.Variable(n)\n",
    "    # base_constraints = [q_min <= qct, qct <= q_max]\n",
    "    # for t in tqdm(range(Tr-1, T)):\n",
    "    #     vt = v_sub + X @ (qct + qe[:, t-1]) + R @ p[:, t-1]\n",
    "    #     constraints = base_constraints + [\n",
    "    #         v_lb <= vt, vt <= v_ub,\n",
    "    #     ]\n",
    "    #     prob = cp.Problem(objective=obj, constraints=constraints)\n",
    "    #     prob.solve()\n",
    "    #     assert prob.status == 'optimal'\n",
    "\n",
    "    # ============================================================\n",
    "    # faster version: check feasibility in blocks\n",
    "    # ============================================================\n",
    "    v_lb = v_lb.reshape(n, 1) \n",
    "    v_ub = v_ub.reshape(n, 1)\n",
    "    q_min = q_min.reshape(n, 1)\n",
    "    q_max = q_max.reshape(n, 1)\n",
    "\n",
    "    block = 50\n",
    "    qct = cp.Variable([n, block])\n",
    "    base_constraints = [q_min <= qct, qct <= q_max]\n",
    "    for t in tqdm(range(Tr-1, T, block)):\n",
    "        if t + block > T:\n",
    "            block = T - t\n",
    "            qct = cp.Variable([n, block])\n",
    "            base_constraints = [q_min <= qct, qct <= q_max]\n",
    "\n",
    "        vt_block = v_sub + X @ (qct + qe[:, t-1:t-1+block]) + R @ p[:, t-1:t-1+block]\n",
    "        constraints = base_constraints + [\n",
    "            v_lb <= vt_block, vt_block <= v_ub,\n",
    "        ]\n",
    "        prob = cp.Problem(objective=obj, constraints=constraints)\n",
    "        prob.solve()\n",
    "        assert prob.status == 'optimal'"
   ]
  },
  {
   "cell_type": "code",
   "execution_count": null,
   "id": "cc379bd9-4965-4e12-a515-4ef6e79b1fbc",
   "metadata": {},
   "outputs": [],
   "source": [
    "qcts = calc_qlims(\n",
    "    p, qe, v_lims=(v_min, v_max),\n",
    "    X=X, R=R, eta=0, eps=0, Tr=2, v_sub=12**2)"
   ]
  },
  {
   "cell_type": "code",
   "execution_count": null,
   "id": "67d5b14b-8f78-4214-bdd3-309acead35e6",
   "metadata": {},
   "outputs": [],
   "source": [
    "print(f'min q_i: {np.min(qcts):.4f}, max q_i: {np.max(qcts):.4f}')"
   ]
  },
  {
   "cell_type": "code",
   "execution_count": null,
   "id": "1b0ff034-d966-4fd3-94b5-49459368dcba",
   "metadata": {},
   "outputs": [],
   "source": [
    "fig, ax = plt.subplots(1, 1, figsize=(4, 3))\n",
    "ax.plot(np.linalg.norm(qcts, ord=np.inf, axis=0), label='$\\|q\\|_\\infty$')\n",
    "ax.plot(np.max(qcts, axis=0), label='$\\max_i q_i$')\n",
    "ax.plot(np.min(qcts, axis=0), label='$\\min_i q_i$')\n",
    "ax.legend()\n",
    "plt.show()"
   ]
  },
  {
   "cell_type": "code",
   "execution_count": null,
   "id": "d21c2e04-c623-46f5-9237-ed94b49aa07d",
   "metadata": {},
   "outputs": [],
   "source": [
    "qcts = calc_qlims(\n",
    "    p, qe, v_lims=(v_min, v_max),\n",
    "    X=X, R=R, eta=8.63, eps=0.1, Tr=2, v_sub=12**2)"
   ]
  },
  {
   "cell_type": "code",
   "execution_count": null,
   "id": "cc3d4647-d93a-4c11-a4f9-047de5575840",
   "metadata": {},
   "outputs": [],
   "source": [
    "print(f'min q_i: {np.min(qcts):.4f}, max q_i: {np.max(qcts):.4f}')"
   ]
  },
  {
   "cell_type": "code",
   "execution_count": null,
   "id": "cd3eab9d-41cb-44d3-9c62-88d65d863670",
   "metadata": {},
   "outputs": [],
   "source": [
    "fig, ax = plt.subplots(1, 1, figsize=(4, 3))\n",
    "ax.plot(np.linalg.norm(qcts, ord=np.inf, axis=0), label='$\\|q\\|_\\infty$')\n",
    "ax.plot(np.max(qcts, axis=0), label='$\\max_i q_i$')\n",
    "ax.plot(np.min(qcts, axis=0), label='$\\min_i q_i$')\n",
    "ax.legend()\n",
    "plt.show()"
   ]
  },
  {
   "cell_type": "markdown",
   "id": "2320e384-c913-4ef4-b1fe-9928ad7db6ed",
   "metadata": {},
   "source": [
    "TODO:\n",
    "- decide which buses have controllable reactive power injection\n",
    "- decide which buses to check for voltage violations\n"
   ]
  },
  {
   "cell_type": "code",
   "execution_count": null,
   "id": "200fe3f5-dfbe-4e0e-9061-0b7eb7c9d947",
   "metadata": {},
   "outputs": [],
   "source": [
    "check_assumption_2(\n",
    "    p, qe, q_lims=(q_min, q_max), v_lims=(v_min, v_max),\n",
    "    X=X, R=R, eta=0, eps=0, Tr=6500, v_sub=12**2)"
   ]
  },
  {
   "cell_type": "code",
   "execution_count": null,
   "id": "0988f770-d002-4f38-a616-e758f5eb532c",
   "metadata": {},
   "outputs": [],
   "source": [
    "%debug"
   ]
  },
  {
   "cell_type": "markdown",
   "id": "6d4b905e-ee62-4080-8e13-f04552c8ce9e",
   "metadata": {},
   "source": [
    "## Test NCBC projection algorithm"
   ]
  },
  {
   "cell_type": "code",
   "execution_count": null,
   "id": "heard-richards",
   "metadata": {},
   "outputs": [],
   "source": [
    "n, T = qe.shape\n",
    "q_min, q_max = (-.25 , .25)   # MVar"
   ]
  },
  {
   "cell_type": "code",
   "execution_count": null,
   "id": "finished-drama",
   "metadata": {},
   "outputs": [],
   "source": [
    "# generate a random voltage trajectory\n",
    "us = np.zeros_like(qe)\n",
    "qcs = np.zeros_like(qe)\n",
    "for t in range(T):\n",
    "    # randomly sample a valid action u\n",
    "    u_ub = q_max - qcs[:, t-1]\n",
    "    u_lb = q_min - qcs[:, t-1]\n",
    "    u = rng.random(n) * (u_ub - u_lb) + u_lb\n",
    "    us[:, t] = u\n",
    "    qcs[:, t] = qcs[:, t-1] + u\n",
    "\n",
    "v_sq = calc_voltage_profile(X, R, p=p, qe=qe, qc=qcs, v_sub=12**2)"
   ]
  },
  {
   "cell_type": "code",
   "execution_count": null,
   "id": "0427a956-2cfd-4692-8fa6-ce1e8f11621a",
   "metadata": {},
   "outputs": [],
   "source": [
    "diff = (v_sq[:, 1:] - v_sq[:, :-1]) - X @ us[:, 1:]\n",
    "print(diff.max())\n",
    "print(diff.min())"
   ]
  },
  {
   "cell_type": "code",
   "execution_count": null,
   "id": "7bb72226-e306-4dcb-95c6-3b16305507e9",
   "metadata": {},
   "outputs": [],
   "source": [
    "n = v_sq.shape[0]\n",
    "sel = CBCProjection(eta=0.7, n=n, v=v_sq[:, 0], T=v_sq.shape[1], sample=True, true_X=X)"
   ]
  },
  {
   "cell_type": "code",
   "execution_count": null,
   "id": "acad1922-60e6-45fc-87de-9c55bfe52264",
   "metadata": {},
   "outputs": [],
   "source": [
    "ts = [0]\n",
    "dists_fro = []\n",
    "dists_max = []\n",
    "\n",
    "Xhat = sel.select()\n",
    "prev_Xhat = Xhat\n",
    "dists_fro.append(np.linalg.norm(Xhat - X, 'fro')**2)\n",
    "dists_max.append(np.abs(Xhat - X).max())"
   ]
  },
  {
   "cell_type": "code",
   "execution_count": null,
   "id": "ababb46c-9936-45c4-bdf0-c308c7c82b8f",
   "metadata": {},
   "outputs": [],
   "source": [
    "for t in tqdm(range(1, v_sq.shape[1])):\n",
    "    sel.add_obs(v=v_sq[:, t], u=us[:, t])\n",
    "    if t % 20 == 0:\n",
    "        Xhat = sel.select()\n",
    "        if prev_Xhat is not Xhat:\n",
    "            dist_fro = np.linalg.norm(Xhat - X, 'fro')**2\n",
    "            dist_max = np.abs(Xhat - X).max()\n",
    "            tqdm.write(f't = {t:6d}, ||Xhat-X||_fro**2 = {dist_fro:7.1f}, _max = {dist_max:5.3f}')\n",
    "            prev_Xhat = Xhat\n",
    "        ts.append(t)\n",
    "        dists_fro.append(dist_fro)\n",
    "        dists_max.append(dist_max)"
   ]
  },
  {
   "cell_type": "code",
   "execution_count": null,
   "id": "6ef7ca53-c68c-45a4-b869-d9b0bbbfc30f",
   "metadata": {},
   "outputs": [],
   "source": [
    "%debug"
   ]
  },
  {
   "cell_type": "code",
   "execution_count": null,
   "id": "5ee4d869-cadd-4f48-8744-6f1188c938a7",
   "metadata": {},
   "outputs": [],
   "source": [
    "fig, ax1 = plt.subplots(1, 1, figsize=(5, 4), tight_layout=True)\n",
    "ax1.plot(ts, dists_fro, label='$|| \\hat{X} - X ||_F^2$')\n",
    "\n",
    "color = 'tab:orange'\n",
    "ax2 = ax1.twinx()\n",
    "ax2.plot(ts, dists_max, label='$|| \\hat{X} - X ||_\\max$', color=color)\n",
    "ax2.tick_params(axis='y', labelcolor=color)\n",
    "\n",
    "fig.legend(loc='upper center')"
   ]
  },
  {
   "cell_type": "markdown",
   "id": "3f7c8e03-e863-4abc-9268-752c852b3efb",
   "metadata": {},
   "source": [
    "## Robust Voltage Control\n",
    "\n",
    "For simplicity, we use the discrete-time system\n",
    "$$\n",
    "\\begin{aligned}\n",
    "v(t) &= X [q^c(t) + q^e(t)] + R p(t) + v^0 \\one \\\\\n",
    "u(t) &= q^c(t+1) - q^c(t) \\\\\n",
    "q^c(0) &= \\zero \\\\\n",
    "w(t) &= X [q^e(t+1) - q^e(t)] + R[p(t+1) - p(t)] \\\\\n",
    "v(t+1) &= v(t) + X u(t) + w(t)\n",
    "\\end{aligned}\n",
    "$$\n",
    "and we assume\n",
    "$$\n",
    "\\begin{aligned}\n",
    "& \\forall t \\geq T_r.\\ \\exists u \\in \\mathcal{U}(t) \\text{ s.t. } \\\\\n",
    "& \\quad v(t) + X u \\in [\\vmin + (\\eta + \\epsilon)\\one, \\vmax - (\\eta + \\epsilon)\\one] \\\\\n",
    "& \\text{where } \\mathcal{U}(t) := \\{u \\in \\R^n:\\ \\qmin \\leq q^c(t) + u \\leq \\qmax\\}\n",
    "\\end{aligned}\n",
    "$$"
   ]
  },
  {
   "cell_type": "markdown",
   "id": "6092d43c-7642-4f4a-b8bb-6b63989abbd9",
   "metadata": {},
   "source": [
    "### Case 1: Default network\n",
    "\n",
    "- no smoothing: $\\eta = 8.7$\n",
    "- under-powered reactive power injection: $[\\qmin, \\qmax] = [-0.2, 0.2]$"
   ]
  },
  {
   "cell_type": "code",
   "execution_count": 8,
   "id": "b82f9e82-57ec-419e-8bde-48ef7b0acea9",
   "metadata": {},
   "outputs": [],
   "source": [
    "n, T = p.shape\n",
    "\n",
    "eta = 8.7\n",
    "epsilon = 0.1\n",
    "q_min, q_max = (-0.2, 0.2)\n",
    "v_min, v_max = (11.4**2, 12.6**2)  # +/-5%, units kV^2\n",
    "v_nom = 12**2  # nominal squared voltage magnitude, units kV^2\n",
    "v_sub = v_nom  # fixed squared voltage magnitude at substation, units kV^2\n",
    "\n",
    "v_init = X @ qe[:,0] + R @ p[:,0] + v_sub\n",
    "\n",
    "Pv = 0.1 * np.eye(n)\n",
    "Pu = 10 * np.eye(n)\n",
    "\n",
    "# weights on slack variables: alpha for CBC, beta for robust oracle\n",
    "alpha = 50\n",
    "beta = 10"
   ]
  },
  {
   "cell_type": "code",
   "execution_count": 9,
   "id": "7c68429a-c64a-4a24-9db1-1e38c54c7f37",
   "metadata": {},
   "outputs": [
    {
     "name": "stdout",
     "output_type": "stream",
     "text": [
      "widget? True\n"
     ]
    },
    {
     "data": {
      "application/vnd.jupyter.widget-view+json": {
       "model_id": "e20806f46bb043c5adb4a647b4c229f1",
       "version_major": 2,
       "version_minor": 0
      },
      "image/png": "[encoded data removed]",
      "text/plain": [
       "Canvas(toolbar=Toolbar(toolitems=[('Home', 'Reset original view', 'home', 'home'), ('Back', 'Back to previous …"
      ]
     },
     "metadata": {},
     "output_type": "display_data"
    }
   ],
   "source": [
    "volt_plot = VoltPlot(v_lims=(np.sqrt(v_min), np.sqrt(v_max)), q_lims=(q_min, q_max))"
   ]
  },
  {
   "cell_type": "code",
   "execution_count": 10,
   "id": "65986efc-b017-48fc-9f7c-43a946eab6e7",
   "metadata": {},
   "outputs": [
    {
     "name": "stdout",
     "output_type": "stream",
     "text": [
      "rho(eps=0.10) = 0.017\n",
      "CBC prob is DPP?: True\n"
     ]
    },
    {
     "data": {
      "application/vnd.jupyter.widget-view+json": {
       "model_id": "420824c127db4f16a6022b4192a9e331",
       "version_major": 2,
       "version_minor": 0
      },
      "text/plain": [
       "  0%|          | 0/14420 [00:00<?, ?it/s]"
      ]
     },
     "metadata": {},
     "output_type": "display_data"
    },
    {
     "name": "stdout",
     "output_type": "stream",
     "text": [
      "t =      0, ||Xhat-X||_△ =   164.8, ||Xhat-Xhat_prev||_△ = 0.000\n",
      "est_noise: 1.596\n",
      "est_noise: 1.760\n",
      "est_noise: 3.972\n",
      "est_noise: 10.207\n",
      "not lazy\n",
      "----------------------------------------------------------------------------\n",
      "\tSCS v2.1.4 - Splitting Conic Solver\n",
      "\t(c) Brendan O'Donoghue, Stanford University, 2012\n",
      "----------------------------------------------------------------------------\n",
      "Lin-sys: sparse-direct, nnz in A = 31791\n",
      "eps = 1.00e-04, alpha = 1.50, max_iters = 5000, normalize = 1, scale = 1.00\n",
      "acceleration_lookback = 10, rho_x = 1.00e-03\n",
      "Variables n = 1541, constraints m = 8031\n",
      "Cones:\tlinear vars: 3465\n",
      "\tsoc vars: 3026, soc blks: 1\n",
      "\tsd vars: 1540, sd blks: 1\n",
      "Setup time: 5.09e-02s\n",
      "----------------------------------------------------------------------------\n",
      " Iter | pri res | dua res | rel gap | pri obj | dua obj | kap/tau | time (s)\n",
      "----------------------------------------------------------------------------\n",
      "     0| 1.94e+21  1.00e+20  1.00e+00 -3.91e+23 -1.44e+19  1.97e+24  5.10e-02 \n",
      "Failure:Interrupted\n"
     ]
    },
    {
     "ename": "SolverError",
     "evalue": "Solver 'SCS' failed. Try another solver, or solve with verbose=True for more information.",
     "output_type": "error",
     "traceback": [
      "\u001b[0;31m---------------------------------------------------------------------------\u001b[0m",
      "\u001b[0;31mSolverError\u001b[0m                               Traceback (most recent call last)",
      "\u001b[0;32m/tmp/ipykernel_5982/1684912821.py\u001b[0m in \u001b[0;36m<module>\u001b[0;34m\u001b[0m\n\u001b[1;32m      2\u001b[0m                     v=v_init, X_true=X, X_init=np.eye(n))\n\u001b[1;32m      3\u001b[0m \u001b[0;34m\u001b[0m\u001b[0m\n\u001b[0;32m----> 4\u001b[0;31m vs, qcs = robust_voltage_control(\n\u001b[0m\u001b[1;32m      5\u001b[0m     \u001b[0mp\u001b[0m\u001b[0;34m=\u001b[0m\u001b[0mp\u001b[0m\u001b[0;34m,\u001b[0m \u001b[0mqe\u001b[0m\u001b[0;34m=\u001b[0m\u001b[0mqe\u001b[0m\u001b[0;34m,\u001b[0m \u001b[0mv_lims\u001b[0m\u001b[0;34m=\u001b[0m\u001b[0;34m(\u001b[0m\u001b[0mv_min\u001b[0m\u001b[0;34m,\u001b[0m \u001b[0mv_max\u001b[0m\u001b[0;34m)\u001b[0m\u001b[0;34m,\u001b[0m \u001b[0mq_lims\u001b[0m\u001b[0;34m=\u001b[0m\u001b[0;34m(\u001b[0m\u001b[0mq_min\u001b[0m\u001b[0;34m,\u001b[0m \u001b[0mq_max\u001b[0m\u001b[0;34m)\u001b[0m\u001b[0;34m,\u001b[0m \u001b[0mv_nom\u001b[0m\u001b[0;34m=\u001b[0m\u001b[0mv_nom\u001b[0m\u001b[0;34m,\u001b[0m\u001b[0;34m\u001b[0m\u001b[0;34m\u001b[0m\u001b[0m\n\u001b[1;32m      6\u001b[0m     \u001b[0mX\u001b[0m\u001b[0;34m=\u001b[0m\u001b[0mX\u001b[0m\u001b[0;34m,\u001b[0m \u001b[0mR\u001b[0m\u001b[0;34m=\u001b[0m\u001b[0mR\u001b[0m\u001b[0;34m,\u001b[0m \u001b[0mPv\u001b[0m\u001b[0;34m=\u001b[0m\u001b[0mPv\u001b[0m\u001b[0;34m,\u001b[0m \u001b[0mPu\u001b[0m\u001b[0;34m=\u001b[0m\u001b[0mPu\u001b[0m\u001b[0;34m,\u001b[0m \u001b[0meta\u001b[0m\u001b[0;34m=\u001b[0m\u001b[0meta\u001b[0m\u001b[0;34m,\u001b[0m \u001b[0meps\u001b[0m\u001b[0;34m=\u001b[0m\u001b[0mepsilon\u001b[0m\u001b[0;34m,\u001b[0m \u001b[0mv_sub\u001b[0m\u001b[0;34m=\u001b[0m\u001b[0mv_sub\u001b[0m\u001b[0;34m,\u001b[0m \u001b[0mbeta\u001b[0m\u001b[0;34m=\u001b[0m\u001b[0mbeta\u001b[0m\u001b[0;34m,\u001b[0m\u001b[0;34m\u001b[0m\u001b[0;34m\u001b[0m\u001b[0m\n",
      "\u001b[0;32m/mnt/d/Documents/Research/LTV/robust_voltage_control.py\u001b[0m in \u001b[0;36mrobust_voltage_control\u001b[0;34m(p, qe, v_lims, q_lims, v_nom, X, R, Pv, Pu, eta, eps, v_sub, beta, sel, volt_plot)\u001b[0m\n\u001b[1;32m    193\u001b[0m     \u001b[0;32mfor\u001b[0m \u001b[0mt\u001b[0m \u001b[0;32min\u001b[0m \u001b[0mtqdm\u001b[0m\u001b[0;34m(\u001b[0m\u001b[0mrange\u001b[0m\u001b[0;34m(\u001b[0m\u001b[0mT\u001b[0m\u001b[0;34m-\u001b[0m\u001b[0;36m1\u001b[0m\u001b[0;34m)\u001b[0m\u001b[0;34m)\u001b[0m\u001b[0;34m:\u001b[0m\u001b[0;34m\u001b[0m\u001b[0;34m\u001b[0m\u001b[0m\n\u001b[1;32m    194\u001b[0m         \u001b[0;31m# fill in Parameters\u001b[0m\u001b[0;34m\u001b[0m\u001b[0;34m\u001b[0m\u001b[0m\n\u001b[0;32m--> 195\u001b[0;31m         \u001b[0mXhat\u001b[0m\u001b[0;34m.\u001b[0m\u001b[0mvalue\u001b[0m \u001b[0;34m=\u001b[0m \u001b[0msel\u001b[0m\u001b[0;34m.\u001b[0m\u001b[0mselect\u001b[0m\u001b[0;34m(\u001b[0m\u001b[0;34m)\u001b[0m\u001b[0;34m\u001b[0m\u001b[0;34m\u001b[0m\u001b[0m\n\u001b[0m\u001b[1;32m    196\u001b[0m         \u001b[0mqct\u001b[0m\u001b[0;34m.\u001b[0m\u001b[0mvalue\u001b[0m \u001b[0;34m=\u001b[0m \u001b[0mqcs\u001b[0m\u001b[0;34m[\u001b[0m\u001b[0;34m:\u001b[0m\u001b[0;34m,\u001b[0m \u001b[0mt\u001b[0m\u001b[0;34m]\u001b[0m\u001b[0;34m\u001b[0m\u001b[0;34m\u001b[0m\u001b[0m\n\u001b[1;32m    197\u001b[0m         \u001b[0mvt\u001b[0m\u001b[0;34m.\u001b[0m\u001b[0mvalue\u001b[0m \u001b[0;34m=\u001b[0m \u001b[0mvs\u001b[0m\u001b[0;34m[\u001b[0m\u001b[0;34m:\u001b[0m\u001b[0;34m,\u001b[0m \u001b[0mt\u001b[0m\u001b[0;34m]\u001b[0m\u001b[0;34m\u001b[0m\u001b[0;34m\u001b[0m\u001b[0m\n",
      "\u001b[0;32m/mnt/d/Documents/Research/LTV/cbc.py\u001b[0m in \u001b[0;36mselect\u001b[0;34m(self)\u001b[0m\n\u001b[1;32m    110\u001b[0m                 \u001b[0;31m#               - self.alpha * slack)\u001b[0m\u001b[0;34m\u001b[0m\u001b[0;34m\u001b[0m\u001b[0m\n\u001b[1;32m    111\u001b[0m             \u001b[0mprob\u001b[0m \u001b[0;34m=\u001b[0m \u001b[0mcp\u001b[0m\u001b[0;34m.\u001b[0m\u001b[0mProblem\u001b[0m\u001b[0;34m(\u001b[0m\u001b[0mobjective\u001b[0m\u001b[0;34m=\u001b[0m\u001b[0mobj\u001b[0m\u001b[0;34m,\u001b[0m \u001b[0mconstraints\u001b[0m\u001b[0;34m=\u001b[0m\u001b[0mconstrs\u001b[0m\u001b[0;34m)\u001b[0m\u001b[0;34m\u001b[0m\u001b[0;34m\u001b[0m\u001b[0m\n\u001b[0;32m--> 112\u001b[0;31m             \u001b[0mprob\u001b[0m\u001b[0;34m.\u001b[0m\u001b[0msolve\u001b[0m\u001b[0;34m(\u001b[0m\u001b[0mverbose\u001b[0m\u001b[0;34m=\u001b[0m\u001b[0;32mTrue\u001b[0m\u001b[0;34m)\u001b[0m\u001b[0;34m\u001b[0m\u001b[0;34m\u001b[0m\u001b[0m\n\u001b[0m\u001b[1;32m    113\u001b[0m \u001b[0;34m\u001b[0m\u001b[0m\n\u001b[1;32m    114\u001b[0m         \u001b[0;31m# when t >= self.n_samples, compile a fixed-size optimization problem\u001b[0m\u001b[0;34m\u001b[0m\u001b[0;34m\u001b[0m\u001b[0m\n",
      "\u001b[0;32m~/miniconda3/envs/cms21/lib/python3.9/site-packages/cvxpy/problems/problem.py\u001b[0m in \u001b[0;36msolve\u001b[0;34m(self, *args, **kwargs)\u001b[0m\n\u001b[1;32m    399\u001b[0m         \u001b[0;32melse\u001b[0m\u001b[0;34m:\u001b[0m\u001b[0;34m\u001b[0m\u001b[0;34m\u001b[0m\u001b[0m\n\u001b[1;32m    400\u001b[0m             \u001b[0msolve_func\u001b[0m \u001b[0;34m=\u001b[0m \u001b[0mProblem\u001b[0m\u001b[0;34m.\u001b[0m\u001b[0m_solve\u001b[0m\u001b[0;34m\u001b[0m\u001b[0;34m\u001b[0m\u001b[0m\n\u001b[0;32m--> 401\u001b[0;31m         \u001b[0;32mreturn\u001b[0m \u001b[0msolve_func\u001b[0m\u001b[0;34m(\u001b[0m\u001b[0mself\u001b[0m\u001b[0;34m,\u001b[0m \u001b[0;34m*\u001b[0m\u001b[0margs\u001b[0m\u001b[0;34m,\u001b[0m \u001b[0;34m**\u001b[0m\u001b[0mkwargs\u001b[0m\u001b[0;34m)\u001b[0m\u001b[0;34m\u001b[0m\u001b[0;34m\u001b[0m\u001b[0m\n\u001b[0m\u001b[1;32m    402\u001b[0m \u001b[0;34m\u001b[0m\u001b[0m\n\u001b[1;32m    403\u001b[0m     \u001b[0;34m@\u001b[0m\u001b[0mclassmethod\u001b[0m\u001b[0;34m\u001b[0m\u001b[0;34m\u001b[0m\u001b[0m\n",
      "\u001b[0;32m~/miniconda3/envs/cms21/lib/python3.9/site-packages/cvxpy/problems/problem.py\u001b[0m in \u001b[0;36m_solve\u001b[0;34m(self, solver, warm_start, verbose, gp, qcp, requires_grad, enforce_dpp, **kwargs)\u001b[0m\n\u001b[1;32m    817\u001b[0m         solution = solving_chain.solve_via_data(\n\u001b[1;32m    818\u001b[0m             self, data, warm_start, verbose, kwargs)\n\u001b[0;32m--> 819\u001b[0;31m         \u001b[0mself\u001b[0m\u001b[0;34m.\u001b[0m\u001b[0munpack_results\u001b[0m\u001b[0;34m(\u001b[0m\u001b[0msolution\u001b[0m\u001b[0;34m,\u001b[0m \u001b[0msolving_chain\u001b[0m\u001b[0;34m,\u001b[0m \u001b[0minverse_data\u001b[0m\u001b[0;34m)\u001b[0m\u001b[0;34m\u001b[0m\u001b[0;34m\u001b[0m\u001b[0m\n\u001b[0m\u001b[1;32m    820\u001b[0m         \u001b[0;32mreturn\u001b[0m \u001b[0mself\u001b[0m\u001b[0;34m.\u001b[0m\u001b[0mvalue\u001b[0m\u001b[0;34m\u001b[0m\u001b[0;34m\u001b[0m\u001b[0m\n\u001b[1;32m    821\u001b[0m \u001b[0;34m\u001b[0m\u001b[0m\n",
      "\u001b[0;32m~/miniconda3/envs/cms21/lib/python3.9/site-packages/cvxpy/problems/problem.py\u001b[0m in \u001b[0;36munpack_results\u001b[0;34m(self, solution, chain, inverse_data)\u001b[0m\n\u001b[1;32m   1129\u001b[0m             )\n\u001b[1;32m   1130\u001b[0m         \u001b[0;32mif\u001b[0m \u001b[0msolution\u001b[0m\u001b[0;34m.\u001b[0m\u001b[0mstatus\u001b[0m \u001b[0;32min\u001b[0m \u001b[0ms\u001b[0m\u001b[0;34m.\u001b[0m\u001b[0mERROR\u001b[0m\u001b[0;34m:\u001b[0m\u001b[0;34m\u001b[0m\u001b[0;34m\u001b[0m\u001b[0m\n\u001b[0;32m-> 1131\u001b[0;31m             raise error.SolverError(\n\u001b[0m\u001b[1;32m   1132\u001b[0m                     \u001b[0;34m\"Solver '%s' failed. \"\u001b[0m \u001b[0;34m%\u001b[0m \u001b[0mchain\u001b[0m\u001b[0;34m.\u001b[0m\u001b[0msolver\u001b[0m\u001b[0;34m.\u001b[0m\u001b[0mname\u001b[0m\u001b[0;34m(\u001b[0m\u001b[0;34m)\u001b[0m \u001b[0;34m+\u001b[0m\u001b[0;34m\u001b[0m\u001b[0;34m\u001b[0m\u001b[0m\n\u001b[1;32m   1133\u001b[0m                     \u001b[0;34m\"Try another solver, or solve with verbose=True for more \"\u001b[0m\u001b[0;34m\u001b[0m\u001b[0;34m\u001b[0m\u001b[0m\n",
      "\u001b[0;31mSolverError\u001b[0m: Solver 'SCS' failed. Try another solver, or solve with verbose=True for more information."
     ]
    }
   ],
   "source": [
    "sel = CBCProjection(eta=eta, n=n, T=T, n_samples=20, alpha=alpha,\n",
    "                    v=v_init, X_true=X, X_init=np.eye(n))\n",
    "\n",
    "vs, qcs = robust_voltage_control(\n",
    "    p=p, qe=qe, v_lims=(v_min, v_max), q_lims=(q_min, q_max), v_nom=v_nom,\n",
    "    X=X, R=R, Pv=Pv, Pu=Pu, eta=eta, eps=epsilon, v_sub=v_sub, beta=beta,\n",
    "    sel=sel, volt_plot=volt_plot)"
   ]
  },
  {
   "cell_type": "code",
   "execution_count": null,
   "id": "0a462989-5084-49d4-8b1a-e705eb6bb50a",
   "metadata": {},
   "outputs": [],
   "source": [
    "volt_plot = VoltPlot(v_lims=(np.sqrt(v_min), np.sqrt(v_max)), q_lims=(q_min, q_max))"
   ]
  },
  {
   "cell_type": "code",
   "execution_count": null,
   "id": "33df20d6-176c-47b1-bffd-1a3d8bef97f2",
   "metadata": {},
   "outputs": [],
   "source": [
    "sel = CBCProjection(eta=eta, n=n, T=T, n_samples=20, alpha=alpha,\n",
    "                    v=v_init, X_true=X, X_init=np.ones([n,n]))\n",
    "\n",
    "vs, qcs = robust_voltage_control(\n",
    "    p=p, qe=qe, v_lims=(v_min, v_max), q_lims=(q_min, q_max), v_nom=v_nom,\n",
    "    X=X, R=R, Pv=Pv, Pu=Pu, eta=eta, eps=epsilon, v_sub=v_sub, beta=beta,\n",
    "    sel=sel, volt_plot=volt_plot)"
   ]
  },
  {
   "cell_type": "code",
   "execution_count": null,
   "id": "0a4ac22d-9b5d-48bf-a2e2-bf4e54a394fd",
   "metadata": {},
   "outputs": [],
   "source": [
    "volt_plot = VoltPlot(v_lims=(np.sqrt(v_min), np.sqrt(v_max)), q_lims=(q_min, q_max))"
   ]
  },
  {
   "cell_type": "code",
   "execution_count": null,
   "id": "075b41a4-521d-443b-99f1-e6b0440e8192",
   "metadata": {},
   "outputs": [],
   "source": [
    "vs, qcs = robust_voltage_control(\n",
    "    p=p, qe=qe, v_lims=(v_min, v_max), q_lims=(q_min, q_max), v_nom=v_nom,\n",
    "    X=X, R=R, Pv=Pv, Pu=Pu, eta=eta, eps=epsilon, v_sub=v_sub, volt_plot=volt_plot)"
   ]
  },
  {
   "cell_type": "code",
   "execution_count": null,
   "id": "1c7e48d7-be2a-4aed-8e58-250a5393501c",
   "metadata": {},
   "outputs": [],
   "source": [
    "%debug"
   ]
  },
  {
   "cell_type": "code",
   "execution_count": null,
   "id": "0ab289e0-24f2-466a-b498-14715b2f8d41",
   "metadata": {},
   "outputs": [],
   "source": [
    "fig, ax = plt.subplots(1, 1, figsize=(5,3))"
   ]
  },
  {
   "cell_type": "code",
   "execution_count": null,
   "id": "3792330b-0d25-4230-97b7-6beaa2bd5002",
   "metadata": {},
   "outputs": [],
   "source": [
    "import time\n",
    "for i in range(100):\n",
    "    ax.plot(range(i,2*i), range(i))\n",
    "    fig.canvas.draw()\n",
    "    time.sleep(0.2)"
   ]
  },
  {
   "cell_type": "code",
   "execution_count": null,
   "id": "b2e6cd02-1315-4973-8756-27a0ed2fb51e",
   "metadata": {},
   "outputs": [],
   "source": [
    "tqdm.write('3')\n",
    "IPython.display.clear_output()\n",
    "tqdm.write('4')"
   ]
  },
  {
   "cell_type": "code",
   "execution_count": null,
   "id": "2911b20e-38e0-4dac-8a9f-a72d2d6c987c",
   "metadata": {},
   "outputs": [],
   "source": [
    "%matplotlib widget"
   ]
  },
  {
   "cell_type": "code",
   "execution_count": null,
   "id": "05166710-4e84-499e-8724-909d939f634d",
   "metadata": {},
   "outputs": [],
   "source": [
    "import matplotlib.pyplot as plt\n",
    "plt.plot(range(5))"
   ]
  },
  {
   "cell_type": "code",
   "execution_count": null,
   "id": "edf48f5e-3aec-4ce4-b3e7-3d5c8b366475",
   "metadata": {},
   "outputs": [],
   "source": [
    "fig, ax = plt.subplots(1, 1, figsize=(5,3))"
   ]
  },
  {
   "cell_type": "code",
   "execution_count": null,
   "id": "d8cb24d0-7c14-4993-9fe7-13f835282781",
   "metadata": {},
   "outputs": [],
   "source": [
    "ax.plot(range(10))"
   ]
  },
  {
   "cell_type": "code",
   "execution_count": null,
   "id": "a468a232-b4b4-4746-a9cc-85e952ebd68c",
   "metadata": {},
   "outputs": [],
   "source": [
    "from ipywidgets import Button\n",
    "Button(description='test')"
   ]
  },
  {
   "cell_type": "code",
   "execution_count": null,
   "id": "87cef68e-487e-47bb-9ca2-01bbc29fd266",
   "metadata": {},
   "outputs": [],
   "source": [
    "import matplotlib\n",
    "matplotlib.__version__"
   ]
  },
  {
   "cell_type": "code",
   "execution_count": null,
   "id": "26141a6e-3f7c-4a2e-b2c1-c4d127bb06ca",
   "metadata": {},
   "outputs": [],
   "source": []
  }
 ],
 "metadata": {
  "interpreter": {
   "hash": "59e3cd7c3981b26b315ec20d2b003be4f68789cbddf92b711cd4c200ba8cfb2d"
  },
  "kernelspec": {
   "display_name": "Python 3 (ipykernel)",
   "language": "python",
   "name": "python3"
  },
  "language_info": {
   "codemirror_mode": {
    "name": "ipython",
    "version": 3
   },
   "file_extension": ".py",
   "mimetype": "text/x-python",
   "name": "python",
   "nbconvert_exporter": "python",
   "pygments_lexer": "ipython3",
   "version": "3.9.7"
  }
 },
 "nbformat": 4,
 "nbformat_minor": 5
}
