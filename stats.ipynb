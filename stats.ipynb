{
 "cells": [
  {
   "cell_type": "code",
   "execution_count": null,
   "id": "65c5bbd3-18ca-48b7-a4a5-9fa7471a251f",
   "metadata": {},
   "outputs": [],
   "source": [
    "%load_ext autoreload\n",
    "%autoreload 2\n",
    "%matplotlib inline\n",
    "# %matplotlib widget"
   ]
  },
  {
   "cell_type": "code",
   "execution_count": null,
   "id": "cc8c0c04-1c83-4a6b-8246-07c4b61f6958",
   "metadata": {},
   "outputs": [],
   "source": [
    "from __future__ import annotations\n",
    "\n",
    "import cvxpy as cp\n",
    "import matplotlib.pyplot as plt\n",
    "import matplotlib_inline\n",
    "import numpy as np\n",
    "import pandas as pd\n",
    "from tqdm.auto import tqdm\n",
    "\n",
    "from network_utils import (\n",
    "    create_56bus,\n",
    "    create_RX_from_net,\n",
    "    read_load_data\n",
    ")\n",
    "\n",
    "from cbc import CBCProjection, cp_triangle_norm_sq\n",
    "from robust_voltage_control import (\n",
    "    VoltPlot,\n",
    "    np_triangle_norm,\n",
    "    robust_voltage_control\n",
    ")\n",
    "\n",
    "matplotlib_inline.backend_inline.set_matplotlib_formats('svg')\n",
    "\n",
    "# hide top and right splines on plots\n",
    "# plt.rcParams['axes.spines.right'] = False\n",
    "plt.rcParams['axes.spines.top'] = False"
   ]
  },
  {
   "cell_type": "markdown",
   "id": "195e50b7-62ac-4380-b38e-bc94563dca4c",
   "metadata": {
    "tags": []
   },
   "source": [
    "## Calculate minimum q-limits needed to keep voltage within bounds\n",
    "\n",
    "Answer: ±0.23757973725624573"
   ]
  },
  {
   "cell_type": "code",
   "execution_count": null,
   "id": "55e7c53d-3975-47f3-a5dd-98b44f9c8ce4",
   "metadata": {},
   "outputs": [],
   "source": [
    "net = create_56bus()\n",
    "R, X = create_RX_from_net(net, noise=0)\n",
    "p, qe = read_load_data()  # in MW and MVar\n",
    "T, n = p.shape"
   ]
  },
  {
   "cell_type": "code",
   "execution_count": null,
   "id": "97240203-2eec-4fce-a27d-fa34cd1a8f3e",
   "metadata": {},
   "outputs": [],
   "source": [
    "v_min, v_max = (11.4**2, 12.6**2)  # +/-5%, units kV^2\n",
    "v_nom = 12**2  # nominal squared voltage magnitude, units kV^2\n",
    "v_sub = v_nom  # fixed squared voltage magnitude at substation, units kV^2\n",
    "\n",
    "vpars = qe @ X + p @ R + v_sub  # shape [T, n]\n",
    "Vpar_min = np.min(vpars, axis=1)  # shape [n]\n",
    "Vpar_max = np.max(vpars, axis=1)  # shape [n]"
   ]
  },
  {
   "cell_type": "code",
   "execution_count": null,
   "id": "26f99bce-7ffd-47a7-b351-ebb7e18d61e3",
   "metadata": {},
   "outputs": [],
   "source": [
    "batch_size = 69  # choose a number that T is divisible by\n",
    "assert T % batch_size == 0\n",
    "\n",
    "vpars_param = cp.Parameter([batch_size, n])\n",
    "qcs = cp.Variable([batch_size, n])\n",
    "obj = cp.Minimize(cp.max(cp.abs(qcs)))\n",
    "constrs = [\n",
    "    v_min <= qcs @ X + vpars_param,\n",
    "    qcs @ X + vpars_param <= v_max]\n",
    "prob = cp.Problem(obj, constrs)"
   ]
  },
  {
   "cell_type": "code",
   "execution_count": null,
   "id": "a250bc88-d84b-4d4f-a2f8-7d9b442f6cf8",
   "metadata": {},
   "outputs": [],
   "source": [
    "bounds = []\n",
    "for i in tqdm(range(T // batch_size)):\n",
    "    vpars_param.value = vpars[i*batch_size:(i+1)*batch_size]\n",
    "    prob.solve(solver=cp.MOSEK, warm_start=True)\n",
    "    # tqdm.write(f'{i}, {prob.value}')\n",
    "    bounds.append(prob.value)\n",
    "print(np.max(bounds))"
   ]
  },
  {
   "cell_type": "markdown",
   "id": "723b33fa-53ab-4d92-9dac-3d685d140de6",
   "metadata": {},
   "source": [
    "## Plot $\\left\\|\\hat{X}-X\\right\\|_\\triangle$ as a function of line-parameter noise"
   ]
  },
  {
   "cell_type": "code",
   "execution_count": null,
   "id": "09de4435-5cbe-4883-b798-a749154c068d",
   "metadata": {},
   "outputs": [],
   "source": [
    "net = create_56bus()\n",
    "_, X_true = create_RX_from_net(net, noise=0)\n",
    "norm_true = np_triangle_norm(X_true)\n",
    "print(f'||X||△ = {norm_true}')\n",
    "\n",
    "nsamples = 50\n",
    "noises = np.arange(0.01, 1, 0.01)\n",
    "norms = np.zeros([len(noises), nsamples])\n",
    "for i, noise in tqdm(enumerate(noises)):\n",
    "    for j in range(nsamples):\n",
    "        _, Xhat = create_RX_from_net(net, noise=noise, check_pd=True, seed=None)\n",
    "        norms[i,j] = np_triangle_norm(X_true - Xhat)"
   ]
  },
  {
   "cell_type": "code",
   "execution_count": null,
   "id": "322eb60d-b40e-40b5-a69e-ee2e23d27298",
   "metadata": {},
   "outputs": [],
   "source": [
    "norms_mean = norms.mean(axis=1)\n",
    "norms_std = norms.std(axis=1)\n",
    "\n",
    "fig, ax = plt.subplots(1, 1, figsize=(5,4), tight_layout=True)\n",
    "ax.plot(noises, norms_mean)\n",
    "ax.fill_between(noises, norms_mean - norms_std, norms_mean + norms_std, alpha=0.5)\n",
    "for j in range(nsamples):\n",
    "    ax.scatter(noises, norms[:,j], s=1, color='b', alpha=0.1)\n",
    "ax.set(xlabel='Uniform noise', ylabel='$||\\hat{X}-X||$')\n",
    "\n",
    "ax2 = ax.twinx()\n",
    "y_min, y_max = ax.get_ylim()\n",
    "ax2.set_ylim(y_min / norm_true, y_max / norm_true)\n",
    "ax2.set(ylabel='$||\\hat{X}-X|| / ||X||$')"
   ]
  }
 ],
 "metadata": {
  "kernelspec": {
   "display_name": "Python 3 (ipykernel)",
   "language": "python",
   "name": "python3"
  },
  "language_info": {
   "codemirror_mode": {
    "name": "ipython",
    "version": 3
   },
   "file_extension": ".py",
   "mimetype": "text/x-python",
   "name": "python",
   "nbconvert_exporter": "python",
   "pygments_lexer": "ipython3",
   "version": "3.9.7"
  }
 },
 "nbformat": 4,
 "nbformat_minor": 5
}
