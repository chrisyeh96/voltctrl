{
 "cells": [
  {
   "cell_type": "markdown",
   "metadata": {},
   "source": [
    "## Inspect Provided Data\n",
    "\n",
    "This notebook inspects and plots the data provided in `data/`."
   ]
  },
  {
   "cell_type": "code",
   "execution_count": 1,
   "metadata": {},
   "outputs": [],
   "source": [
    "%load_ext autoreload\n",
    "%autoreload 2\n",
    "%matplotlib inline"
   ]
  },
  {
   "cell_type": "code",
   "execution_count": 2,
   "metadata": {},
   "outputs": [],
   "source": [
    "from __future__ import annotations\n",
    "\n",
    "from collections.abc import Sequence\n",
    "\n",
    "import matplotlib.pyplot as plt\n",
    "import numpy as np\n",
    "import pandas as pd\n",
    "import scipy.io as spio\n",
    "import scipy.stats\n",
    "\n",
    "from network_utils import (\n",
    "    create_56bus,\n",
    "    create_RX_from_net,\n",
    "    calc_voltage_profile)\n",
    "\n",
    "from matplotlib_inline.backend_inline import set_matplotlib_formats\n",
    "set_matplotlib_formats('svg')\n",
    "\n",
    "# hide top and right splines on plots\n",
    "plt.rcParams['axes.spines.right'] = False\n",
    "plt.rcParams['axes.spines.top'] = False"
   ]
  },
  {
   "cell_type": "code",
   "execution_count": 3,
   "metadata": {},
   "outputs": [],
   "source": [
    "time_ticks =  [0      ,    2400,    4800,    7200,    9600,   12000,   14400]\n",
    "time_labels = ['0h', '4h', '8h', '12h', '16h', '20h', '24h']\n",
    "# time_labels = ['00:00', '04:00', '08:00', '12:00', '16:00', '20:00', '24:00']\n",
    "\n",
    "vmin = 11.4  # kV\n",
    "vmax = 12.6"
   ]
  },
  {
   "cell_type": "code",
   "execution_count": 4,
   "metadata": {},
   "outputs": [],
   "source": [
    "def savefig(fig: plt.Figure, file_path: str) -> None:\n",
    "    fig.savefig(file_path, dpi=200, pad_inches=0, bbox_inches='tight')"
   ]
  },
  {
   "cell_type": "markdown",
   "metadata": {},
   "source": [
    "## Load aggregate data"
   ]
  },
  {
   "cell_type": "code",
   "execution_count": null,
   "metadata": {},
   "outputs": [],
   "source": [
    "# load the mat files\n",
    "solar = spio.loadmat('data/PV.mat', squeeze_me=True)\n",
    "aggr_p = spio.loadmat('data/aggr_p.mat', squeeze_me=True)\n",
    "aggr_q = spio.loadmat('data/aggr_q.mat', squeeze_me=True)\n",
    "pq_fluc = spio.loadmat('data/pq_fluc.mat', squeeze_me=True)\n",
    "\n",
    "# for mat in [actual_solar, actual_p, actual_q, pq_fluc]:\n",
    "#     display(mat)\n",
    "\n",
    "# all of the `.mat` files have only 1 key each\n",
    "solar = solar['actual_PV_profile']  # shape [14421]\n",
    "aggr_p = aggr_p['p']  # shape [14421]\n",
    "aggr_q = aggr_q['q']  # shape [14421]\n",
    "pq_fluc = pq_fluc['pq_fluc']  # shape [55, 2, 14421]"
   ]
  },
  {
   "cell_type": "code",
   "execution_count": null,
   "metadata": {},
   "outputs": [],
   "source": [
    "# for reference: there are 14,400 seconds in a 24-hour period\n",
    "for x in [solar, aggr_p, aggr_q, pq_fluc]:\n",
    "    print(x.dtype, x.shape)"
   ]
  },
  {
   "cell_type": "markdown",
   "metadata": {},
   "source": [
    "## Explore aggregated data\n",
    "\n",
    "Aggregated data is the sum of the per-bus data. Note that the aggregated active power load does not include the effect of solar generation. That is, the net active power load is:\n",
    "\n",
    "```python\n",
    "net_active_load = aggr_p - solar\n",
    "```"
   ]
  },
  {
   "cell_type": "code",
   "execution_count": null,
   "metadata": {},
   "outputs": [],
   "source": [
    "df = pd.DataFrame({'solar': solar, 'p': aggr_p, 'q': aggr_q})\n",
    "df.describe()"
   ]
  },
  {
   "cell_type": "code",
   "execution_count": null,
   "metadata": {},
   "outputs": [],
   "source": [
    "# Recreate Fig7 from Qu and Li (2020), equivalent to Fig5 (left) from  Shi et al. (2021)\n",
    "fig, ax = plt.subplots(figsize=(5, 4))\n",
    "ax.plot(solar, label='Solar (MW)')\n",
    "ax.plot(aggr_p, label='Active Load (MW)')\n",
    "ax.plot(aggr_q, label='Reactive Load (MVar)')\n",
    "\n",
    "ax.legend(loc='upper left')\n",
    "ax.set(xlabel='Time (Hour)', ylabel='Power')\n",
    "ax.set(xticks=time_ticks, xticklabels=time_labels)\n",
    "plt.show()"
   ]
  },
  {
   "cell_type": "code",
   "execution_count": null,
   "metadata": {},
   "outputs": [],
   "source": [
    "# plot only solar and active load\n",
    "fig, ax = plt.subplots(figsize=(4,3), tight_layout=True)\n",
    "ax.plot(solar, label='Solar (MW)')\n",
    "ax.plot(aggr_p, label='Active Load (MW)', color='tab:orange')\n",
    "ax.plot(aggr_p - solar, ' ', label='Net load (MW)', color='tab:green')\n",
    "\n",
    "ax.set(ylabel='Power (MW)')\n",
    "ax.set(xticks=time_ticks, xticklabels=time_labels)\n",
    "savefig(fig, 'plots/sce56_solar_and_load.svg')\n",
    "\n",
    "ax.plot(aggr_p - solar, ':', label='Net load (MW)', color='tab:green')\n",
    "savefig(fig, 'plots/sce56_net_load.svg')"
   ]
  },
  {
   "cell_type": "markdown",
   "metadata": {},
   "source": [
    "## Explore per-bus data\n",
    "\n",
    "Whereas the aggregate `p` and `q` were specified as \"load\", the per-bus data is specified as \"power injection\". That is, the signs are opposite.\n",
    "\n",
    "Furthermore, per-bus `p` is _net_ active power injection (solar generation - load). Hence,\n",
    "\n",
    "```python\n",
    "solar - aggr_p = all_p.sum(axis=0)\n",
    "```"
   ]
  },
  {
   "cell_type": "code",
   "execution_count": null,
   "metadata": {},
   "outputs": [],
   "source": [
    "all_p = pq_fluc[:, 0]  # shape [n, T]\n",
    "all_q = pq_fluc[:, 1]  # shape [n, T]\n",
    "\n",
    "assert np.allclose(solar - all_p.sum(axis=0), aggr_p)\n",
    "assert np.allclose(-all_q.sum(axis=0), aggr_q)"
   ]
  },
  {
   "cell_type": "code",
   "execution_count": null,
   "metadata": {},
   "outputs": [],
   "source": [
    "p_df = pd.DataFrame(all_p.T)  # rows = time, cols = buses\n",
    "q_df = pd.DataFrame(all_q.T)\n",
    "\n",
    "min_p = p_df.min()\n",
    "max_p = p_df.max()\n",
    "\n",
    "fig, axs = plt.subplots(1, 2, figsize=(8, 4), sharey=True, tight_layout=True)\n",
    "ax = axs[0]\n",
    "ax.set_title('active power injection')\n",
    "min_p.plot(kind='bar', ax=ax, color='blue', label='min')\n",
    "max_p.plot(kind='bar', ax=ax, color='orange', label='max')\n",
    "\n",
    "for i in max_p.index:\n",
    "    val = max_p.loc[i]\n",
    "    if val > 0.1:\n",
    "        ax.annotate(f'{val:.2f}\\n({i})', (i - 2, val + 0.1))\n",
    "\n",
    "ax = axs[1]\n",
    "ax.set_title('reactive power injection')\n",
    "q_df.min().plot(kind='bar', ax=ax, color='blue', label='min')\n",
    "q_df.max().plot(kind='bar', ax=ax, color='orange', label='max')\n",
    "\n",
    "for ax in axs:\n",
    "    ax.set(xlabel='bus ID', xticks=range(0, 55, 5))\n",
    "    ax.legend()\n",
    "\n",
    "plt.show()"
   ]
  },
  {
   "cell_type": "markdown",
   "metadata": {},
   "source": [
    "Plot buses whose active power injections are most and least correlated with solar"
   ]
  },
  {
   "cell_type": "code",
   "execution_count": null,
   "metadata": {},
   "outputs": [],
   "source": [
    "pv_corr = pd.Series(\n",
    "    data=[scipy.stats.pearsonr(p, solar)[0] for p in all_p],\n",
    "    name='corr')\n",
    "pv_corr.sort_values(ascending=False, inplace=True)\n",
    "pv_corr.index += 1\n",
    "display(pv_corr.head())\n",
    "display(pv_corr.tail())\n",
    "\n",
    "fig, ax = plt.subplots(1, 1, tight_layout=True)\n",
    "ax.plot(solar)\n",
    "for i in pv_corr.index[:5]:\n",
    "    ax.plot(all_p[i-1], label=f'{i}, r={pv_corr.loc[i]:.2f}')\n",
    "for i in pv_corr.index[-5:]:\n",
    "    ax.plot(all_p[i-1], label=f'{i}, r={pv_corr.loc[i]:.2f}')\n",
    "ax.legend(title='node ID')\n",
    "ax.set(xlabel='Time', ylabel='Power (MW)', title='active power injection')\n",
    "ax.set_xticks(time_ticks)\n",
    "ax.set_xticklabels(time_labels)\n",
    "plt.show()"
   ]
  },
  {
   "cell_type": "code",
   "execution_count": null,
   "metadata": {},
   "outputs": [],
   "source": [
    "pv_nodes_gq = np.array([2, 4, 7, 8, 9, 10, 11, 12, 13, 14, 15, 16, 19, 20, 23, 25, 26, 32])\n",
    "pv_corr.loc[pv_nodes_gq - 1]"
   ]
  },
  {
   "cell_type": "code",
   "execution_count": null,
   "metadata": {},
   "outputs": [],
   "source": [
    "net = create_56bus()\n",
    "R, X = create_RX_from_net(net)\n",
    "v_sq = calc_voltage_profile(X, R, p=all_p, qe=all_q, qc=0, v_sub=12**2)\n",
    "v = np.sqrt(v_sq)"
   ]
  },
  {
   "cell_type": "code",
   "execution_count": null,
   "metadata": {},
   "outputs": [],
   "source": [
    "def plot_voltage_and_injections(indices: Sequence[int], offset: int = 0) -> None:\n",
    "    fig, axs = plt.subplots(1, 3, figsize=(12, 4), tight_layout=True)\n",
    "\n",
    "    for i in np.array(indices) - offset:\n",
    "        axs[0].plot(v[i], label=f'bus {i+offset}')\n",
    "        axs[1].plot(all_p[i])\n",
    "        axs[2].plot(all_q[i])\n",
    "\n",
    "    for ax in axs:\n",
    "        ax.set(xticks=time_ticks, xticklabels=time_labels)\n",
    "\n",
    "    ax = axs[0]\n",
    "    ax.axhline(vmin, ls='--')\n",
    "    ax.axhline(vmax, ls='--')\n",
    "    ax.legend()\n",
    "    ax.set_title('Voltage Profile without Controller')\n",
    "\n",
    "    axs[1].set_title('Active power injection ($p$, MW)')\n",
    "    axs[2].set_title('Reactive power injection ($q^e$, MVar)')\n",
    "\n",
    "    plt.show()"
   ]
  },
  {
   "cell_type": "code",
   "execution_count": null,
   "metadata": {},
   "outputs": [],
   "source": [
    "# Recreate Fig8 (right) in Qu and Li (2020)\n",
    "# - they count the substation as bus 1\n",
    "# - we count the substation as bus -1\n",
    "index = [9, 19, 22, 31, 40, 46, 55]\n",
    "plot_voltage_and_injections(indices=index, offset=2)"
   ]
  },
  {
   "cell_type": "code",
   "execution_count": null,
   "metadata": {},
   "outputs": [],
   "source": [
    "# Recreate Fig5 (middle) in Shi et al. (2021)\n",
    "# - like us, they count the substation as bus -1\n",
    "index = [8, 10, 18, 21, 29, 45, 54]\n",
    "plot_voltage_and_injections(indices=index)"
   ]
  },
  {
   "cell_type": "markdown",
   "metadata": {},
   "source": [
    "Plot nodes with largest violations above and below the limits"
   ]
  },
  {
   "cell_type": "code",
   "execution_count": null,
   "metadata": {},
   "outputs": [],
   "source": [
    "pos_maxviolate_node = v.max(axis=1).argmax()\n",
    "neg_maxviolate_node = v.min(axis=1).argmin()\n",
    "print(f'Node: {pos_maxviolate_node}, Voltage: {v[pos_maxviolate_node].max()}')\n",
    "print(f'Node: {neg_maxviolate_node}, Voltage: {v[neg_maxviolate_node].min()}')"
   ]
  },
  {
   "cell_type": "code",
   "execution_count": null,
   "metadata": {},
   "outputs": [],
   "source": [
    "index = [17, 35]\n",
    "plot_voltage_and_injections(indices=index)"
   ]
  },
  {
   "cell_type": "code",
   "execution_count": 16,
   "metadata": {},
   "outputs": [
    {
     "name": "stderr",
     "output_type": "stream",
     "text": [
      "/Users/jing/opt/anaconda3/lib/python3.7/site-packages/scipy/io/matlab/mio.py:218: MatReadWarning: Duplicate variable name \"None\" in stream - replacing previous with new\n",
      "Consider mio5.varmats_from_mat to split file into single variable files\n",
      "  matfile_dict = MR.get_variables(variable_names)\n"
     ]
    }
   ],
   "source": [
    "solar_orig = spio.loadmat('orig_data/pvavail20150908_2.mat', squeeze_me=True)\n",
    "actual_p = spio.loadmat('data/aggr_p.mat', squeeze_me=True)\n",
    "actual_q = spio.loadmat('data/aggr_q.mat', squeeze_me=True)"
   ]
  },
  {
   "cell_type": "code",
   "execution_count": 21,
   "metadata": {},
   "outputs": [
    {
     "data": {
      "text/plain": [
       "array([('P5076423', 85, 75, 121.6, array([0., 0., 0., ..., 0., 0., 0.]), array([0., 0., 0., ..., 0., 0., 0.])),\n",
       "       ('P5073132', 121, 150, 100, array([0., 0., 0., ..., 0., 0., 0.]), array([0., 0., 0., ..., 0., 0., 0.])),\n",
       "       ('P5620916', 71, 75, 0, 0, 0),\n",
       "       ('P5446952', 48, 750, 481, array([0., 0., 0., ..., 0., 0., 0.]), array([0., 0., 0., ..., 0., 0., 0.])),\n",
       "       ('P5078992', 125, 150, 50.2, array([0., 0., 0., ..., 0., 0., 0.]), array([0., 0., 0., ..., 0., 0., 0.])),\n",
       "       ('4471502E', 41, 25, 0, 0, 0), ('P5506503', 28, 750, 0, 0, 0),\n",
       "       ('4801319E', 25, 300, 0, 0, 0),\n",
       "       ('P5398618', 86, 300, 188.1, array([0., 0., 0., ..., 0., 0., 0.]), array([0., 0., 0., ..., 0., 0., 0.])),\n",
       "       ('1680892E', 3, 15, 0, 0, 0),\n",
       "       ('P5512210', 44, 75, 106.1, array([0., 0., 0., ..., 0., 0., 0.]), array([0., 0., 0., ..., 0., 0., 0.])),\n",
       "       ('P5320414', 8, 300, 61.6, array([0., 0., 0., ..., 0., 0., 0.]), array([0., 0., 0., ..., 0., 0., 0.])),\n",
       "       ('P5072219', 115, 1000, 791.1, array([0., 0., 0., ..., 0., 0., 0.]), array([0., 0., 0., ..., 0., 0., 0.])),\n",
       "       ('P5072218', 117, 150, 159.8, array([0., 0., 0., ..., 0., 0., 0.]), array([0., 0., 0., ..., 0., 0., 0.])),\n",
       "       ('P5447256', 23, 500, 13.5, array([0., 0., 0., ..., 0., 0., 0.]), array([0., 0., 0., ..., 0., 0., 0.])),\n",
       "       ('P5497746', 63, 50, 2.205, array([0., 0., 0., ..., 0., 0., 0.]), array([0., 0., 0., ..., 0., 0., 0.])),\n",
       "       ('P5320416', 9, 300, 71.9, array([0., 0., 0., ..., 0., 0., 0.]), array([0., 0., 0., ..., 0., 0., 0.])),\n",
       "       ('J016A-1PT', 80, 25, 0, 0, 0),\n",
       "       ('P5320417', 10, 500, 600, array([0., 0., 0., ..., 0., 0., 0.]), array([0., 0., 0., ..., 0., 0., 0.])),\n",
       "       ('P5076693', 16, 300, 11.4, array([0., 0., 0., ..., 0., 0., 0.]), array([0., 0., 0., ..., 0., 0., 0.])),\n",
       "       ('S5075867', 36, 25, 0, 0, 0),\n",
       "       ('P5444357', 19, 1000, 66, array([0., 0., 0., ..., 0., 0., 0.]), array([0., 0., 0., ..., 0., 0., 0.])),\n",
       "       ('P5078132', 105, 1000, 700, array([0., 0., 0., ..., 0., 0., 0.]), array([0., 0., 0., ..., 0., 0., 0.])),\n",
       "       ('P5517653', 32, 2500, 100, array([0., 0., 0., ..., 0., 0., 0.]), array([0., 0., 0., ..., 0., 0., 0.])),\n",
       "       ('B5077100', 57, 50, 0, 0, 0),\n",
       "       ('P5398619', 88, 300, 19.2, array([0., 0., 0., ..., 0., 0., 0.]), array([0., 0., 0., ..., 0., 0., 0.])),\n",
       "       ('P5468243', 91, 500, 0, 0, 0),\n",
       "       ('P5076416', 99, 300, 166.3, array([0., 0., 0., ..., 0., 0., 0.]), array([0., 0., 0., ..., 0., 0., 0.])),\n",
       "       ('P5468242', 90, 225, 36.9, array([0., 0., 0., ..., 0., 0., 0.]), array([0., 0., 0., ..., 0., 0., 0.])),\n",
       "       ('P5445351', 65, 500, 10, array([0., 0., 0., ..., 0., 0., 0.]), array([0., 0., 0., ..., 0., 0., 0.])),\n",
       "       ('P5076415', 100, 1000, 113.1, array([0., 0., 0., ..., 0., 0., 0.]), array([0., 0., 0., ..., 0., 0., 0.])),\n",
       "       ('P5497748', 68, 75, 4.6, array([0., 0., 0., ..., 0., 0., 0.]), array([0., 0., 0., ..., 0., 0., 0.])),\n",
       "       ('P5077650', 123, 750, 19.4, array([0., 0., 0., ..., 0., 0., 0.]), array([0., 0., 0., ..., 0., 0., 0.])),\n",
       "       ('P5512049', 40, 150, 6.3, array([0., 0., 0., ..., 0., 0., 0.]), array([0., 0., 0., ..., 0., 0., 0.])),\n",
       "       ('1680707E', 26, 25, 0, 0, 0),\n",
       "       ('P5444277', 82, 2500, 208, array([0., 0., 0., ..., 0., 0., 0.]), array([0., 0., 0., ..., 0., 0., 0.])),\n",
       "       ('2115385E', 61, 137.5, 0, 0, 0),\n",
       "       ('P5076413', 110, 300, 81.2, array([0., 0., 0., ..., 0., 0., 0.]), array([0., 0., 0., ..., 0., 0., 0.])),\n",
       "       ('B5077102', 59, 50, 0, 0, 0),\n",
       "       ('P5076411', 112, 300, 72.6, array([0., 0., 0., ..., 0., 0., 0.]), array([0., 0., 0., ..., 0., 0., 0.])),\n",
       "       ('P5620917', 74, 75, 0, 0, 0), ('V5073018', 84, 25, 0, 0, 0),\n",
       "       ('4506963E', 45, 10, 0, 0, 0), ('P5078993', 126, 150, 0, 0, 0),\n",
       "       ('4330205E', 51, 10, 0, 0, 0),\n",
       "       ('B5077101', 58, 75, 2.182, array([0., 0., 0., ..., 0., 0., 0.]), array([0., 0., 0., ..., 0., 0., 0.])),\n",
       "       ('P5078005', 93, 75, 512.9, array([0., 0., 0., ..., 0., 0., 0.]), array([0., 0., 0., ..., 0., 0., 0.])),\n",
       "       ('P5079023', 96, 1500, 60, array([0., 0., 0., ..., 0., 0., 0.]), array([0., 0., 0., ..., 0., 0., 0.])),\n",
       "       ('4797915E', 76, 25, 0, 0, 0),\n",
       "       ('P5497747', 67, 75, 5.735, array([0., 0., 0., ..., 0., 0., 0.]), array([0., 0., 0., ..., 0., 0., 0.])),\n",
       "       ('P5506438', 119, 500, 57.7, array([0., 0., 0., ..., 0., 0., 0.]), array([0., 0., 0., ..., 0., 0., 0.])),\n",
       "       ('P5595831', 69, 1.5, 0, 0, 0), ('S5072114', 124, 25, 0, 0, 0),\n",
       "       ('P5444213', 21, 500, 18.3, array([0., 0., 0., ..., 0., 0., 0.]), array([0., 0., 0., ..., 0., 0., 0.])),\n",
       "       ('294778E', 97, 10, 0, 0, 0)],\n",
       "      dtype=[('name', 'O'), ('nameopal', 'O'), ('xfkva', 'O'), ('PVacrate', 'O'), ('PVp', 'O'), ('PVp_6s', 'O')])"
      ]
     },
     "execution_count": 21,
     "metadata": {},
     "output_type": "execute_result"
    }
   ],
   "source": [
    "solar_orig['PVavail']"
   ]
  },
  {
   "cell_type": "code",
   "execution_count": 12,
   "metadata": {},
   "outputs": [
    {
     "data": {
      "text/plain": [
       "{'__header__': b'MATLAB 5.0 MAT-file, Platform: MACI64, Created on: Thu May 27 21:57:41 2021',\n",
       " '__version__': '1.0',\n",
       " '__globals__': [],\n",
       " 'q': array([1.36554249, 1.3643562 , 1.3631536 , ..., 1.89689961, 1.89485952,\n",
       "        1.89542297])}"
      ]
     },
     "execution_count": 12,
     "metadata": {},
     "output_type": "execute_result"
    }
   ],
   "source": []
  },
  {
   "cell_type": "code",
   "execution_count": null,
   "metadata": {},
   "outputs": [],
   "source": []
  }
 ],
 "metadata": {
  "kernelspec": {
   "display_name": "Python 3 (ipykernel)",
   "language": "python",
   "name": "python3"
  },
  "language_info": {
   "codemirror_mode": {
    "name": "ipython",
    "version": 3
   },
   "file_extension": ".py",
   "mimetype": "text/x-python",
   "name": "python",
   "nbconvert_exporter": "python",
   "pygments_lexer": "ipython3",
   "version": "3.7.11"
  }
 },
 "nbformat": 4,
 "nbformat_minor": 4
}
