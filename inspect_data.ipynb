{
 "cells": [
  {
   "cell_type": "markdown",
   "metadata": {},
   "source": [
    "## Imports and Constants"
   ]
  },
  {
   "cell_type": "code",
   "execution_count": null,
   "metadata": {},
   "outputs": [],
   "source": [
    "%load_ext autoreload\n",
    "%autoreload 2\n",
    "%matplotlib inline"
   ]
  },
  {
   "cell_type": "code",
   "execution_count": null,
   "metadata": {},
   "outputs": [],
   "source": [
    "from __future__ import annotations\n",
    "\n",
    "from collections.abc import Sequence\n",
    "\n",
    "import matplotlib.pyplot as plt\n",
    "import numpy as np\n",
    "import pandas as pd\n",
    "import scipy.io as spio\n",
    "import scipy.stats\n",
    "\n",
    "from network_utils import (\n",
    "    create_56bus,\n",
    "    create_RX_from_net,\n",
    "    calc_voltage_profile)\n",
    "\n",
    "from matplotlib_inline.backend_inline import set_matplotlib_formats\n",
    "set_matplotlib_formats('svg')\n",
    "\n",
    "# hide top and right splines on plots\n",
    "plt.rcParams['axes.spines.right'] = False\n",
    "plt.rcParams['axes.spines.top'] = False"
   ]
  },
  {
   "cell_type": "code",
   "execution_count": null,
   "metadata": {},
   "outputs": [],
   "source": [
    "time_ticks =  [0      ,    2400,    4800,    7200,    9600,   12000,   14400]\n",
    "time_labels = ['0h', '4h', '8h', '12h', '16h', '20h', '24h']\n",
    "# time_labels = ['00:00', '04:00', '08:00', '12:00', '16:00', '20:00', '24:00']\n",
    "\n",
    "vmin = 11.4  # kV\n",
    "vmax = 12.6"
   ]
  },
  {
   "cell_type": "code",
   "execution_count": null,
   "metadata": {},
   "outputs": [],
   "source": [
    "def savefig(fig: plt.Figure, file_path: str) -> None:\n",
    "    fig.savefig(file_path, dpi=200, pad_inches=0, bbox_inches='tight')"
   ]
  },
  {
   "cell_type": "markdown",
   "metadata": {},
   "source": [
    "## Load aggregate data"
   ]
  },
  {
   "cell_type": "code",
   "execution_count": null,
   "metadata": {},
   "outputs": [],
   "source": [
    "# load the mat files\n",
    "solar = spio.loadmat('data/PV.mat', squeeze_me=True)\n",
    "aggr_p = spio.loadmat('data/aggr_p.mat', squeeze_me=True)\n",
    "aggr_q = spio.loadmat('data/aggr_q.mat', squeeze_me=True)\n",
    "pq_fluc = spio.loadmat('data/pq_fluc.mat', squeeze_me=True)\n",
    "\n",
    "# for mat in [actual_solar, actual_p, actual_q, pq_fluc]:\n",
    "#     display(mat)\n",
    "\n",
    "# all of the `.mat` files have only 1 key each\n",
    "solar = solar['actual_PV_profile']  # shape [14421]\n",
    "aggr_p = aggr_p['p']  # shape [14421]\n",
    "aggr_q = aggr_q['q']  # shape [14421]\n",
    "pq_fluc = pq_fluc['pq_fluc']  # shape [55, 2, 14421]"
   ]
  },
  {
   "cell_type": "code",
   "execution_count": null,
   "metadata": {},
   "outputs": [],
   "source": [
    "# for reference: there are 14,400 seconds in a 24-hour period\n",
    "for x in [solar, aggr_p, aggr_q, pq_fluc]:\n",
    "    print(x.dtype, x.shape)"
   ]
  },
  {
   "cell_type": "markdown",
   "metadata": {},
   "source": [
    "## Explore aggregated data\n",
    "\n",
    "Aggregated data is the sum of the per-bus data. Note that the aggregated active power load does not include the effect of solar generation. That is, the net active power load is:\n",
    "\n",
    "```python\n",
    "net_active_load = aggr_p - solar\n",
    "```"
   ]
  },
  {
   "cell_type": "code",
   "execution_count": null,
   "metadata": {},
   "outputs": [],
   "source": [
    "df = pd.DataFrame({'solar': solar, 'p': aggr_p, 'q': aggr_q})\n",
    "df.describe()"
   ]
  },
  {
   "cell_type": "code",
   "execution_count": null,
   "metadata": {},
   "outputs": [],
   "source": [
    "# Recreate Fig7 from Qu and Li (2020), equivalent to Fig5 (left) from  Shi et al. (2021)\n",
    "fig, ax = plt.subplots(figsize=(5, 4))\n",
    "ax.plot(solar, label='Solar (MW)')\n",
    "ax.plot(aggr_p, label='Active Load (MW)')\n",
    "ax.plot(aggr_q, label='Reactive Load (MVar)')\n",
    "\n",
    "ax.legend(loc='upper left')\n",
    "ax.set(xlabel='Time (Hour)', ylabel='Power')\n",
    "ax.set(xticks=time_ticks, xticklabels=time_labels)\n",
    "plt.show()"
   ]
  },
  {
   "cell_type": "code",
   "execution_count": null,
   "metadata": {},
   "outputs": [],
   "source": [
    "# plot only solar and active load\n",
    "fig, ax = plt.subplots(figsize=(4,3), tight_layout=True)\n",
    "ax.plot(solar, label='Solar (MW)')\n",
    "ax.plot(aggr_p, label='Active Load (MW)', color='tab:orange')\n",
    "ax.plot(aggr_p - solar, ' ', label='Net load (MW)', color='tab:green')\n",
    "\n",
    "ax.set(ylabel='Power (MW)')\n",
    "ax.set(xticks=time_ticks, xticklabels=time_labels)\n",
    "savefig(fig, 'plots/sce56_solar_and_load.svg')\n",
    "\n",
    "ax.plot(aggr_p - solar, ':', label='Net load (MW)', color='tab:green')\n",
    "savefig(fig, 'plots/sce56_net_load.svg')"
   ]
  },
  {
   "cell_type": "markdown",
   "metadata": {},
   "source": [
    "## Explore per-bus data\n",
    "\n",
    "Whereas the aggregate `p` and `q` were specified as \"load\", the per-bus data is specified as \"power injection\". That is, the signs are opposite.\n",
    "\n",
    "Furthermore, per-bus `p` is _net_ active power injection (solar generation - load). Hence,\n",
    "\n",
    "```python\n",
    "solar - aggr_p = all_p.sum(axis=0)\n",
    "```"
   ]
  },
  {
   "cell_type": "code",
   "execution_count": null,
   "metadata": {},
   "outputs": [],
   "source": [
    "all_p = pq_fluc[:, 0]  # shape [n, T]\n",
    "all_q = pq_fluc[:, 1]  # shape [n, T]\n",
    "\n",
    "assert np.allclose(solar - all_p.sum(axis=0), aggr_p)\n",
    "assert np.allclose(-all_q.sum(axis=0), aggr_q)"
   ]
  },
  {
   "cell_type": "code",
   "execution_count": null,
   "metadata": {},
   "outputs": [],
   "source": [
    "p_df = pd.DataFrame(all_p.T)  # rows = time, cols = buses\n",
    "q_df = pd.DataFrame(all_q.T)\n",
    "\n",
    "min_p = p_df.min()\n",
    "max_p = p_df.max()\n",
    "\n",
    "fig, axs = plt.subplots(1, 2, figsize=(8, 4), sharey=True, tight_layout=True)\n",
    "ax = axs[0]\n",
    "ax.set_title('active power injection')\n",
    "min_p.plot(kind='bar', ax=ax, color='blue', label='min')\n",
    "max_p.plot(kind='bar', ax=ax, color='orange', label='max')\n",
    "\n",
    "for i in max_p.index:\n",
    "    val = max_p.loc[i]\n",
    "    if val > 0.1:\n",
    "        ax.annotate(f'{val:.2f}\\n({i})', (i - 2, val + 0.1))\n",
    "\n",
    "ax = axs[1]\n",
    "ax.set_title('reactive power injection')\n",
    "q_df.min().plot(kind='bar', ax=ax, color='blue', label='min')\n",
    "q_df.max().plot(kind='bar', ax=ax, color='orange', label='max')\n",
    "\n",
    "for ax in axs:\n",
    "    ax.set(xlabel='bus ID', xticks=range(0, 55, 5))\n",
    "    ax.legend()\n",
    "\n",
    "plt.show()"
   ]
  },
  {
   "cell_type": "markdown",
   "metadata": {},
   "source": [
    "Plot buses whose active power injections are most and least correlated with solar"
   ]
  },
  {
   "cell_type": "code",
   "execution_count": null,
   "metadata": {},
   "outputs": [],
   "source": [
    "pv_corr = pd.Series(\n",
    "    data=[scipy.stats.pearsonr(p, solar)[0] for p in all_p],\n",
    "    name='corr')\n",
    "pv_corr.sort_values(ascending=False, inplace=True)\n",
    "pv_corr.index += 1\n",
    "display(pv_corr.head())\n",
    "display(pv_corr.tail())\n",
    "\n",
    "fig, ax = plt.subplots(1, 1, tight_layout=True)\n",
    "ax.plot(solar)\n",
    "for i in pv_corr.index[:5]:\n",
    "    ax.plot(all_p[i-1], label=f'{i}, r={pv_corr.loc[i]:.2f}')\n",
    "for i in pv_corr.index[-5:]:\n",
    "    ax.plot(all_p[i-1], label=f'{i}, r={pv_corr.loc[i]:.2f}')\n",
    "ax.legend(title='node ID')\n",
    "ax.set(xlabel='Time', ylabel='Power (MW)', title='active power injection')\n",
    "ax.set_xticks(time_ticks)\n",
    "ax.set_xticklabels(time_labels)\n",
    "plt.show()"
   ]
  },
  {
   "cell_type": "code",
   "execution_count": null,
   "metadata": {},
   "outputs": [],
   "source": [
    "pv_nodes_gq = np.array([2, 4, 7, 8, 9, 10, 11, 12, 13, 14, 15, 16, 19, 20, 23, 25, 26, 32])\n",
    "pv_corr.loc[pv_nodes_gq - 1]"
   ]
  },
  {
   "cell_type": "code",
   "execution_count": null,
   "metadata": {},
   "outputs": [],
   "source": [
    "net = create_56bus()\n",
    "R, X = create_RX_from_net(net)\n",
    "v_sq = calc_voltage_profile(X, R, p=all_p, qe=all_q, qc=0, v_sub=12**2)\n",
    "v = np.sqrt(v_sq)"
   ]
  },
  {
   "cell_type": "code",
   "execution_count": null,
   "metadata": {},
   "outputs": [],
   "source": [
    "def plot_voltage_and_injections(indices: Sequence[int], offset: int = 0) -> None:\n",
    "    fig, axs = plt.subplots(1, 3, figsize=(12, 4), tight_layout=True)\n",
    "\n",
    "    for i in np.array(indices) - offset:\n",
    "        axs[0].plot(v[i], label=f'bus {i+offset}')\n",
    "        axs[1].plot(all_p[i])\n",
    "        axs[2].plot(all_q[i])\n",
    "\n",
    "    for ax in axs:\n",
    "        ax.set(xticks=time_ticks, xticklabels=time_labels)\n",
    "\n",
    "    ax = axs[0]\n",
    "    ax.axhline(vmin, ls='--')\n",
    "    ax.axhline(vmax, ls='--')\n",
    "    ax.legend()\n",
    "    ax.set_title('Voltage Profile without Controller')\n",
    "\n",
    "    axs[1].set_title('Active power injection ($p$, MW)')\n",
    "    axs[2].set_title('Reactive power injection ($q^e$, MVar)')\n",
    "\n",
    "    plt.show()"
   ]
  },
  {
   "cell_type": "code",
   "execution_count": null,
   "metadata": {},
   "outputs": [],
   "source": [
    "# Recreate Fig8 (right) in Qu and Li (2020)\n",
    "# - they count the substation as bus 1\n",
    "# - we count the substation as bus -1\n",
    "index = [9, 19, 22, 31, 40, 46, 55]\n",
    "plot_voltage_and_injections(indices=index, offset=2)"
   ]
  },
  {
   "cell_type": "code",
   "execution_count": null,
   "metadata": {},
   "outputs": [],
   "source": [
    "# Recreate Fig5 (middle) in Shi et al. (2021)\n",
    "# - like us, they count the substation as bus -1\n",
    "index = [8, 10, 18, 21, 29, 45, 54]\n",
    "plot_voltage_and_injections(indices=index)"
   ]
  },
  {
   "cell_type": "markdown",
   "metadata": {},
   "source": [
    "Plot nodes with largest violations above and below the limits"
   ]
  },
  {
   "cell_type": "code",
   "execution_count": null,
   "metadata": {},
   "outputs": [],
   "source": [
    "pos_maxviolate_node = v.max(axis=1).argmax()\n",
    "neg_maxviolate_node = v.min(axis=1).argmin()\n",
    "print(f'Node: {pos_maxviolate_node}, Voltage: {v[pos_maxviolate_node].max()}')\n",
    "print(f'Node: {neg_maxviolate_node}, Voltage: {v[neg_maxviolate_node].min()}')"
   ]
  },
  {
   "cell_type": "code",
   "execution_count": null,
   "metadata": {},
   "outputs": [],
   "source": [
    "index = [17, 35]\n",
    "plot_voltage_and_injections(indices=index)"
   ]
  }
 ],
 "metadata": {
  "kernelspec": {
   "display_name": "Python 3 (ipykernel)",
   "language": "python",
   "name": "python3"
  },
  "language_info": {
   "codemirror_mode": {
    "name": "ipython",
    "version": 3
   },
   "file_extension": ".py",
   "mimetype": "text/x-python",
   "name": "python",
   "nbconvert_exporter": "python",
   "pygments_lexer": "ipython3",
   "version": "3.9.10"
  }
 },
 "nbformat": 4,
 "nbformat_minor": 4
}
