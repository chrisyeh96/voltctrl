{
 "cells": [
  {
   "cell_type": "code",
   "execution_count": null,
   "metadata": {},
   "outputs": [],
   "source": [
    "%load_ext autoreload\n",
    "%autoreload 2\n",
    "%matplotlib inline"
   ]
  },
  {
   "cell_type": "code",
   "execution_count": null,
   "metadata": {},
   "outputs": [],
   "source": [
    "import pickle\n",
    "from pprint import pprint\n",
    "\n",
    "import matplotlib.pyplot as plt\n",
    "import networkx as nx\n",
    "import numpy as np\n",
    "import pandapower as pp\n",
    "\n",
    "from network_utils import (\n",
    "    create_56bus,\n",
    "    create_RX_from_net,\n",
    "    np_triangle_norm,\n",
    "    read_load_data,\n",
    "    X_to_ancestors,\n",
    "    build_tree_from_ancestors)\n",
    "from run import meta_gen_X_set"
   ]
  },
  {
   "cell_type": "code",
   "execution_count": null,
   "metadata": {},
   "outputs": [],
   "source": [
    "net = create_56bus()\n",
    "\n",
    "R, X = create_RX_from_net(net, noise=0)  # true R and X"
   ]
  },
  {
   "cell_type": "code",
   "execution_count": null,
   "metadata": {},
   "outputs": [],
   "source": [
    "net = create_56bus()\n",
    "G_true = pp.topology.create_nxgraph(net)\n",
    "R, X = create_RX_from_net(net, noise=0)  # true R and X\n",
    "p, qe = read_load_data()  # in MW and MVar\n",
    "T, n = p.shape\n",
    "\n",
    "v_min, v_max = (11.4**2, 12.6**2)  # +/-5%, units kV^2\n",
    "v_nom = 12**2  # nominal squared voltage magnitude, units kV^2\n",
    "v_sub = v_nom  # fixed squared voltage magnitude at substation, units kV^2\n",
    "\n",
    "vpars = qe @ X + p @ R + v_sub  # shape [T, n]\n",
    "Vpar_min = np.min(vpars, axis=0)  # shape [n]\n",
    "Vpar_max = np.max(vpars, axis=0)  # shape [n]\n",
    "\n",
    "print(T, n)"
   ]
  },
  {
   "cell_type": "code",
   "execution_count": null,
   "metadata": {},
   "outputs": [],
   "source": [
    "fig, ax = plt.subplots(1, 1, figsize=(5, 8), tight_layout=True)\n",
    "pos = nx.nx_agraph.graphviz_layout(G_true, prog='dot')\n",
    "nx.draw_networkx(G_true, pos=pos, ax=ax, node_color='orange')\n",
    "ax.set_title('$X^*$')\n",
    "fig.savefig('scratch/graph_true.png')"
   ]
  },
  {
   "cell_type": "code",
   "execution_count": null,
   "metadata": {},
   "outputs": [],
   "source": [
    "# ancestors = X_to_ancestors(X)\n",
    "# G = build_tree_from_ancestors(ancestors)\n",
    "# G = nx.relabel_nodes(G, lambda x: x+1)"
   ]
  },
  {
   "cell_type": "code",
   "execution_count": null,
   "metadata": {},
   "outputs": [],
   "source": [
    "with open('out/CBCproj_noise1.0_perm_norm1.0_seed8_20220211_070643.pkl', 'rb') as f:\n",
    "    x = pickle.load(f)\n",
    "print(x.keys())\n",
    "pprint(x['params'])"
   ]
  },
  {
   "cell_type": "code",
   "execution_count": null,
   "metadata": {},
   "outputs": [],
   "source": [
    "eta = x['params']['eta']\n",
    "nsamples = x['params']['nsamples']\n",
    "alpha = x['params']['alpha']\n",
    "seed = x['params']['seed']\n",
    "norm_bound = x['params']['norm_bound']\n",
    "\n",
    "gen_X_set = meta_gen_X_set(norm_bound=norm_bound, X_true=X)\n",
    "X_init = x['X_init']"
   ]
  },
  {
   "cell_type": "code",
   "execution_count": null,
   "metadata": {},
   "outputs": [],
   "source": [
    "ancestors, _ = X_to_ancestors(X_init)\n",
    "G_init = build_tree_from_ancestors(ancestors)\n",
    "G_init = nx.relabel_nodes(G_init, lambda x: x+1)"
   ]
  },
  {
   "cell_type": "code",
   "execution_count": null,
   "metadata": {},
   "outputs": [],
   "source": [
    "from cbc.projection import CBCProjection\n",
    "\n",
    "sel = CBCProjection(\n",
    "    eta=eta, n=n, T=T, nsamples=nsamples, alpha=alpha,\n",
    "    v=vpars[0], gen_X_set=gen_X_set, Vpar=(Vpar_min, Vpar_max),\n",
    "    X_init=X_init, X_true=X, log=None, seed=seed)\n",
    "sel.v = x['vs']\n",
    "sel.q = x['qcs']"
   ]
  },
  {
   "cell_type": "code",
   "execution_count": null,
   "metadata": {},
   "outputs": [],
   "source": [
    "import os\n",
    "import pickle\n",
    "\n",
    "path = 'scratch/CBCproj_noise1.0_perm_norm1.0_seed8_20220211_070643_Xhats.pkl'\n",
    "\n",
    "if os.path.exists(path):\n",
    "    with open(path, 'rb') as f:\n",
    "        X_hats = pickle.load(f)\n",
    "\n",
    "else:\n",
    "    X_hats = {0: X_init}\n",
    "    for t in range(1, T):\n",
    "        sel.add_obs(t)\n",
    "        if (t+1) % 1000 == 0:\n",
    "            X_hats[t] = sel.select(t-1).copy()\n",
    "    X_hats[T] = sel.select(T-1).copy()\n",
    "\n",
    "    with open(path, 'wb') as f:\n",
    "        pickle.dump(X_hats, f)"
   ]
  },
  {
   "cell_type": "code",
   "execution_count": null,
   "metadata": {},
   "outputs": [],
   "source": [
    "for t, X_hat in X_hats.items():\n",
    "    ancestors, Xhat_rounded = X_to_ancestors(X_hat)\n",
    "    # check_ancestors_completeness(ancestors)\n",
    "\n",
    "    G_hat = build_tree_from_ancestors(ancestors)\n",
    "    G_hat = nx.relabel_nodes(G_hat, lambda x: x+1)\n",
    "\n",
    "    fig, ax = plt.subplots(1, 1, figsize=(5, 8), tight_layout=True)\n",
    "    pos = nx.nx_agraph.graphviz_layout(G_hat, prog='dot')\n",
    "    nx.draw_networkx(G_hat, pos=pos, ax=ax, node_color='orange')\n",
    "    ax.set_title('$\\hat{X}, ' + f't={t}$')\n",
    "    fig.savefig(f'scratch/X_hat_{t:06d}.png')"
   ]
  }
 ],
 "metadata": {
  "kernelspec": {
   "display_name": "voltctrl",
   "language": "python",
   "name": "python3"
  },
  "language_info": {
   "codemirror_mode": {
    "name": "ipython",
    "version": 3
   },
   "file_extension": ".py",
   "mimetype": "text/x-python",
   "name": "python",
   "nbconvert_exporter": "python",
   "pygments_lexer": "ipython3",
   "version": "3.9.16 | packaged by conda-forge | (main, Feb  1 2023, 21:39:03) \n[GCC 11.3.0]"
  },
  "orig_nbformat": 4,
  "vscode": {
   "interpreter": {
    "hash": "16e0469e00caf83071d61e050d86514930580b790156b72d800589d04804e66a"
   }
  }
 },
 "nbformat": 4,
 "nbformat_minor": 2
}
