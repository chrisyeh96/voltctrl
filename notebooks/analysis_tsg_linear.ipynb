{
 "cells": [
  {
   "attachments": {},
   "cell_type": "markdown",
   "metadata": {},
   "source": [
    "## Analysis of Controller on Linear Simulation\n",
    "\n",
    "This notebook generates the following figures in the paper\n",
    "\n",
    "> Yeh, Christopher, et al. \"Online learning for robust voltage control under uncertain grid topology.\" _arXiv preprint arXiv:2306.16674_ (2023).\n",
    "\n",
    "- 2a\n",
    "- 3a-e\n",
    "- 5a"
   ]
  },
  {
   "cell_type": "code",
   "execution_count": null,
   "id": "adb73d0f",
   "metadata": {},
   "outputs": [],
   "source": [
    "%load_ext autoreload\n",
    "%autoreload 2\n",
    "%matplotlib inline\n",
    "%cd .."
   ]
  },
  {
   "cell_type": "code",
   "execution_count": null,
   "id": "2749593c-5cc1-4af8-acfe-151d32bc1e89",
   "metadata": {},
   "outputs": [],
   "source": [
    "from __future__ import annotations\n",
    "\n",
    "from glob import glob\n",
    "import os\n",
    "import pickle\n",
    "\n",
    "import matplotlib.pyplot as plt\n",
    "import numpy as np\n",
    "from tqdm.auto import tqdm\n",
    "\n",
    "from matplotlib_inline import backend_inline\n",
    "backend_inline.set_matplotlib_formats('svg')\n",
    "\n",
    "# hide top and right splines on plots\n",
    "plt.rcParams['axes.spines.right'] = False\n",
    "plt.rcParams['axes.spines.top'] = False"
   ]
  },
  {
   "cell_type": "code",
   "execution_count": null,
   "id": "ae068f86",
   "metadata": {},
   "outputs": [],
   "source": [
    "plots_dir = 'plots/tsg_take2/'\n",
    "os.makedirs(plots_dir, exist_ok=True)\n",
    "\n",
    "def savefig(fig: plt.Figure, filename: str, **kwargs) -> None:\n",
    "    path = os.path.join(plots_dir, filename)\n",
    "    defaults = dict(dpi=300, pad_inches=0, bbox_inches='tight', facecolor='white')\n",
    "    fig.savefig(path, **(defaults | kwargs))"
   ]
  },
  {
   "cell_type": "code",
   "execution_count": null,
   "id": "a040fd65-754f-4651-bc4e-97b885c71996",
   "metadata": {},
   "outputs": [],
   "source": [
    "TIME_TICKS =  [   0, 2400, 4800,  7200,  9600, 12000, 14400]\n",
    "TIME_LABELS = ['0h', '4h', '8h', '12h', '16h', '20h', '24h']\n",
    "\n",
    "v_min, v_max = (11.4**2, 12.6**2)  # +/-5%, units kV^2\n",
    "print(v_min, v_max)\n",
    "\n",
    "y_min, y_max = 11.2, 12.8"
   ]
  },
  {
   "cell_type": "code",
   "execution_count": null,
   "id": "d6d34029-3436-4261-966c-5834b068a163",
   "metadata": {},
   "outputs": [],
   "source": [
    "# Recreate Fig8 in Qu and Li (2020)\n",
    "# - they count the substation as bus 1\n",
    "# - we count the substation as bus 0\n",
    "buses = [8, 18, 21, 30, 39, 45, 54]  # 0 = substation"
   ]
  },
  {
   "cell_type": "code",
   "execution_count": null,
   "id": "79387325-226e-4756-b19d-9efc77e000cf",
   "metadata": {},
   "outputs": [],
   "source": [
    "from network_utils import (\n",
    "    create_56bus,\n",
    "    create_RX_from_net,\n",
    "    read_load_data)\n",
    "\n",
    "net = create_56bus()\n",
    "R, X = create_RX_from_net(net, noise=0)  # true R and X\n",
    "p, qe = read_load_data()  # in MW and MVar\n",
    "T, n = p.shape\n",
    "print(f'T={T}, n={n}')\n",
    "\n",
    "v_nom = 12**2  # nominal squared voltage magnitude, units kV^2\n",
    "v_sub = v_nom  # fixed squared voltage magnitude at substation, units kV^2\n",
    "\n",
    "vpars = qe @ X + p @ R + v_sub  # shape [T, n]\n",
    "\n",
    "Vpar_min = np.min(vpars, axis=0)  # shape [n]\n",
    "Vpar_max = np.max(vpars, axis=0)  # shape [n]\n",
    "Vpar = (Vpar_min, Vpar_max)"
   ]
  },
  {
   "cell_type": "code",
   "execution_count": null,
   "id": "77b6451d",
   "metadata": {},
   "outputs": [],
   "source": [
    "print('max-voltage node:', np.argmax(vpars.max(axis=0)))\n",
    "print('min-voltage node:', np.argmin(vpars.min(axis=0)))"
   ]
  },
  {
   "attachments": {},
   "cell_type": "markdown",
   "id": "e5c24df9",
   "metadata": {},
   "source": [
    "## Figure 2a: linear simulation, no controller"
   ]
  },
  {
   "cell_type": "code",
   "execution_count": null,
   "id": "d6b99805",
   "metadata": {},
   "outputs": [],
   "source": [
    "def plot_2a(vpars: np.ndarray, save: bool = True):\n",
    "    # plot linear sim no-control\n",
    "    fig, ax = plt.subplots(figsize=(4, 3), dpi=200, tight_layout=True)\n",
    "\n",
    "    ts = range(T)\n",
    "    for i in np.asarray(buses) - 1:\n",
    "        ax.plot(ts, np.sqrt(vpars[:, i]))\n",
    "\n",
    "    ax.axhline(11.4, ls='--', color='black')\n",
    "    ax.axhline(12.6, ls='--', color='black')\n",
    "    ax.set(ylabel='Voltage (kV)', ylim=(11.0, 13.4))\n",
    "    ax.set(xlabel='time $t$', xlim=(0, T),\n",
    "           xticks=TIME_TICKS, xticklabels=TIME_LABELS)\n",
    "\n",
    "    if save:\n",
    "        savefig(fig, filename='linear_nocontrol.pdf')\n",
    "        savefig(fig, filename='linear_nocontrol.png')\n",
    "        savefig(fig, filename='linear_nocontrol.svg')"
   ]
  },
  {
   "cell_type": "code",
   "execution_count": null,
   "id": "2f318624",
   "metadata": {},
   "outputs": [],
   "source": [
    "plot_2a(vpars)"
   ]
  },
  {
   "attachments": {},
   "cell_type": "markdown",
   "id": "f0c55bc1-4555-4513-9c56-8760c90734c8",
   "metadata": {},
   "source": [
    "## Figures\n",
    "1. voltage profile, robust controller with true X\n",
    "2. voltage profile, robust controller+CBC with random X\n",
    "3. voltage profile, robust controller+CBC with random X, known topo info for 14 buses\n",
    "4. voltage profile, robust controller+CBC with random X, known topo+param info for 14 buses\n",
    "5. error plot for $\\|\\hat{X}_t - X^*\\|_\\triangle$"
   ]
  },
  {
   "cell_type": "code",
   "execution_count": null,
   "metadata": {},
   "outputs": [],
   "source": [
    "def load_pkl(path: str) -> dict:\n",
    "    with open(path, 'rb') as f:\n",
    "        return pickle.load(f)"
   ]
  },
  {
   "cell_type": "code",
   "execution_count": null,
   "id": "1f7b727c-4dfd-4cb0-adb0-2733a382c6e8",
   "metadata": {},
   "outputs": [],
   "source": [
    "pkl_paths = {\n",
    "    # ('known', None): 'out/CBCconst_20230809_234150.pkl',  # fixed X̂, fixed etahat\n",
    "    ('known', None): 'out/CBCconst_δ20_η10_20230810_011115.pkl',  # fixed X̂, learned etahat\n",
    "}\n",
    "for seed in [8, 9, 10, 11]:\n",
    "    pkl_paths |= {\n",
    "        # default: δ=20\n",
    "        ('unknown', seed): glob(f'out/CBCproj_δ20_η10_noise1.0_perm_norm1.0_seed{seed}_2*.pkl')[0],\n",
    "        ('topo-14', seed): glob(f'out/CBCproj_δ20_η10_noise1.0_perm_norm1.0_seed{seed}_knowntopo14_2*.pkl')[0],\n",
    "        ('lines-14', seed): glob(f'out/CBCproj_δ20_η10_noise1.0_perm_norm1.0_seed{seed}_knownlines14_2*.pkl')[0],\n",
    "\n",
    "        (r'η* known', seed): glob(f'out/CBCproj_noise1.0_perm_norm1.0_seed{seed}_knownlines14_2*.pkl')[0],\n",
    "        (r'δ=1', seed): glob(f'out/CBCproj_δ1_η10_noise1.0_perm_norm1.0_seed{seed}_knownlines14_2*.pkl')[0],\n",
    "        (r'δ=20', seed): glob(f'out/CBCproj_δ20_η10_noise1.0_perm_norm1.0_seed{seed}_knownlines14_2*.pkl')[0],\n",
    "        (r'δ=100', seed): glob(f'out/CBCproj_δ100_η10_noise1.0_perm_norm1.0_seed{seed}_knownlines14_2*.pkl')[0],\n",
    "        (r'δ=500', seed): glob(f'out/CBCproj_δ500_η10_noise1.0_perm_norm1.0_seed{seed}_knownlines14_2*.pkl')[0],\n",
    "    }\n",
    "\n",
    "pkls = {}\n",
    "for (name, seed), pkl_path in pkl_paths.items():\n",
    "    pkl = load_pkl(pkl_path)\n",
    "    pkls[(name, seed)] = pkl\n",
    "    print(f'{name: <15} {str(seed): <4}', pkl.keys())"
   ]
  },
  {
   "cell_type": "code",
   "execution_count": null,
   "metadata": {},
   "outputs": [],
   "source": [
    "from copy import deepcopy\n",
    "mistakes = {\n",
    "    'known': [], 'unknown': [], 'topo-14': [], 'lines-14': []\n",
    "}\n",
    "avg_viols = deepcopy(mistakes)\n",
    "max_viols = deepcopy(mistakes)\n",
    "\n",
    "figs_and_axs = {}\n",
    "for seed in [8, 9, 10, 11]:\n",
    "    figs_and_axs[seed] = plt.subplots(1, 3, figsize=(9, 3))\n",
    "\n",
    "for key, pkl in pkls.items():\n",
    "    vs = pkl['vs']\n",
    "    assert vs.shape == (T, n)\n",
    "    violates_max = (vs > v_max + 0.05)\n",
    "    violates_min = (vs < v_min - 0.05)\n",
    "\n",
    "    num_mistakes = (violates_max.any(axis=1) | violates_min.any(axis=1)).sum()\n",
    "    num_bus_step_violations = violates_max.sum() + violates_min.sum()\n",
    "\n",
    "    all_violations = np.concatenate([\n",
    "        vs[violates_max] - v_max,\n",
    "        v_min - vs[violates_min]\n",
    "    ])\n",
    "\n",
    "    avg_viol = np.mean(all_violations)\n",
    "    max_viol = np.max(all_violations)\n",
    "\n",
    "    seed = key[1]\n",
    "    if seed in figs_and_axs:\n",
    "        fig, axs = figs_and_axs[seed]\n",
    "        if key[0] == 'unknown': ax = axs[0]\n",
    "        elif key[0] == 'topo-14': ax = axs[1]\n",
    "        elif key[0] == 'lines-14': ax = axs[2]\n",
    "        ax.hist(all_violations, bins=np.arange(0, 8, 0.1))\n",
    "        ax.set(xlabel='abs. violation', ylabel='count', title=str(key), yscale='log')\n",
    "\n",
    "    num_updates = len(pkl['dists']['t']) - 1\n",
    "\n",
    "    print(f'key: {key}, # updates: {num_updates}, '\n",
    "          f'# mistakes: {num_mistakes}/{T}, '\n",
    "          f'# bus-timestep violations: {num_bus_step_violations}, '\n",
    "          f'avg viol: {avg_viol:.3g}, ',\n",
    "          f'max viol: {max_viol:.3g}')\n",
    "\n",
    "    mistakes[key[0]].append(num_mistakes)\n",
    "    avg_viols[key[0]].append(avg_viol)\n",
    "    max_viols[key[0]].append(max_viol)\n",
    "\n",
    "for key in avg_viols:\n",
    "    print(key)\n",
    "    print(f'# mistakes: {np.mean(mistakes[key]):.1f} +/- {np.std(mistakes[key]):.1f}')\n",
    "    print(f'avg violation: {np.mean(avg_viols[key]):.2f} +/- {np.std(avg_viols[key]):.2f}')\n",
    "    print(f'max violation: {np.mean(max_viols[key]):.2f} +/- {np.std(max_viols[key]):.2f}')"
   ]
  },
  {
   "cell_type": "code",
   "execution_count": null,
   "id": "342167a3",
   "metadata": {},
   "outputs": [],
   "source": [
    "def check_consistency(data: dict):\n",
    "    v = data['vs']\n",
    "    qc = data['qcs']\n",
    "    u = qc[1:] - qc[:-1]  # u[t] = u(t) = q^c(t+1) - q^c(t)\n",
    "    Δv = v[1:] - v[:-1]  # Δv[t] = v(t+1) - v(t)\n",
    "    count_inconsistent = []\n",
    "    for t in sorted(data['params'].keys()):\n",
    "        if data['config']['δ'] == 0:\n",
    "            X̂ = data['params'][t]\n",
    "            etahat = 8.65\n",
    "        else:\n",
    "            X̂, etahat = data['params'][t]\n",
    "        vpar_hat = v[1:t+1] - qc[1:t+1] @ X̂\n",
    "        w_hat = Δv[:t] - u[:t] @ X̂\n",
    "        consistent = (\n",
    "            (Vpar_min - 0.05 <= vpar_hat).all(axis=1)\n",
    "            | (vpar_hat <= Vpar_max + 0.05).all(axis=1)\n",
    "            | (np.max(np.abs(w_hat), axis=1) <= etahat)\n",
    "        )\n",
    "        num_inconsistent = t - consistent.sum()\n",
    "        count_inconsistent.append(num_inconsistent)\n",
    "    return count_inconsistent"
   ]
  },
  {
   "cell_type": "code",
   "execution_count": null,
   "id": "78979cba",
   "metadata": {},
   "outputs": [],
   "source": [
    "count_inconsistent = {}\n",
    "for (name, seed), data in tqdm(pkls.items()):\n",
    "    count_inconsistent[(name, seed)] = check_consistency(data)"
   ]
  },
  {
   "cell_type": "code",
   "execution_count": null,
   "id": "0afe9430",
   "metadata": {},
   "outputs": [],
   "source": [
    "fig, axs = plt.subplots(1, 4, sharey=True, figsize=(15, 4))\n",
    "for (name, seed), counts in count_inconsistent.items():\n",
    "    if seed is None:\n",
    "        continue\n",
    "    ax = axs[seed % 8]\n",
    "    ax.plot(counts, label=f'{name}')\n",
    "    ax.legend(loc='upper left')\n",
    "for ax, seed in zip(axs, [8, 9, 10, 11]):\n",
    "    ax.set(xlabel='time $t$', title=f'seed {seed}')\n",
    "    if seed == 8:\n",
    "        ax.set(ylabel='# of inconsistent data points')\n",
    "savefig(fig, filename='violations.png')"
   ]
  },
  {
   "cell_type": "code",
   "execution_count": null,
   "id": "48745368",
   "metadata": {},
   "outputs": [],
   "source": [
    "def plot_pkl(name: str, data: dict, seed: int | None = None, plot_legend: bool = False) -> None:\n",
    "    ts = range(T)\n",
    "    fig, ax = plt.subplots(figsize=(4, 3), dpi=60, tight_layout=True)\n",
    "    for i in np.array(buses) - 1:\n",
    "        ax.plot(ts, np.sqrt(data['vs'][:, i]), label=f'{i+1}')\n",
    "\n",
    "    ax.axhline(11.4, ls='--', color='black')\n",
    "    ax.axhline(12.6, ls='--', color='black')\n",
    "    ax.set(ylabel='Voltage (kV)', ylim=(y_min, y_max),\n",
    "           yticks=[11.4, 11.7, 12, 12.3, 12.6])\n",
    "    ax.set(xlabel='time $t$', xlim=(-50, T),\n",
    "           xticks=TIME_TICKS, xticklabels=TIME_LABELS)\n",
    "\n",
    "    filename = f'linear_{name}'\n",
    "    if seed is not None:\n",
    "        filename += f'_s{seed}'\n",
    "    savefig(fig, filename=f'{filename}.pdf')\n",
    "    savefig(fig, filename=f'{filename}.png')\n",
    "    savefig(fig, filename=f'{filename}.svg')\n",
    "\n",
    "    if plot_legend:\n",
    "        leg = ax.legend(loc='center left', bbox_to_anchor=(1, 0.5), title='bus')\n",
    "        fig.canvas.draw()\n",
    "        bbox = leg.get_window_extent().transformed(fig.dpi_scale_trans.inverted())\n",
    "        savefig(fig, 'linear_legend.pdf', bbox_inches=bbox)\n",
    "        savefig(fig, 'linear_legend.png', bbox_inches=bbox)\n",
    "        savefig(fig, 'linear_legend.svg', bbox_inches=bbox)"
   ]
  },
  {
   "cell_type": "code",
   "execution_count": null,
   "id": "e23b4255",
   "metadata": {},
   "outputs": [],
   "source": [
    "def fig3abcd(seeds: list[int]) -> None:\n",
    "    for seed in seeds:\n",
    "        for i, name in enumerate(['unknown', 'topo-14', 'lines-14']):\n",
    "            print(name, seed)\n",
    "            data = pkls[(name, seed)]\n",
    "            plot_pkl(name, data, seed, plot_legend=(i == 0))\n",
    "    plot_pkl('known', pkls[('known', None)], None)\n",
    "\n",
    "\n",
    "fig3abcd(seeds=[8, 9, 10, 11])"
   ]
  },
  {
   "cell_type": "code",
   "execution_count": null,
   "id": "b9a1bfd1",
   "metadata": {},
   "outputs": [],
   "source": [
    "def plot_error_and_etahat(pkls_dict: dict[str, dict], filename: str,\n",
    "                          legend: str | None) -> tuple[plt.Figure, plt.Axes]:\n",
    "    \"\"\"\n",
    "    Args\n",
    "    - legend: one of [None, 'top', 'separate']\n",
    "    \"\"\"\n",
    "    fig, ax = plt.subplots(figsize=(4, 3), dpi=60, tight_layout=True)\n",
    "    axr = ax.twinx()\n",
    "    axr.spines['right'].set_visible(True)\n",
    "\n",
    "    for name, pkl in pkls_dict.items():\n",
    "        print(name)\n",
    "        dists = pkl['dists']\n",
    "        ax.step(list(dists['t']) + [T], list(dists['X_true']) + [dists['X_true'][-1]],\n",
    "                where='post', label=name)\n",
    "        ax.scatter(0, dists['X_true'][0])\n",
    "        if 'η' in dists:\n",
    "            axr.step([0] + list(dists['t']) + [T],\n",
    "                     [0] + list(dists['η']) + [dists['η'][-1]], ':',\n",
    "                     where='post')\n",
    "        else:\n",
    "            axr.plot([0, T], [8.65, 8.65], ':')\n",
    "\n",
    "    ax.set_ylabel(r'$||\\hat{X}_t - X^\\star||_\\bigtriangleup$')\n",
    "    axr.set_ylabel(r'$\\hat\\eta$')\n",
    "    ax.set(xticks=TIME_TICKS, xticklabels=TIME_LABELS)\n",
    "    ax.set(xlabel='time $t$', xlim=(-50, T))\n",
    "\n",
    "    if legend == 'top':\n",
    "        ax.legend(ncols=2, bbox_to_anchor=(0, 1), loc='lower left')\n",
    "\n",
    "    savefig(fig, filename=f'{filename}.pdf')\n",
    "    savefig(fig, filename=f'{filename}.png')\n",
    "    savefig(fig, filename=f'{filename}.svg')\n",
    "\n",
    "    if legend == 'separate':\n",
    "        axr.set_ylabel('')\n",
    "        axr.set_yticklabels([])\n",
    "        leg = ax.legend(loc='center left', bbox_to_anchor=(1, 0.5))\n",
    "        fig.canvas.draw()\n",
    "        bbox = leg.get_tightbbox().transformed(fig.dpi_scale_trans.inverted())\n",
    "        savefig(fig, f'{filename}_legend.pdf', bbox_inches=bbox)\n",
    "        savefig(fig, f'{filename}_legend.png', bbox_inches=bbox)\n",
    "        savefig(fig, f'{filename}_legend.svg', bbox_inches=bbox)\n",
    "\n",
    "    return fig, ax"
   ]
  },
  {
   "cell_type": "code",
   "execution_count": null,
   "id": "faacba64",
   "metadata": {},
   "outputs": [],
   "source": [
    "def fig3e(seeds: list[int]) -> None:\n",
    "    for seed in seeds:\n",
    "        fig3e_pkls = {\n",
    "            name: pkls[(name, seed)]\n",
    "            for name in ['unknown', 'topo-14', 'lines-14']\n",
    "        }\n",
    "        fig3e_pkls['known'] = pkls[('known', None)]\n",
    "        plot_error_and_etahat(\n",
    "            fig3e_pkls, filename=f'linear_error_s{seed}', legend='top')\n",
    "\n",
    "\n",
    "fig3e(seeds=[8, 9, 10, 11])"
   ]
  },
  {
   "cell_type": "code",
   "execution_count": null,
   "id": "66fa4777",
   "metadata": {},
   "outputs": [],
   "source": [
    "def fig5a(seeds: list[int]) -> None:\n",
    "    for i, seed in enumerate(seeds):\n",
    "        pkls_by_delta = {\n",
    "            name: pkls[(name, seed)]\n",
    "            for name in ['η* known', 'δ=1', 'δ=20', 'δ=100', 'δ=500']\n",
    "        }\n",
    "        plot_error_and_etahat(\n",
    "            pkls_by_delta, filename=f'linear_error_by_delta_s{seed}',\n",
    "            legend='separate' if i == 0 else None)\n",
    "\n",
    "\n",
    "fig5a(seeds=[8, 9, 10, 11])"
   ]
  },
  {
   "cell_type": "markdown",
   "metadata": {},
   "source": [
    "## Detecting network change"
   ]
  },
  {
   "cell_type": "code",
   "execution_count": null,
   "metadata": {},
   "outputs": [],
   "source": [
    "seed = 8\n",
    "pkl_paths = {\n",
    "    # default: δ=20\n",
    "    'unknown': glob(f'out/CBCproj_δ20_η10_noise1.0_perm_norm1.0_seed{seed}_topochange_2*.pkl')[0],\n",
    "    'topo-14': glob(f'out/CBCproj_δ20_η10_noise1.0_perm_norm1.0_seed{seed}_knowntopo14_topochange_2*.pkl')[0],\n",
    "    'lines-14': glob(f'out/CBCproj_δ20_η10_noise1.0_perm_norm1.0_seed{seed}_knownlines14_topochange_2*.pkl')[0],\n",
    "}\n",
    "\n",
    "pkls = {}\n",
    "for name, pkl_path in pkl_paths.items():\n",
    "    pkl = load_pkl(pkl_path)\n",
    "    pkls[name] = pkl\n",
    "    print(f'{name: <15}', pkl.keys())\n",
    "\n",
    "    pkl['dists1'] = pkl['dists']\n",
    "    pkl['dists'] = {\n",
    "        'X_true': np.concatenate([pkl['dists1']['X_true'], pkl['dists2']['X_true']]),\n",
    "        'η': np.concatenate([pkl['dists1']['η'], pkl['dists2']['η']]),\n",
    "        't': np.concatenate([pkl['dists1']['t'], np.array(pkl['dists2']['t']) + int(T/2)]),\n",
    "    }"
   ]
  },
  {
   "cell_type": "code",
   "execution_count": null,
   "metadata": {},
   "outputs": [],
   "source": [
    "fig, ax = plot_error_and_etahat(\n",
    "    pkls, filename=f'linear_detectchange_s{seed}', legend='top')"
   ]
  },
  {
   "attachments": {},
   "cell_type": "markdown",
   "id": "8356853e",
   "metadata": {},
   "source": [
    "## Figures (Alternative)\n",
    "\n",
    "Only plot voltages for two buses: 18 and 30 (where bus 0 is substation)"
   ]
  },
  {
   "cell_type": "code",
   "execution_count": null,
   "id": "12d12ea9",
   "metadata": {},
   "outputs": [],
   "source": [
    "def plot_bus(bus: int, pkls: dict, plot_legend: bool = False) -> None:\n",
    "    ts = range(T)\n",
    "    fig, ax = plt.subplots(figsize=(4, 3), dpi=200, tight_layout=True)\n",
    "\n",
    "    for name, data in pkls.items():\n",
    "        ax.plot(ts, np.sqrt(data['vs'][:, bus-1]), label=name)\n",
    "\n",
    "    ax.axhline(11.4, ls='--', color='black')\n",
    "    ax.axhline(12.6, ls='--', color='black')\n",
    "    ax.set(ylabel='Voltage (kV)', ylim=(y_min, y_max),\n",
    "           yticks=[11.4, 11.7, 12, 12.3, 12.6])\n",
    "    ax.set(xlabel='time $t$', xlim=(-50, T),\n",
    "           xticks=TIME_TICKS, xticklabels=TIME_LABELS)\n",
    "\n",
    "    savefig(fig, filename=f'linear_bus{bus}.pdf')\n",
    "    savefig(fig, filename=f'linear_bus{bus}.png')\n",
    "    savefig(fig, filename=f'linear_bus{bus}.svg')\n",
    "\n",
    "    if plot_legend:\n",
    "        leg = ax.legend(loc='center left', bbox_to_anchor=(1, 0.5))\n",
    "        fig.canvas.draw()\n",
    "        bbox = leg.get_window_extent().transformed(fig.dpi_scale_trans.inverted())\n",
    "        fig.savefig('plots/tsg/linear_legend2.pdf', dpi=300, bbox_inches=bbox, facecolor='white')\n",
    "        fig.savefig('plots/tsg/linear_legend2.png', dpi=300, bbox_inches=bbox, facecolor='white')"
   ]
  },
  {
   "cell_type": "code",
   "execution_count": null,
   "id": "51cdec7a",
   "metadata": {},
   "outputs": [],
   "source": [
    "for i, bus in enumerate([18, 30]):\n",
    "    plot_bus(bus, pkls_by_seed[10], plot_legend=(i==0))"
   ]
  }
 ],
 "metadata": {
  "kernelspec": {
   "display_name": "cms21",
   "language": "python",
   "name": "python3"
  },
  "language_info": {
   "codemirror_mode": {
    "name": "ipython",
    "version": 3
   },
   "file_extension": ".py",
   "mimetype": "text/x-python",
   "name": "python",
   "nbconvert_exporter": "python",
   "pygments_lexer": "ipython3",
   "version": "3.10.12"
  },
  "vscode": {
   "interpreter": {
    "hash": "10b6275cc9ddd3a78a2191f6baae49e6f52bcb59b992509c77c5b1f4a0eb0ef2"
   }
  }
 },
 "nbformat": 4,
 "nbformat_minor": 5
}
