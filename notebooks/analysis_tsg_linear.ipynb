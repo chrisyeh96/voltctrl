{
 "cells": [
  {
   "attachments": {},
   "cell_type": "markdown",
   "metadata": {},
   "source": [
    "## Analysis of Controller on Linear Simulation"
   ]
  },
  {
   "cell_type": "code",
   "execution_count": null,
   "id": "adb73d0f",
   "metadata": {},
   "outputs": [],
   "source": [
    "%load_ext autoreload\n",
    "%autoreload 2\n",
    "%matplotlib inline\n",
    "%cd .."
   ]
  },
  {
   "cell_type": "code",
   "execution_count": null,
   "id": "2749593c-5cc1-4af8-acfe-151d32bc1e89",
   "metadata": {},
   "outputs": [],
   "source": [
    "from __future__ import annotations\n",
    "\n",
    "from glob import glob\n",
    "import pickle\n",
    "\n",
    "import matplotlib.pyplot as plt\n",
    "import numpy as np\n",
    "\n",
    "from matplotlib_inline import backend_inline\n",
    "backend_inline.set_matplotlib_formats('svg')\n",
    "\n",
    "# hide top and right splines on plots\n",
    "plt.rcParams['axes.spines.right'] = False\n",
    "plt.rcParams['axes.spines.top'] = False"
   ]
  },
  {
   "cell_type": "code",
   "execution_count": null,
   "id": "a040fd65-754f-4651-bc4e-97b885c71996",
   "metadata": {},
   "outputs": [],
   "source": [
    "TIME_TICKS =  [   0, 2400, 4800,  7200,  9600, 12000, 14400]\n",
    "TIME_LABELS = ['0h', '4h', '8h', '12h', '16h', '20h', '24h']\n",
    "\n",
    "v_min, v_max = (11.4**2, 12.6**2)  # +/-5%, units kV^2\n",
    "print(v_min, v_max)\n",
    "\n",
    "y_min, y_max = 11.2, 12.8"
   ]
  },
  {
   "cell_type": "code",
   "execution_count": null,
   "id": "d6d34029-3436-4261-966c-5834b068a163",
   "metadata": {},
   "outputs": [],
   "source": [
    "# Recreate Fig8 in Qu and Li (2020)\n",
    "# - they count the substation as bus 1\n",
    "# - we count the substation as bus -1\n",
    "index = [9, 19, 22, 31, 40, 46, 55]  # for us, we want to plot nodes [7, 17, etc.]"
   ]
  },
  {
   "cell_type": "code",
   "execution_count": null,
   "id": "79387325-226e-4756-b19d-9efc77e000cf",
   "metadata": {},
   "outputs": [],
   "source": [
    "from network_utils import (\n",
    "    create_56bus,\n",
    "    create_RX_from_net,\n",
    "    read_load_data)\n",
    "\n",
    "net = create_56bus()\n",
    "R, X = create_RX_from_net(net, noise=0)  # true R and X\n",
    "p, qe = read_load_data()  # in MW and MVar\n",
    "T, n = p.shape\n",
    "\n",
    "v_nom = 12**2  # nominal squared voltage magnitude, units kV^2\n",
    "v_sub = v_nom  # fixed squared voltage magnitude at substation, units kV^2\n",
    "\n",
    "vpars = qe @ X + p @ R + v_sub  # shape [T, n]"
   ]
  },
  {
   "cell_type": "code",
   "execution_count": null,
   "id": "77b6451d",
   "metadata": {},
   "outputs": [],
   "source": [
    "print('max-voltage node:', np.argmax(vpars.max(axis=0)))\n",
    "print('min-voltage node:', np.argmin(vpars.min(axis=0)))"
   ]
  },
  {
   "cell_type": "code",
   "execution_count": null,
   "id": "d6b99805",
   "metadata": {},
   "outputs": [],
   "source": [
    "# plot linear sim no-control\n",
    "fig, ax = plt.subplots(figsize=(4, 3), dpi=200, tight_layout=True)\n",
    "\n",
    "ts = range(T)\n",
    "for i in np.asarray(index) - 2:\n",
    "    ax.plot(ts, np.sqrt(vpars[:, i]))\n",
    "\n",
    "ax.axhline(11.4, ls='--', color='black')\n",
    "ax.axhline(12.6, ls='--', color='black')\n",
    "ax.set(ylabel='Voltage (kV)', ylim=(y_min, 13.4))\n",
    "ax.set(xlabel='time $t$', xlim=(0, T),\n",
    "       xticks=TIME_TICKS, xticklabels=TIME_LABELS)\n",
    "\n",
    "fig.savefig(f'plots/tsg/linear_nocontrol.pdf', bbox_inches='tight', dpi=200, pad_inches=0, facecolor='white')\n",
    "fig.savefig(f'plots/tsg/linear_nocontrol.png', bbox_inches='tight', dpi=200, pad_inches=0, facecolor='white')"
   ]
  },
  {
   "attachments": {},
   "cell_type": "markdown",
   "id": "f0c55bc1-4555-4513-9c56-8760c90734c8",
   "metadata": {},
   "source": [
    "## Figures\n",
    "1. voltage profile, robust controller with true X\n",
    "2. voltage profile, robust controller+CBC with random X\n",
    "3. voltage profile, robust controller+CBC with random X, known topo info for 14 buses\n",
    "4. voltage profile, robust controller+CBC with random X, known topo+param info for 14 buses\n",
    "5. error plot for $\\|\\hat{X}_t - X^*\\|_\\triangle$"
   ]
  },
  {
   "cell_type": "code",
   "execution_count": null,
   "id": "1f7b727c-4dfd-4cb0-adb0-2733a382c6e8",
   "metadata": {},
   "outputs": [],
   "source": [
    "# use same seed for all cases\n",
    "pkls_by_seed = {}\n",
    "for seed in [8, 9, 10, 11]:\n",
    "    pkls = {}\n",
    "    pkl_paths = {\n",
    "        'unknown': glob(f'out/CBCproj_noise1.0_perm_norm1.0_seed{seed}_2*.pkl')[0],\n",
    "        'topo-14': glob(f'out/CBCproj_noise1.0_perm_norm1.0_seed{seed}_knowntopo14_2*.pkl')[0],\n",
    "        'lines-14': glob(f'out/CBCproj_noise1.0_perm_norm1.0_seed{seed}_knownlines14_2*.pkl')[0],\n",
    "        'known': 'out/CBCconst_20220211_052507.pkl',\n",
    "    }\n",
    "\n",
    "    for name, pkl_path in pkl_paths.items():\n",
    "        with open(pkl_path, 'rb') as f:\n",
    "            pkls[name] = pickle.load(f)\n",
    "            print(pkls[name].keys())\n",
    "    pkls_by_seed[seed] = pkls"
   ]
  },
  {
   "cell_type": "code",
   "execution_count": null,
   "id": "48745368",
   "metadata": {},
   "outputs": [],
   "source": [
    "def plot_pkl(name: str, data: dict, plot_legend: bool = False) -> None:\n",
    "    ts = range(T)\n",
    "    fig, ax = plt.subplots(figsize=(4, 3), dpi=60, tight_layout=True)\n",
    "    for i in np.array(index) - 2:\n",
    "        ax.plot(ts, np.sqrt(data['vs'][:, i]), label=f'{i+1}')\n",
    "\n",
    "    ax.axhline(11.4, ls='--', color='black')\n",
    "    ax.axhline(12.6, ls='--', color='black')\n",
    "    ax.set(ylabel='Voltage (kV)', ylim=(y_min, y_max),\n",
    "           yticks=[11.4, 11.7, 12, 12.3, 12.6])\n",
    "    ax.set(xlabel='time $t$', xlim=(-50, T),\n",
    "           xticks=TIME_TICKS, xticklabels=TIME_LABELS)\n",
    "\n",
    "    fig.savefig(f'plots/tsg/linear_{name}.pdf', bbox_inches='tight', dpi=200, pad_inches=0, facecolor='white')\n",
    "    fig.savefig(f'plots/tsg/linear_{name}.png', bbox_inches='tight', dpi=200, pad_inches=0, facecolor='white')\n",
    "\n",
    "    if plot_legend:\n",
    "        leg = ax.legend(loc='center left', bbox_to_anchor=(1, 0.5), title='bus')\n",
    "        fig.canvas.draw()\n",
    "        bbox = leg.get_window_extent().transformed(fig.dpi_scale_trans.inverted())\n",
    "        fig.savefig('plots/tsg/linear_legend.pdf', dpi=200, bbox_inches=bbox, facecolor='white')\n",
    "        fig.savefig('plots/tsg/linear_legend.png', dpi=200, bbox_inches=bbox, facecolor='white')"
   ]
  },
  {
   "cell_type": "code",
   "execution_count": null,
   "id": "e23b4255",
   "metadata": {},
   "outputs": [],
   "source": [
    "seed = 10\n",
    "for i, (name, data) in enumerate(pkls_by_seed[seed].items()):\n",
    "    plot_pkl(name, data, plot_legend=(i == 0))"
   ]
  },
  {
   "cell_type": "code",
   "execution_count": null,
   "id": "b9a1bfd1",
   "metadata": {},
   "outputs": [],
   "source": [
    "fig, ax = plt.subplots(figsize=(4, 3), dpi=60, tight_layout=True)\n",
    "\n",
    "for name, data in pkls.items():\n",
    "    data = pkls[name]\n",
    "    ax.plot(data['dists']['t'] + [T], data['dists']['true'] + [data['dists']['true'][-1]],\n",
    "            label=name)\n",
    "    ax.scatter(0, data['dists']['true'][0])\n",
    "ax.legend()\n",
    "ax.set_ylabel(r'$||\\hat{X}_t - X^\\star||_\\bigtriangleup$')\n",
    "ax.set(xticks=TIME_TICKS, xticklabels=TIME_LABELS)\n",
    "ax.set(xlabel='time $t$', xlim=(-50, T))\n",
    "fig.savefig(f'plots/tsg/linear_error.pdf', bbox_inches='tight', dpi=200, pad_inches=0, facecolor='white')\n",
    "fig.savefig(f'plots/tsg/linear_error.png', bbox_inches='tight', dpi=200, pad_inches=0, facecolor='white')"
   ]
  },
  {
   "attachments": {},
   "cell_type": "markdown",
   "id": "8356853e",
   "metadata": {},
   "source": [
    "## Figures (Alternative)\n",
    "\n",
    "Only plot voltages for two buses: 18 and 30 (where bus 0 is substation)"
   ]
  },
  {
   "cell_type": "code",
   "execution_count": null,
   "id": "12d12ea9",
   "metadata": {},
   "outputs": [],
   "source": [
    "def plot_bus(bus: int, pkls: dict, plot_legend: bool = False) -> None:\n",
    "    ts = range(T)\n",
    "    fig, ax = plt.subplots(figsize=(4, 3), dpi=200, tight_layout=True)\n",
    "\n",
    "    for name, data in pkls.items():\n",
    "        ax.plot(ts, np.sqrt(data['vs'][:, bus-1]), label=name)\n",
    "\n",
    "    ax.axhline(11.4, ls='--', color='black')\n",
    "    ax.axhline(12.6, ls='--', color='black')\n",
    "    ax.set(ylabel='Voltage (kV)', ylim=(y_min, y_max),\n",
    "           yticks=[11.4, 11.7, 12, 12.3, 12.6])\n",
    "    ax.set(xlabel='time $t$', xlim=(-50, T),\n",
    "           xticks=TIME_TICKS, xticklabels=TIME_LABELS)\n",
    "\n",
    "    fig.savefig(f'plots/tsg/linear_bus{bus}.pdf', bbox_inches='tight', dpi=200, pad_inches=0, facecolor='white')\n",
    "    fig.savefig(f'plots/tsg/linear_bus{bus}.png', bbox_inches='tight', dpi=200, pad_inches=0, facecolor='white')\n",
    "\n",
    "    if plot_legend:\n",
    "        leg = ax.legend(loc='center left', bbox_to_anchor=(1, 0.5))\n",
    "        fig.canvas.draw()\n",
    "        bbox = leg.get_window_extent().transformed(fig.dpi_scale_trans.inverted())\n",
    "        fig.savefig('plots/tsg/linear_legend2.pdf', dpi=200, bbox_inches=bbox, facecolor='white')\n",
    "        fig.savefig('plots/tsg/linear_legend2.png', dpi=200, bbox_inches=bbox, facecolor='white')"
   ]
  },
  {
   "cell_type": "code",
   "execution_count": null,
   "id": "51cdec7a",
   "metadata": {},
   "outputs": [],
   "source": [
    "for i, bus in enumerate([18, 30]):\n",
    "    plot_bus(bus, pkls_by_seed[10], plot_legend=(i==0))"
   ]
  }
 ],
 "metadata": {
  "kernelspec": {
   "display_name": "cms21",
   "language": "python",
   "name": "python3"
  },
  "language_info": {
   "codemirror_mode": {
    "name": "ipython",
    "version": 3
   },
   "file_extension": ".py",
   "mimetype": "text/x-python",
   "name": "python",
   "nbconvert_exporter": "python",
   "pygments_lexer": "ipython3",
   "version": "3.9.10 | packaged by conda-forge | (main, Feb  1 2022, 21:24:11) \n[GCC 9.4.0]"
  },
  "vscode": {
   "interpreter": {
    "hash": "10b6275cc9ddd3a78a2191f6baae49e6f52bcb59b992509c77c5b1f4a0eb0ef2"
   }
  }
 },
 "nbformat": 4,
 "nbformat_minor": 5
}
