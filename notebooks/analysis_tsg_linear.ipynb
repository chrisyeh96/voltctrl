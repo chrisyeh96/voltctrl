{
 "cells": [
  {
   "attachments": {},
   "cell_type": "markdown",
   "metadata": {},
   "source": [
    "## Analysis of Controller on Linear Simulation\n",
    "\n",
    "This notebook generates the following tables and figures in the paper\n",
    "\n",
    "> Yeh, Christopher, et al. \"Online learning for robust voltage control under uncertain grid topology.\" _arXiv preprint arXiv:2306.16674_ (2023).\n",
    "\n",
    "- Tables: 1 (top)\n",
    "- Figures: 2a, 3, 5a, 7"
   ]
  },
  {
   "cell_type": "code",
   "execution_count": null,
   "id": "adb73d0f",
   "metadata": {},
   "outputs": [],
   "source": [
    "%load_ext autoreload\n",
    "%autoreload 2\n",
    "%matplotlib inline\n",
    "%cd .."
   ]
  },
  {
   "cell_type": "code",
   "execution_count": null,
   "id": "2749593c-5cc1-4af8-acfe-151d32bc1e89",
   "metadata": {},
   "outputs": [],
   "source": [
    "from __future__ import annotations\n",
    "\n",
    "from glob import glob\n",
    "import os\n",
    "\n",
    "import matplotlib.pyplot as plt\n",
    "import numpy as np\n",
    "import pandas as pd\n",
    "from tqdm.auto import tqdm\n",
    "\n",
    "from analysis import calculate_violations, plot_error_and_etahat, plot_voltages\n",
    "from utils import load_pkl, savefig\n",
    "\n",
    "# hide top and right splines on plots\n",
    "plt.rcParams['axes.spines.right'] = False\n",
    "plt.rcParams['axes.spines.top'] = False"
   ]
  },
  {
   "cell_type": "code",
   "execution_count": null,
   "id": "ae068f86",
   "metadata": {},
   "outputs": [],
   "source": [
    "plots_dir = 'plots/tsg_final/'\n",
    "os.makedirs(plots_dir, exist_ok=True)"
   ]
  },
  {
   "cell_type": "code",
   "execution_count": null,
   "id": "79387325-226e-4756-b19d-9efc77e000cf",
   "metadata": {},
   "outputs": [],
   "source": [
    "from network_utils import (\n",
    "    create_56bus,\n",
    "    create_RX_from_net,\n",
    "    read_load_data)\n",
    "\n",
    "net = create_56bus()\n",
    "R, X = create_RX_from_net(net, noise=0)  # true R and X\n",
    "p, qe = read_load_data()  # in MW and MVar\n",
    "T, n = p.shape\n",
    "print(f'T={T}, n={n}')\n",
    "\n",
    "v_nom = 12**2  # nominal squared voltage magnitude, units kV^2\n",
    "v_sub = v_nom  # fixed squared voltage magnitude at substation, units kV^2\n",
    "\n",
    "vpars = qe @ X + p @ R + v_sub  # shape [T, n]\n",
    "\n",
    "Vpar_min = np.min(vpars, axis=0)  # shape [n]\n",
    "Vpar_max = np.max(vpars, axis=0)  # shape [n]\n",
    "Vpar = (Vpar_min, Vpar_max)"
   ]
  },
  {
   "cell_type": "code",
   "execution_count": null,
   "id": "77b6451d",
   "metadata": {},
   "outputs": [],
   "source": [
    "print('max-voltage node:', np.argmax(vpars.max(axis=0)))\n",
    "print('min-voltage node:', np.argmin(vpars.min(axis=0)))"
   ]
  },
  {
   "attachments": {},
   "cell_type": "markdown",
   "id": "e5c24df9",
   "metadata": {},
   "source": [
    "## Figure 2a\n",
    "\n",
    "linear simulation, no controller"
   ]
  },
  {
   "cell_type": "code",
   "execution_count": null,
   "id": "df55316e",
   "metadata": {},
   "outputs": [],
   "source": [
    "plot_voltages(vpars, ylim=(11.0, 13.4), yticks=None,\n",
    "              plots_dir=plots_dir, filename='linear_nocontrol',\n",
    "              legend_filename='buses_legend')"
   ]
  },
  {
   "cell_type": "markdown",
   "id": "edcd09ae",
   "metadata": {},
   "source": [
    "## Table 1, top\n",
    "\n",
    "linear simulation, mistakes and violations"
   ]
  },
  {
   "cell_type": "code",
   "execution_count": null,
   "id": "7276a92b",
   "metadata": {},
   "outputs": [],
   "source": [
    "pkl_paths = {\n",
    "    ('known', None): 'out/CBCconst_δ20_η10_20230810_011115.pkl',  # fixed X̂, learned etahat\n",
    "}\n",
    "for seed in [8, 9, 10, 11]:\n",
    "    pkl_paths |= {\n",
    "        # default: δ=20\n",
    "        ('unknown', seed): glob(f'out/CBCproj_δ20_η10_noise1.0_perm_norm1.0_seed{seed}_2*.pkl')[0],\n",
    "        ('topo-14', seed): glob(f'out/CBCproj_δ20_η10_noise1.0_perm_norm1.0_seed{seed}_knowntopo14_2*.pkl')[0],\n",
    "        ('lines-14', seed): glob(f'out/CBCproj_δ20_η10_noise1.0_perm_norm1.0_seed{seed}_knownlines14_2*.pkl')[0],\n",
    "    }\n",
    "\n",
    "pkls = {}\n",
    "for (name, seed), pkl_path in pkl_paths.items():\n",
    "    pkl = load_pkl(pkl_path)\n",
    "    pkls[(name, seed)] = pkl\n",
    "    print(f'{name: <15} {str(seed): <4}', pkl.keys())"
   ]
  },
  {
   "cell_type": "code",
   "execution_count": null,
   "id": "32c6c743",
   "metadata": {},
   "outputs": [],
   "source": [
    "figs_and_axs = {}\n",
    "for seed in [8, 9, 10, 11]:\n",
    "    figs_and_axs[seed] = plt.subplots(1, 3, figsize=(9, 3))\n",
    "\n",
    "rows = []\n",
    "for key, pkl in pkls.items():\n",
    "    info, seed = key\n",
    "    ax = None\n",
    "    if seed in figs_and_axs:\n",
    "        fig, axs = figs_and_axs[seed]\n",
    "        if key[0] == 'unknown': ax = axs[0]\n",
    "        elif key[0] == 'topo-14': ax = axs[1]\n",
    "        elif key[0] == 'lines-14': ax = axs[2]\n",
    "\n",
    "    num_mistakes, avg_viol, max_viol = calculate_violations(\n",
    "        key=key, pkl=pkl, ax=ax, T=T, n=n)\n",
    "    rows.append((info, seed, num_mistakes, avg_viol, max_viol))\n",
    "\n",
    "# df.groupby().agg('std') gives sample standard deviation (ddof=1), which is what we want\n",
    "df = pd.DataFrame.from_records(rows, columns=['info', 'seed', 'mistakes', 'avg_viol', 'max_viol'])\n",
    "stats = df.groupby(['info'])[['mistakes', 'avg_viol', 'max_viol']].agg(['mean', 'std'])\n",
    "\n",
    "with pd.option_context('display.precision', 1):\n",
    "    display(stats)\n",
    "with pd.option_context('display.precision', 2):\n",
    "    display(stats)"
   ]
  },
  {
   "cell_type": "markdown",
   "id": "9b274a2f",
   "metadata": {},
   "source": [
    "## Figure 3\n",
    "\n",
    "linear simulation, voltage curves and model error"
   ]
  },
  {
   "cell_type": "code",
   "execution_count": null,
   "id": "2864a6a9",
   "metadata": {},
   "outputs": [],
   "source": [
    "pkl_paths = {\n",
    "    ('known', None): 'out/CBCconst_δ20_η10_20230810_011115.pkl',  # fixed X̂, learned etahat\n",
    "}\n",
    "seeds = [8]  # [8, 9, 10, 11]\n",
    "for seed in seeds:\n",
    "    pkl_paths |= {\n",
    "        # default: δ=20\n",
    "        ('unknown', seed): glob(f'out/CBCproj_δ20_η10_noise1.0_perm_norm1.0_seed{seed}_2*.pkl')[0],\n",
    "        ('topo-14', seed): glob(f'out/CBCproj_δ20_η10_noise1.0_perm_norm1.0_seed{seed}_knowntopo14_2*.pkl')[0],\n",
    "        ('lines-14', seed): glob(f'out/CBCproj_δ20_η10_noise1.0_perm_norm1.0_seed{seed}_knownlines14_2*.pkl')[0],\n",
    "    }\n",
    "\n",
    "pkls = {}\n",
    "for (name, seed), pkl_path in pkl_paths.items():\n",
    "    pkl = load_pkl(pkl_path)\n",
    "    pkls[(name, seed)] = pkl\n",
    "    print(f'{name: <15} {str(seed): <4}', pkl.keys())"
   ]
  },
  {
   "cell_type": "code",
   "execution_count": null,
   "id": "1e4ff14e",
   "metadata": {},
   "outputs": [],
   "source": [
    "def fig3abcd(seed: int) -> None:\n",
    "    for name in ['unknown', 'topo-14', 'lines-14']:\n",
    "        data = pkls[(name, seed)]\n",
    "        filename = f'linear_{name}_s{seed}'\n",
    "        plot_voltages(data['vs'], plots_dir=plots_dir, filename=filename)\n",
    "    \n",
    "    data = pkls[('known', None)]\n",
    "    filename = f'linear_known'\n",
    "    plot_voltages(data['vs'], plots_dir=plots_dir, filename=filename)\n",
    "\n",
    "\n",
    "fig3abcd(seed=8)"
   ]
  },
  {
   "cell_type": "code",
   "execution_count": null,
   "id": "51cc7cc7",
   "metadata": {},
   "outputs": [],
   "source": [
    "def fig3e(seed: int) -> None:\n",
    "    fig3e_pkls = {\n",
    "        name: pkls[(name, seed)]\n",
    "        for name in ['unknown', 'topo-14', 'lines-14']\n",
    "    }\n",
    "    fig3e_pkls['known'] = pkls[('known', None)]\n",
    "    plot_error_and_etahat(\n",
    "        fig3e_pkls, plots_dir=plots_dir, filename=f'linear_error_s{seed}',\n",
    "        legend_loc='top')\n",
    "\n",
    "\n",
    "fig3e(seed=8)"
   ]
  },
  {
   "cell_type": "markdown",
   "id": "9aa12f78",
   "metadata": {},
   "source": [
    "## Figure 5a\n",
    "\n",
    "linear simulation, effect of $\\delta$ on consistent model chasing"
   ]
  },
  {
   "cell_type": "code",
   "execution_count": null,
   "id": "2bdb68c5",
   "metadata": {},
   "outputs": [],
   "source": [
    "pkl_paths = {}\n",
    "seeds = [8]  # [8, 9, 10, 11]\n",
    "for seed in seeds:\n",
    "    pkl_paths |= {\n",
    "        (r'η* known', seed): glob(f'out/CBCproj_noise1.0_perm_norm1.0_seed{seed}_knownlines14_2*.pkl')[0],\n",
    "        (r'δ=1', seed): glob(f'out/CBCproj_δ1_η10_noise1.0_perm_norm1.0_seed{seed}_knownlines14_2*.pkl')[0],\n",
    "        (r'δ=20', seed): glob(f'out/CBCproj_δ20_η10_noise1.0_perm_norm1.0_seed{seed}_knownlines14_2*.pkl')[0],\n",
    "        (r'δ=100', seed): glob(f'out/CBCproj_δ100_η10_noise1.0_perm_norm1.0_seed{seed}_knownlines14_2*.pkl')[0],\n",
    "        (r'δ=500', seed): glob(f'out/CBCproj_δ500_η10_noise1.0_perm_norm1.0_seed{seed}_knownlines14_2*.pkl')[0],\n",
    "    }\n",
    "\n",
    "pkls = {}\n",
    "for (name, seed), pkl_path in pkl_paths.items():\n",
    "    pkl = load_pkl(pkl_path)\n",
    "    pkls[(name, seed)] = pkl\n",
    "    print(f'{name: <15} {str(seed): <4}', pkl.keys())"
   ]
  },
  {
   "cell_type": "code",
   "execution_count": null,
   "id": "43fef79c",
   "metadata": {},
   "outputs": [],
   "source": [
    "def fig5a(seed: int, legend_loc: str | None) -> None:\n",
    "    pkls_by_delta = {\n",
    "        name: pkls[(name, seed)]\n",
    "        for name in ['η* known', 'δ=1', 'δ=20', 'δ=100', 'δ=500']\n",
    "    }\n",
    "    filename = f'linear_error_by_delta_s{seed}'\n",
    "    plot_error_and_etahat(\n",
    "        pkls_by_delta, plots_dir=plots_dir, filename=filename,\n",
    "        legend_loc=legend_loc, etamax=10)\n",
    "\n",
    "\n",
    "fig5a(seed=8, legend_loc='separate')"
   ]
  },
  {
   "cell_type": "markdown",
   "id": "958f406e",
   "metadata": {},
   "source": [
    "## Figure 7\n",
    "\n",
    "linear simulation, detecting topology change"
   ]
  },
  {
   "cell_type": "code",
   "execution_count": null,
   "id": "f8689762",
   "metadata": {},
   "outputs": [],
   "source": [
    "seed = 8\n",
    "pkl_paths = {\n",
    "    # default: δ=20\n",
    "    'unknown': glob(f'out/CBCproj_δ20_η10_noise1.0_perm_norm1.0_seed{seed}_topochange_2*.pkl')[0],\n",
    "    'topo-14': glob(f'out/CBCproj_δ20_η10_noise1.0_perm_norm1.0_seed{seed}_knowntopo14_topochange_2*.pkl')[0],\n",
    "    'lines-14': glob(f'out/CBCproj_δ20_η10_noise1.0_perm_norm1.0_seed{seed}_knownlines14_topochange_2*.pkl')[0],\n",
    "}\n",
    "\n",
    "pkls = {}\n",
    "for name, pkl_path in pkl_paths.items():\n",
    "    pkl = load_pkl(pkl_path)\n",
    "    pkls[name] = pkl\n",
    "    print(f'{name: <15}', pkl.keys())\n",
    "\n",
    "    pkl['dists1'] = pkl['dists']\n",
    "    pkl['dists'] = {\n",
    "        'X_true': np.concatenate([pkl['dists1']['X_true'], pkl['dists2']['X_true']]),\n",
    "        'η': np.concatenate([pkl['dists1']['η'], pkl['dists2']['η']]),\n",
    "        't': np.concatenate([pkl['dists1']['t'], np.array(pkl['dists2']['t']) + int(T/2)]),\n",
    "    }"
   ]
  },
  {
   "cell_type": "code",
   "execution_count": null,
   "id": "1630a16f",
   "metadata": {},
   "outputs": [],
   "source": [
    "plot_error_and_etahat(\n",
    "    pkls, plots_dir=plots_dir,\n",
    "    filename=f'linear_detectchange_s{seed}',\n",
    "    legend_loc='separate')"
   ]
  },
  {
   "attachments": {},
   "cell_type": "markdown",
   "id": "f0c55bc1-4555-4513-9c56-8760c90734c8",
   "metadata": {},
   "source": [
    "## Unused"
   ]
  },
  {
   "cell_type": "code",
   "execution_count": null,
   "id": "1f7b727c-4dfd-4cb0-adb0-2733a382c6e8",
   "metadata": {},
   "outputs": [],
   "source": [
    "pkl_paths = {\n",
    "    # ('known', None): 'out/CBCconst_20230809_234150.pkl',  # fixed X̂, fixed etahat\n",
    "    ('known', None): 'out/CBCconst_δ20_η10_20230810_011115.pkl',  # fixed X̂, learned etahat\n",
    "}\n",
    "for seed in [8, 9, 10, 11]:\n",
    "    pkl_paths |= {\n",
    "        # eta-known\n",
    "        # ('unknown', seed): glob(f'out/CBCproj_noise1.0_perm_norm1.0_seed{seed}_2*.pkl')[0],\n",
    "        # ('topo-14', seed): glob(f'out/CBCproj_noise1.0_perm_norm1.0_seed{seed}_knowntopo14_2*.pkl')[0],\n",
    "        # ('lines-14', seed): glob(f'out/CBCproj_noise1.0_perm_norm1.0_seed{seed}_knownlines14_2*.pkl')[0],\n",
    "\n",
    "        # default: δ=20\n",
    "        ('unknown', seed): glob(f'out/CBCproj_δ20_η10_noise1.0_perm_norm1.0_seed{seed}_2*.pkl')[0],\n",
    "        # ('topo-14', seed): glob(f'out/CBCproj_δ20_η10_noise1.0_perm_norm1.0_seed{seed}_knowntopo14_topochange_2*.pkl')[0],\n",
    "        ('topo-14', seed): glob(f'out/CBCproj_δ20_η10_noise1.0_perm_norm1.0_seed{seed}_knowntopo14_2*.pkl')[0],\n",
    "        ('lines-14', seed): glob(f'out/CBCproj_δ20_η10_noise1.0_perm_norm1.0_seed{seed}_knownlines14_2*.pkl')[0],\n",
    "\n",
    "        # (r'η* known', seed): glob(f'out/CBCproj_noise1.0_perm_norm1.0_seed{seed}_knownlines14_2*.pkl')[0],\n",
    "        # (r'δ=1', seed): glob(f'out/CBCproj_δ1_η10_noise1.0_perm_norm1.0_seed{seed}_knownlines14_2*.pkl')[0],\n",
    "        # (r'δ=20', seed): glob(f'out/CBCproj_δ20_η10_noise1.0_perm_norm1.0_seed{seed}_knownlines14_2*.pkl')[0],\n",
    "        # (r'δ=100', seed): glob(f'out/CBCproj_δ100_η10_noise1.0_perm_norm1.0_seed{seed}_knownlines14_2*.pkl')[0],\n",
    "        # (r'δ=500', seed): glob(f'out/CBCproj_δ500_η10_noise1.0_perm_norm1.0_seed{seed}_knownlines14_2*.pkl')[0],\n",
    "    }\n",
    "\n",
    "pkls = {}\n",
    "for (name, seed), pkl_path in pkl_paths.items():\n",
    "    pkl = load_pkl(pkl_path)\n",
    "    pkls[(name, seed)] = pkl\n",
    "    print(f'{name: <15} {str(seed): <4}', pkl.keys())"
   ]
  },
  {
   "cell_type": "code",
   "execution_count": null,
   "id": "342167a3",
   "metadata": {},
   "outputs": [],
   "source": [
    "def check_consistency(data: dict):\n",
    "    v = data['vs']\n",
    "    qc = data['qcs']\n",
    "    u = qc[1:] - qc[:-1]  # u[t] = u(t) = q^c(t+1) - q^c(t)\n",
    "    Δv = v[1:] - v[:-1]  # Δv[t] = v(t+1) - v(t)\n",
    "    count_inconsistent = []\n",
    "    for t in sorted(data['params'].keys()):\n",
    "        if data['config']['δ'] == 0:\n",
    "            X̂ = data['params'][t]\n",
    "            etahat = 8.65\n",
    "        else:\n",
    "            X̂, etahat = data['params'][t]\n",
    "        vpar_hat = v[1:t+1] - qc[1:t+1] @ X̂\n",
    "        w_hat = Δv[:t] - u[:t] @ X̂\n",
    "        consistent = (\n",
    "            (Vpar_min - 0.05 <= vpar_hat).all(axis=1)\n",
    "            | (vpar_hat <= Vpar_max + 0.05).all(axis=1)\n",
    "            | (np.max(np.abs(w_hat), axis=1) <= etahat)\n",
    "        )\n",
    "        num_inconsistent = t - consistent.sum()\n",
    "        count_inconsistent.append(num_inconsistent)\n",
    "    return count_inconsistent"
   ]
  },
  {
   "cell_type": "code",
   "execution_count": null,
   "id": "78979cba",
   "metadata": {},
   "outputs": [],
   "source": [
    "count_inconsistent = {}\n",
    "for (name, seed), data in tqdm(pkls.items()):\n",
    "    count_inconsistent[(name, seed)] = check_consistency(data)"
   ]
  },
  {
   "cell_type": "code",
   "execution_count": null,
   "id": "0afe9430",
   "metadata": {},
   "outputs": [],
   "source": [
    "fig, axs = plt.subplots(1, 4, sharey=True, figsize=(15, 4))\n",
    "for (name, seed), counts in count_inconsistent.items():\n",
    "    if seed is None:\n",
    "        continue\n",
    "    ax = axs[seed % 8]\n",
    "    ax.plot(np.arange(len(counts)) * 100, counts, label=f'{name}')\n",
    "    ax.legend(loc='upper left')\n",
    "for ax, seed in zip(axs, [8, 9, 10, 11]):\n",
    "    ax.set(xlabel='time $t$', title=f'seed {seed}')\n",
    "    if seed == 8:\n",
    "        ax.set(ylabel='# of inconsistent data points')\n",
    "\n",
    "# savefig(fig, plots_dir=plots_dir, filename='violations.png')"
   ]
  }
 ],
 "metadata": {
  "kernelspec": {
   "display_name": "cms21",
   "language": "python",
   "name": "python3"
  },
  "language_info": {
   "codemirror_mode": {
    "name": "ipython",
    "version": 3
   },
   "file_extension": ".py",
   "mimetype": "text/x-python",
   "name": "python",
   "nbconvert_exporter": "python",
   "pygments_lexer": "ipython3",
   "version": "3.10.14"
  },
  "vscode": {
   "interpreter": {
    "hash": "10b6275cc9ddd3a78a2191f6baae49e6f52bcb59b992509c77c5b1f4a0eb0ef2"
   }
  }
 },
 "nbformat": 4,
 "nbformat_minor": 5
}
