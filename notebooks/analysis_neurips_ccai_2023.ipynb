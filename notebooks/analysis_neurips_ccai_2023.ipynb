{
 "cells": [
  {
   "attachments": {},
   "cell_type": "markdown",
   "metadata": {},
   "source": [
    "This notebook generates data and figures used in the NeurIPS 2023 Workshop on Tackling Climate Change with Machine Learning."
   ]
  },
  {
   "cell_type": "code",
   "execution_count": null,
   "metadata": {},
   "outputs": [],
   "source": [
    "%load_ext autoreload\n",
    "%autoreload 2\n",
    "%matplotlib inline\n",
    "%cd .."
   ]
  },
  {
   "cell_type": "code",
   "execution_count": null,
   "metadata": {},
   "outputs": [],
   "source": [
    "from __future__ import annotations\n",
    "\n",
    "from glob import glob\n",
    "import os\n",
    "import pickle\n",
    "\n",
    "import matplotlib.pyplot as plt\n",
    "import numpy as np\n",
    "from scipy.stats import norm, laplace\n",
    "from tqdm.auto import tqdm\n",
    "\n",
    "from network_utils import (\n",
    "    create_56bus,\n",
    "    create_RX_from_net,\n",
    "    read_load_data)\n",
    "\n",
    "# hide top and right splines on plots\n",
    "plt.rcParams['axes.spines.right'] = False\n",
    "plt.rcParams['axes.spines.top'] = False"
   ]
  },
  {
   "cell_type": "code",
   "execution_count": null,
   "metadata": {},
   "outputs": [],
   "source": [
    "plots_dir = 'plots/ccai2023/'\n",
    "os.makedirs(plots_dir, exist_ok=True)\n",
    "\n",
    "def savefig(fig: plt.Figure, filename: str, **kwargs) -> None:\n",
    "    path = os.path.join(plots_dir, filename)\n",
    "    defaults = dict(dpi=300, pad_inches=0, bbox_inches='tight', facecolor='white')\n",
    "    fig.savefig(path, **(defaults | kwargs))"
   ]
  },
  {
   "cell_type": "code",
   "execution_count": null,
   "metadata": {},
   "outputs": [],
   "source": [
    "net = create_56bus()\n",
    "R, X = create_RX_from_net(net, noise=0)  # true R and X\n",
    "p, qe = read_load_data()  # in MW and MVar\n",
    "T, n = p.shape\n",
    "\n",
    "v_nom = 12**2  # nominal squared voltage magnitude, units kV^2\n",
    "v_sub = v_nom  # fixed squared voltage magnitude at substation, units kV^2\n",
    "\n",
    "vpars = qe @ X + p @ R + v_sub  # shape [T, n]\n",
    "\n",
    "Vpar_min = np.min(vpars, axis=0)  # shape [n]\n",
    "Vpar_max = np.max(vpars, axis=0)  # shape [n]\n",
    "Vpar = (Vpar_min, Vpar_max)"
   ]
  },
  {
   "cell_type": "code",
   "execution_count": null,
   "metadata": {},
   "outputs": [],
   "source": [
    "TIME_TICKS =  [   0, 2400, 4800,  7200,  9600, 12000, 14400]\n",
    "TIME_LABELS = ['0h', '4h', '8h', '12h', '16h', '20h', '24h']\n",
    "\n",
    "v_min, v_max = (11.4**2, 12.6**2)  # +/-5%, units kV^2\n",
    "print(v_min, v_max)\n",
    "\n",
    "y_min, y_max = 11.0, 13.4"
   ]
  },
  {
   "cell_type": "code",
   "execution_count": null,
   "metadata": {},
   "outputs": [],
   "source": [
    "# Recreate Fig8 in Qu and Li (2020)\n",
    "# - they count the substation as bus 1\n",
    "# - we count the substation as bus 0\n",
    "buses = [8, 18, 21, 30, 39, 45, 54]  # 0 = substation"
   ]
  },
  {
   "attachments": {},
   "cell_type": "markdown",
   "metadata": {},
   "source": [
    "### Plot noise distribution\n",
    "\n",
    "Under linear dynamics"
   ]
  },
  {
   "cell_type": "code",
   "execution_count": null,
   "metadata": {},
   "outputs": [],
   "source": [
    "ws = vpars[1:] - vpars[:-1]"
   ]
  },
  {
   "cell_type": "code",
   "execution_count": null,
   "metadata": {},
   "outputs": [],
   "source": [
    "fig, axs = plt.subplots(7, 8, figsize=(16, 14), sharex=True, sharey=True, tight_layout=True)\n",
    "\n",
    "x = np.linspace(-5, 5, 100)\n",
    "\n",
    "for r in range(7):\n",
    "    for c in range(8):\n",
    "        ax = axs[r, c]\n",
    "        bus = r * 8 + c\n",
    "        if bus >= 55:\n",
    "            ax.axis('off')\n",
    "            break\n",
    "        ax.hist(ws[:, bus], bins=np.arange(-9, 9, 0.5), density=True, label=f'i={bus+1}')\n",
    "        ax.plot(x, norm.pdf(x, loc=np.mean(ws[:, bus]), scale=np.std(ws[:, bus])), alpha=0.8)\n",
    "\n",
    "        loc, scale = laplace.fit(ws[:, bus])\n",
    "        ax.plot(x, laplace.pdf(x, loc=loc, scale=scale), alpha=0.8)\n",
    "\n",
    "        # ax.set(yscale='log', ylim=(1e-6, 10))\n",
    "        ax.set(ylim=(1e-6, 6))\n",
    "        ax.legend()\n",
    "\n",
    "        if c == 0:\n",
    "            ax.set(ylabel='prob. density')\n",
    "    if r == 6:\n",
    "        ax.set(xlabel='$w_i(t)$')\n",
    "plt.show()"
   ]
  },
  {
   "cell_type": "markdown",
   "metadata": {},
   "source": [
    "### Nonlinear no control"
   ]
  },
  {
   "cell_type": "code",
   "execution_count": null,
   "metadata": {},
   "outputs": [],
   "source": [
    "def plot_2b():\n",
    "    # plot nonlinear sim no-control\n",
    "    fig, ax = plt.subplots(figsize=(4, 3), dpi=200, tight_layout=True)\n",
    "\n",
    "    ts = range(T)\n",
    "    for i in np.asarray(buses) - 1:\n",
    "        ax.plot(ts, np.sqrt(vpars[:, i]))\n",
    "\n",
    "    ax.axhline(11.4, ls='--', color='black')\n",
    "    ax.axhline(12.6, ls='--', color='black')\n",
    "    ax.set(ylabel='Voltage (kV)', ylim=(11.0, 13.4),\n",
    "           yticks=[11.1, 11.4, 11.7, 12, 12.3, 12.6, 12.9, 13.2])\n",
    "    ax.set(xlabel='time $t$', xlim=(0, T),\n",
    "           xticks=TIME_TICKS, xticklabels=TIME_LABELS)\n",
    "\n",
    "    savefig(fig, filename='nonlinear_nocontrol.pdf')\n",
    "    savefig(fig, filename='nonlinear_nocontrol.png')\n",
    "    savefig(fig, filename='nonlinear_nocontrol.svg')"
   ]
  },
  {
   "cell_type": "code",
   "execution_count": null,
   "metadata": {},
   "outputs": [],
   "source": [
    "plot_2b()"
   ]
  },
  {
   "attachments": {},
   "cell_type": "markdown",
   "metadata": {},
   "source": [
    "### Make abridged plots"
   ]
  },
  {
   "cell_type": "code",
   "execution_count": null,
   "metadata": {},
   "outputs": [],
   "source": [
    "def load_pkl(path: str) -> dict:\n",
    "    with open(path, 'rb') as f:\n",
    "        return pickle.load(f)\n",
    "\n",
    "\n",
    "outdir = 'out/nonlinear/'\n",
    "pkl_paths = {\n",
    "    # ('known', None): outdir + 'CBCconst_20230810_130611.pkl',  # fixed X̂, fixed etahat\n",
    "    ('known $X^\\star$', None): outdir + 'CBCconst_δ20_η10_20230810_130842.pkl',  # fixed X̂, learned etahat\n",
    "}\n",
    "for seed in [8, 9, 10, 11]:\n",
    "    pkl_paths |= {\n",
    "        # default: δ=20\n",
    "        ('unknown $X^\\star$', seed): glob(outdir + f'CBCproj_δ20_η10_noise1.0_perm_norm1.0_seed{seed}_2*.pkl')[0],\n",
    "    }\n",
    "\n",
    "pkls = {}\n",
    "for (name, seed), pkl_path in pkl_paths.items():\n",
    "    pkl = load_pkl(pkl_path)\n",
    "    pkls[(name, seed)] = pkl\n",
    "    print(f'{name: <15} {str(seed): <4}', pkl.keys())"
   ]
  },
  {
   "cell_type": "code",
   "execution_count": null,
   "metadata": {},
   "outputs": [],
   "source": [
    "def plot_pkl(name: str, data: dict, seed: int | None = None, plot_legend: bool = False) -> None:\n",
    "    ts = range(T)\n",
    "    fig, ax = plt.subplots(figsize=(4, 3), dpi=60, tight_layout=True)\n",
    "    for i in np.array(buses) - 1:\n",
    "        ax.plot(ts, np.sqrt(data['vs'][:, i]), label=f'{i+1}')\n",
    "\n",
    "    ax.axhline(11.4, ls='--', color='black')\n",
    "    ax.axhline(12.6, ls='--', color='black')\n",
    "    ax.set(ylabel='Voltage (kV)', ylim=(y_min, y_max),\n",
    "           yticks=[11.1, 11.4, 11.7, 12, 12.3, 12.6, 12.9, 13.2])\n",
    "    ax.set(xlabel='time $t$', xlim=(-50, T),\n",
    "           xticks=TIME_TICKS, xticklabels=TIME_LABELS)\n",
    "\n",
    "    filename = f'nonlinear_{name}'\n",
    "    if seed is not None:\n",
    "        filename += f'_s{seed}'\n",
    "    savefig(fig, filename=f'{filename}.pdf')\n",
    "    savefig(fig, filename=f'{filename}.png')\n",
    "    savefig(fig, filename=f'{filename}.svg')\n",
    "\n",
    "    if plot_legend:\n",
    "        leg = ax.legend(loc='center left', bbox_to_anchor=(1, 0.5), title='bus')\n",
    "        fig.canvas.draw()\n",
    "        bbox = leg.get_window_extent().transformed(fig.dpi_scale_trans.inverted())\n",
    "        savefig(fig, 'nonlinear_legend.pdf', bbox_inches=bbox)\n",
    "        savefig(fig, 'nonlinear_legend.png', bbox_inches=bbox)\n",
    "        savefig(fig, 'nonlinear_legend.svg', bbox_inches=bbox)"
   ]
  },
  {
   "cell_type": "code",
   "execution_count": null,
   "metadata": {},
   "outputs": [],
   "source": [
    "def fig3abcd(seeds: list[int]) -> None:\n",
    "    for seed in seeds:\n",
    "        for i, name in enumerate(['unknown $X^\\star$']):  #, 'topo-14', 'lines-14']):\n",
    "            print(name, seed)\n",
    "            data = pkls[(name, seed)]\n",
    "            plot_pkl(name, data, seed, plot_legend=(i == 0))\n",
    "    plot_pkl('known $X^\\star$', pkls[('known $X^\\star$', None)], None)\n",
    "\n",
    "\n",
    "fig3abcd(seeds=[8])  # [8, 9, 10, 11])"
   ]
  },
  {
   "cell_type": "code",
   "execution_count": null,
   "metadata": {},
   "outputs": [],
   "source": [
    "def plot_error_and_etahat(pkls_dict: dict[str, dict], filename: str,\n",
    "                          legend: str | None) -> None:\n",
    "    \"\"\"\n",
    "    Args\n",
    "    - legend: one of [None, 'top', 'separate']\n",
    "    \"\"\"\n",
    "    fig, ax = plt.subplots(figsize=(4, 3), dpi=60, tight_layout=True)\n",
    "    axr = ax.twinx()\n",
    "    axr.spines['right'].set_visible(True)\n",
    "\n",
    "    for name, data in pkls_dict.items():\n",
    "        print(name)\n",
    "        ax.step(data['dists']['t'] + [T], data['dists']['X_true'] + [data['dists']['X_true'][-1]],\n",
    "                where='post', label=name)\n",
    "        ax.scatter(0, data['dists']['X_true'][0])\n",
    "        if 'η' in data['dists']:\n",
    "            axr.step([0] + data['dists']['t'] + [T], [0] + data['dists']['η'] + [data['dists']['η'][-1]], ':',\n",
    "                     where='post')\n",
    "        else:\n",
    "            axr.plot([0, T], [8.65, 8.65], ':')\n",
    "\n",
    "    ax.set_ylabel(r'$||\\hat{X}_t - X^\\star||_\\bigtriangleup$')\n",
    "    axr.set_ylabel(r'$\\hat\\eta$')\n",
    "    ax.set(xticks=TIME_TICKS, xticklabels=TIME_LABELS)\n",
    "    ax.set(xlabel='time $t$', xlim=(-50, T))\n",
    "\n",
    "    if legend == 'top':\n",
    "        ax.legend(ncols=2, bbox_to_anchor=(0, 1), loc='lower left')\n",
    "\n",
    "    savefig(fig, filename=f'{filename}.pdf')\n",
    "    savefig(fig, filename=f'{filename}.png')\n",
    "    savefig(fig, filename=f'{filename}.svg')\n",
    "\n",
    "    if legend == 'separate':\n",
    "        axr.set_ylabel('')\n",
    "        axr.set_yticklabels([])\n",
    "        leg = ax.legend(loc='center left', bbox_to_anchor=(1, 0.5))\n",
    "        fig.canvas.draw()\n",
    "        bbox = leg.get_tightbbox().transformed(fig.dpi_scale_trans.inverted())\n",
    "        savefig(fig, f'{filename}_legend.pdf', bbox_inches=bbox)\n",
    "        savefig(fig, f'{filename}_legend.png', bbox_inches=bbox)\n",
    "        savefig(fig, f'{filename}_legend.svg', bbox_inches=bbox)"
   ]
  },
  {
   "cell_type": "code",
   "execution_count": null,
   "metadata": {},
   "outputs": [],
   "source": [
    "def fig3e(seeds: list[int]) -> None:\n",
    "    for seed in seeds:\n",
    "        fig3e_pkls = {\n",
    "            name: pkls[(name, seed)]\n",
    "            for name in ['unknown $X^\\star$']  # , 'topo-14', 'lines-14']\n",
    "        }\n",
    "        fig3e_pkls['known $X^\\star$'] = pkls[('known $X^\\star$', None)]\n",
    "        plot_error_and_etahat(fig3e_pkls, filename=f'nonlinear_error_s{seed}', legend='top')\n",
    "\n",
    "\n",
    "fig3e(seeds=[8])  # , 9, 10, 11])"
   ]
  },
  {
   "cell_type": "code",
   "execution_count": null,
   "metadata": {},
   "outputs": [],
   "source": [
    "y_min, y_max = 11.2, 12.8"
   ]
  },
  {
   "cell_type": "code",
   "execution_count": null,
   "metadata": {},
   "outputs": [],
   "source": [
    "pkl_paths = {\n",
    "    ('known', None): outdir + 'CBCconst_δ20_η10_partialctrl_20230811_194616.pkl',  # fixed X̂, learned etahat\n",
    "}\n",
    "for seed in [8, 9, 10, 11]:\n",
    "    pkl_paths |= {\n",
    "        # default: δ=20\n",
    "        ('unknown', seed): glob(outdir + f'CBCproj_δ20_η10_noise1.0_perm_norm1.0_seed{seed}_partialctrl_2*.pkl')[0],\n",
    "    }\n",
    "\n",
    "pkls = {}\n",
    "for (name, seed), pkl_path in pkl_paths.items():\n",
    "    pkl = load_pkl(pkl_path)\n",
    "    pkls[(name, seed)] = pkl\n",
    "    print(f'{name: <15} {str(seed): <4}', pkl.keys())"
   ]
  },
  {
   "cell_type": "code",
   "execution_count": null,
   "metadata": {},
   "outputs": [],
   "source": [
    "def plot_fill(ax: plt.Axes, values: np.ndarray, color: int, label: str, alpha=False) -> None:\n",
    "    \"\"\"\n",
    "    Args\n",
    "    - values: shape [num_runs, T]\n",
    "    - color: int, index into tab20 colors\n",
    "        0 = blue, 2 = orange, 4 = green, 7 = purple\n",
    "    \"\"\"\n",
    "    num_runs, T = values.shape\n",
    "    ts = range(T)\n",
    "    dark = plt.cm.tab20.colors[color]\n",
    "    light = plt.cm.tab20.colors[color + 1]\n",
    "\n",
    "    if num_runs == 1:\n",
    "        ax.plot(ts, values[0], color=dark, lw=0.5, label=label)\n",
    "    else:\n",
    "        mean = values.mean(axis=0)\n",
    "        std = values.std(axis=0)\n",
    "        ax.plot(ts, mean, color=dark, lw=0.5, label=label)\n",
    "        if alpha:\n",
    "            ax.fill_between(ts, mean-std, mean+std, color=light, alpha=0.5)\n",
    "        else:\n",
    "            ax.fill_between(ts, mean-std, mean+std, color=light)"
   ]
  },
  {
   "cell_type": "code",
   "execution_count": null,
   "metadata": {},
   "outputs": [],
   "source": [
    "def plot_bus(pkls_by_label: dict, bus: int, legend: bool = False) -> None:\n",
    "    \"\"\"\n",
    "    Args:\n",
    "    - bus: int, where bus 0 = substation\n",
    "    \"\"\"\n",
    "    fig, ax = plt.subplots(figsize=(4, 3), tight_layout=True)\n",
    "    for c, (label, pkls) in enumerate(pkls_by_label.items()):\n",
    "        num_runs = len(pkls)\n",
    "        vs = np.zeros([num_runs, T])\n",
    "        for i, data in enumerate(pkls):\n",
    "            vs[i] = np.sqrt(data['vs'][:, bus - 1])\n",
    "        plot_fill(ax, vs, color=c*2, label=label, alpha=True)\n",
    "\n",
    "    ax.axhline(11.4, ls='--', color='black')\n",
    "    ax.axhline(12.6, ls='--', color='black')\n",
    "    ax.set(ylabel='Voltage (kV)', ylim=(y_min, y_max),\n",
    "           yticks=[11.4, 11.7, 12, 12.3, 12.6])\n",
    "    ax.set(xlabel='time $t$', xlim=(-50, T),\n",
    "           xticks=TIME_TICKS, xticklabels=TIME_LABELS)\n",
    "\n",
    "    savefig(fig, filename=f'nonlinear_partialctrl_bus{bus}.pdf')\n",
    "    savefig(fig, filename=f'nonlinear_partialctrl_bus{bus}.png')\n",
    "    savefig(fig, filename=f'nonlinear_partialctrl_bus{bus}.svg')\n",
    "\n",
    "    if legend:\n",
    "        leg = ax.legend(loc='center left', bbox_to_anchor=(1, 0.5))\n",
    "        fig.canvas.draw()\n",
    "        bbox = leg.get_tightbbox().transformed(fig.dpi_scale_trans.inverted())\n",
    "        savefig(fig, 'nonlinear_partialctrl_legend.pdf', bbox_inches=bbox)\n",
    "        savefig(fig, 'nonlinear_partialctrl_legend.png', bbox_inches=bbox)\n",
    "        savefig(fig, 'nonlinear_partialctrl_legend.svg', bbox_inches=bbox)"
   ]
  },
  {
   "cell_type": "code",
   "execution_count": null,
   "metadata": {},
   "outputs": [],
   "source": [
    "def fig6(seeds: list[int]) -> None:\n",
    "    for i, bus in enumerate([18, 30]):\n",
    "        pkls_by_label = {\n",
    "            'unknown': [pkls[('unknown', seed)] for seed in seeds],\n",
    "            'known': [pkls[('known', None)]],\n",
    "        }\n",
    "        plot_bus(pkls_by_label, bus=bus, legend=(i==0))\n",
    "\n",
    "fig6(seeds=[8, 9, 10, 11])"
   ]
  }
 ],
 "metadata": {
  "kernelspec": {
   "display_name": "voltctrl",
   "language": "python",
   "name": "python3"
  },
  "language_info": {
   "codemirror_mode": {
    "name": "ipython",
    "version": 3
   },
   "file_extension": ".py",
   "mimetype": "text/x-python",
   "name": "python",
   "nbconvert_exporter": "python",
   "pygments_lexer": "ipython3",
   "version": "3.10.12"
  },
  "orig_nbformat": 4
 },
 "nbformat": 4,
 "nbformat_minor": 2
}
