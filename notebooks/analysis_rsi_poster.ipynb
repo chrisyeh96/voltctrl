{
 "cells": [
  {
   "cell_type": "markdown",
   "metadata": {},
   "source": [
    "## Generate plots included in RSI Poster"
   ]
  },
  {
   "cell_type": "code",
   "execution_count": null,
   "metadata": {},
   "outputs": [],
   "source": [
    "%load_ext autoreload\n",
    "%autoreload 2\n",
    "%matplotlib inline\n",
    "%cd .."
   ]
  },
  {
   "cell_type": "code",
   "execution_count": null,
   "metadata": {},
   "outputs": [],
   "source": [
    "import os\n",
    "import pickle\n",
    "from pprint import pprint\n",
    "\n",
    "import matplotlib.pyplot as plt\n",
    "import networkx as nx\n",
    "import numpy as np\n",
    "import pandapower as pp\n",
    "\n",
    "from network_utils import (\n",
    "    create_56bus,\n",
    "    create_RX_from_net,\n",
    "    read_load_data)"
   ]
  },
  {
   "cell_type": "code",
   "execution_count": null,
   "metadata": {},
   "outputs": [],
   "source": [
    "plots_dir = 'plots/rsi_poster/'\n",
    "os.makedirs(plots_dir, exist_ok=True)\n",
    "\n",
    "def savefig(fig: plt.Figure, filename: str) -> None:\n",
    "    path = os.path.join(plots_dir, filename)\n",
    "    fig.savefig(path, dpi=300, pad_inches=0, bbox_inches='tight')"
   ]
  },
  {
   "attachments": {},
   "cell_type": "markdown",
   "metadata": {},
   "source": [
    "### Draw SCE 56-bus network, with color-coded nodes"
   ]
  },
  {
   "cell_type": "code",
   "execution_count": null,
   "metadata": {},
   "outputs": [],
   "source": [
    "net = create_56bus()\n",
    "G_true = pp.topology.create_nxgraph(net)\n",
    "R, X = create_RX_from_net(net, noise=0)  # true R and X\n",
    "p, qe = read_load_data()  # in MW and MVar\n",
    "T, n = p.shape\n",
    "\n",
    "v_min, v_max = (11.4**2, 12.6**2)  # +/-5%, units kV^2\n",
    "v_nom = 12**2  # nominal squared voltage magnitude, units kV^2\n",
    "v_sub = v_nom  # fixed squared voltage magnitude at substation, units kV^2\n",
    "\n",
    "vpars = qe @ X + p @ R + v_sub  # shape [T, n]\n",
    "Vpar_min = np.min(vpars, axis=0)  # shape [n]\n",
    "Vpar_max = np.max(vpars, axis=0)  # shape [n]\n",
    "\n",
    "print(T, n)"
   ]
  },
  {
   "cell_type": "code",
   "execution_count": null,
   "metadata": {},
   "outputs": [],
   "source": [
    "fig, ax = plt.subplots(1, 1, figsize=(4, 5), tight_layout=True)\n",
    "pos = nx.nx_agraph.graphviz_layout(G_true, prog='dot')\n",
    "nx.draw_networkx(\n",
    "    G_true, pos=pos, ax=ax, node_color='white', edgecolors='black',\n",
    "    node_size=150, with_labels=True, font_size=8)\n",
    "ax.axis('off')\n",
    "plt.show()"
   ]
  },
  {
   "cell_type": "code",
   "execution_count": null,
   "metadata": {},
   "outputs": [],
   "source": [
    "fig, ax = plt.subplots(1, 1, figsize=(3, 4), tight_layout=True)\n",
    "\n",
    "# determine node colors\n",
    "node_color = ['white'] * 56\n",
    "node_color[0] = 'black'\n",
    "buses = [8, 18, 21, 30, 39, 45, 54]  # 0 = substation\n",
    "for i, bus in enumerate(buses):\n",
    "    node_color[bus] = plt.cm.tab10.colors[i]\n",
    "\n",
    "nx.draw_networkx(\n",
    "    G_true, pos=pos, ax=ax, node_color=node_color, edgecolors='black',\n",
    "    node_size=100, with_labels=False)\n",
    "ax.axis('off')\n",
    "\n",
    "savefig(fig, os.path.join(plots_dir, 'sce_network.svg'))"
   ]
  },
  {
   "attachments": {},
   "cell_type": "markdown",
   "metadata": {},
   "source": [
    "### No control vs. perfect control"
   ]
  },
  {
   "cell_type": "code",
   "execution_count": null,
   "metadata": {},
   "outputs": [],
   "source": [
    "vmin = 11.4  # kV\n",
    "vmax = 12.6\n",
    "\n",
    "ylim = (11.1, 13.4)\n",
    "\n",
    "time_ticks =  [   0, 2400, 4800,  7200,  9600, 12000, 14400]\n",
    "time_labels = ['0h', '4h', '8h', '12h', '16h', '20h', '24h']\n",
    "\n",
    "buses = [18, 30]\n",
    "\n",
    "def setup_voltage_ax(ax):\n",
    "    ax.axhline(vmin, ls='--', color='black')\n",
    "    ax.axhline(vmax, ls='--', color='black')\n",
    "    ax.set(xlim=(-100, T), xticks=time_ticks, xticklabels=time_labels)\n",
    "    ax.set(ylim=ylim, ylabel='voltage (kV)')"
   ]
  },
  {
   "cell_type": "code",
   "execution_count": null,
   "metadata": {},
   "outputs": [],
   "source": [
    "with open('out/CBCconst_20220211_052507.pkl', 'rb') as f:\n",
    "    perf_ctrl = pickle.load(f)\n",
    "    print(list(perf_ctrl.keys()))"
   ]
  },
  {
   "cell_type": "code",
   "execution_count": null,
   "metadata": {},
   "outputs": [],
   "source": [
    "figs, axs = [], []\n",
    "for i in range(2):\n",
    "    fig, ax = plt.subplots(1, 1, figsize=(4, 3), dpi=60, tight_layout=True)\n",
    "    setup_voltage_ax(ax)\n",
    "    figs.append(fig)\n",
    "    axs.append(ax)\n",
    "\n",
    "colors = ['tab:orange', 'tab:red']\n",
    "for i, bus in enumerate(buses):\n",
    "    axs[0].plot(np.sqrt(vpars[:, bus-1]), c=colors[i])\n",
    "    axs[1].plot(np.sqrt(perf_ctrl['vs'][:, bus-1]), c=colors[i])\n",
    "\n",
    "savefig(figs[0], path=os.path.join(plots_dir, 'no_control.svg'))\n",
    "savefig(figs[1], path=os.path.join(plots_dir, 'perf_control.svg'))"
   ]
  },
  {
   "attachments": {},
   "cell_type": "markdown",
   "metadata": {},
   "source": [
    "### Decentralized control"
   ]
  },
  {
   "cell_type": "code",
   "execution_count": null,
   "metadata": {},
   "outputs": [],
   "source": [
    "with open('out/decentralized_opt.pkl', 'rb') as f:\n",
    "    decentral = pickle.load(f)\n",
    "\n",
    "fig, ax = plt.subplots(1, 1, figsize=(4, 3), tight_layout=True)\n",
    "setup_voltage_ax(ax)\n",
    "\n",
    "for i, bus in enumerate(buses):\n",
    "    ax.plot(np.sqrt(decentral['vs'][:, bus-1]), c=colors[i])\n",
    "\n",
    "savefig(fig, path=os.path.join(plots_dir, 'decentral_opt.svg'))"
   ]
  },
  {
   "attachments": {},
   "cell_type": "markdown",
   "metadata": {},
   "source": [
    "### Wrong model"
   ]
  },
  {
   "cell_type": "code",
   "execution_count": null,
   "metadata": {},
   "outputs": [],
   "source": [
    "with open('out/no_diag_constr/CBCconst_noise1.0_perm_norm1.0_seed8_Pu100_20220316_233154.pkl', 'rb') as f:\n",
    "    wrong_model = pickle.load(f)\n",
    "\n",
    "fig, ax = plt.subplots(1, 1, figsize=(4, 3), tight_layout=True)\n",
    "setup_voltage_ax(ax)\n",
    "\n",
    "for i, bus in enumerate(buses):\n",
    "    ax.plot(np.sqrt(wrong_model['vs'][:, bus-1]), c=colors[i])\n",
    "\n",
    "savefig(fig, path=os.path.join(plots_dir, 'wrong_model.svg'))"
   ]
  }
 ],
 "metadata": {
  "kernelspec": {
   "display_name": "voltctrl",
   "language": "python",
   "name": "python3"
  },
  "language_info": {
   "codemirror_mode": {
    "name": "ipython",
    "version": 3
   },
   "file_extension": ".py",
   "mimetype": "text/x-python",
   "name": "python",
   "nbconvert_exporter": "python",
   "pygments_lexer": "ipython3",
   "version": "3.9.16"
  },
  "orig_nbformat": 4
 },
 "nbformat": 4,
 "nbformat_minor": 2
}
