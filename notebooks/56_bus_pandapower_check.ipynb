{
 "cells": [
  {
   "cell_type": "code",
   "execution_count": null,
   "metadata": {},
   "outputs": [],
   "source": [
    "import numpy as np\n",
    "from numpy import linalg as LA\n",
    "import gym\n",
    "import os\n",
    "\n",
    "import pandapower as pp\n",
    "\n",
    "os.environ[\"CUDA_DEVICE_ORDER\"] = \"PCI_BUS_ID\"  \n",
    "os.environ[\"CUDA_VISIBLE_DEVICES\"] = \"-1\""
   ]
  },
  {
   "cell_type": "code",
   "execution_count": null,
   "metadata": {},
   "outputs": [],
   "source": [
    "import matplotlib.pyplot as plt\n",
    "\n",
    "SMALL_SIZE = 10\n",
    "MEDIUM_SIZE = 16\n",
    "BIGGER_SIZE = 16\n",
    "\n",
    "plt.rc('font', size=MEDIUM_SIZE)          # controls default text sizes\n",
    "plt.rc('axes', titlesize=MEDIUM_SIZE)     # fontsize of the axes title\n",
    "plt.rc('axes', labelsize=MEDIUM_SIZE)    # fontsize of the x and y labels\n",
    "plt.rc('xtick', labelsize=MEDIUM_SIZE)    # fontsize of the tick labels\n",
    "plt.rc('ytick', labelsize=MEDIUM_SIZE)    # fontsize of the tick labels\n",
    "plt.rc('legend', fontsize=SMALL_SIZE)    # legend fontsize\n",
    "plt.rc('figure', titlesize=BIGGER_SIZE)  # fontsize of the figure title"
   ]
  },
  {
   "cell_type": "code",
   "execution_count": null,
   "metadata": {},
   "outputs": [],
   "source": [
    "class VoltageCtrl_nonlinear(gym.Env):\n",
    "    def __init__(self, pp_net, injection_bus, obs_dim=12, action_dim=12, \n",
    "                 v0=1, vmax=1.05, vmin=0.95):\n",
    "        \n",
    "        self.network =  pp_net\n",
    "        self.injection_bus = injection_bus\n",
    "        self.agentnum = len(injection_bus)\n",
    "        \n",
    "        self.obs_dim = obs_dim\n",
    "        self.action_dim = action_dim\n",
    "        self.v0 = v0 \n",
    "        self.vmax = vmax\n",
    "        self.vmin = vmin\n",
    "        \n",
    "        self.load0_p = np.copy(self.network.load['p_mw'])\n",
    "        self.load0_q = np.copy(self.network.load['q_mvar'])\n",
    "\n",
    "        self.gen0_p = np.copy(self.network.sgen['p_mw'])\n",
    "        self.gen0_q = np.copy(self.network.sgen['q_mvar'])\n",
    "        \n",
    "        self.state = np.ones(self.agentnum, )\n",
    "    \n",
    "    def step(self, action):\n",
    "        \"State transition dynamics: it takes in the reactive power setpoint\"\n",
    "        \"then compute the voltage magnitude at each node via solving power flow\"\n",
    "        \n",
    "        done = False \n",
    "        \n",
    "        reward = float(-100*LA.norm(self.state-1.0)**2)\n",
    "        \n",
    "        # state-transition dynamics\n",
    "        for i in range(len(self.injection_bus)):\n",
    "            self.network.sgen.at[i, 'q_mvar'] = action[i] \n",
    "\n",
    "        pp.runpp(self.network, algorithm='bfsw', init = 'dc')\n",
    "        \n",
    "        self.state = self.network.res_bus.iloc[self.injection_bus].vm_pu.to_numpy()\n",
    "        \n",
    "        return self.state, reward, done\n",
    "    \n",
    "    def step_load(self, action, load_p, load_q):\n",
    "        \"State transition dynamics: it takes in the reactive power setpoint, and load_p and load_q\"\n",
    "        \"compute the voltage magnitude at each node via solving power flow\"\n",
    "        \n",
    "        done = False \n",
    "        \n",
    "        reward = float(-100*LA.norm(self.state-1.0)**2)\n",
    "        \n",
    "        # state-transition dynamics\n",
    "        for i in range(len(self.injection_bus)):\n",
    "            self.network.sgen.at[i, 'q_mvar'] = action[i] \n",
    "        \n",
    "        self.network.load['p_mw'] = load_p\n",
    "        self.network.load['q_mvar'] = load_q\n",
    "\n",
    "        pp.runpp(self.network, algorithm='bfsw', init = 'dc')\n",
    "        \n",
    "        self.state = self.network.res_bus.iloc[self.injection_bus].vm_pu.to_numpy()\n",
    "        \n",
    "        return self.state, reward, done\n",
    "\n",
    "    def step_load_solar(self, action, load_p, load_q, gen_p, gen_q):\n",
    "        \"State transition dynamics: it takes in the reactive power setpoint, load_p and load_q\"\n",
    "        \"and gen_p & gen_q to compute the voltage magnitude at each node via solving power flow\"\n",
    "        \n",
    "        done = False \n",
    "        \n",
    "        reward = float(-100*LA.norm(self.state-1.0)**2)\n",
    "        \n",
    "        # state-transition dynamics\n",
    "        self.network.load['p_mw'] = load_p\n",
    "        self.network.load['q_mvar'] = load_q\n",
    "        self.network.sgen['p_mw'] = gen_p\n",
    "        self.network.sgen['q_mvar'] = gen_q        \n",
    "        \n",
    "        for i in range(len(self.injection_bus)):\n",
    "            self.network.sgen.at[i, 'q_mvar'] += action[i]   \n",
    "\n",
    "        pp.runpp(self.network, algorithm='bfsw', init = 'dc')\n",
    "        \n",
    "        self.state = self.network.res_bus.iloc[self.injection_bus].vm_pu.to_numpy()\n",
    "        \n",
    "        return self.state, reward, done\n",
    "    \n",
    "    def reset(self, seed=1):\n",
    "        np.random.seed(seed)\n",
    "        self.network.sgen['p_mw'] = 0.0\n",
    "        self.network.sgen['q_mvar'] = 0.0\n",
    "        self.network.load['p_mw'] = 0.0\n",
    "        self.network.load['q_mvar'] = 0.0\n",
    "\n",
    "        \n",
    "        pp.runpp(self.network, algorithm='bfsw')\n",
    "        self.state = self.network.res_bus.iloc[self.injection_bus].vm_pu.to_numpy()\n",
    "        return self.state    "
   ]
  },
  {
   "cell_type": "code",
   "execution_count": null,
   "metadata": {},
   "outputs": [],
   "source": [
    "from network_utils import (\n",
    "    create_56bus,\n",
    "    create_RX_from_net,\n",
    "    np_triangle_norm,\n",
    "    read_load_data)\n",
    "\n",
    "net = create_56bus()\n",
    "injection_bus = np.array(range(0, 55))\n",
    "\n",
    "v_min, v_max = (11.4**2, 12.6**2)  # +/-5%, units kV^2\n",
    "v_nom = 12**2  # nominal squared voltage magnitude, units kV^2\n",
    "env = VoltageCtrl_nonlinear(pp_net=net, vmin=v_min, vmax=v_max, v0=v_nom, injection_bus=injection_bus)"
   ]
  },
  {
   "cell_type": "markdown",
   "metadata": {},
   "source": [
    "### Test with real-world data"
   ]
  },
  {
   "cell_type": "code",
   "execution_count": null,
   "metadata": {},
   "outputs": [],
   "source": [
    "import scipy.io as spio\n",
    "# each row in is a node (1 - 55)\n",
    "# 6 columns: ['name', 'connectionkW', 'kW', 'pf', 'kVar', 'nameopal']\n",
    "aggr_p = spio.loadmat('data/aggr_p.mat', squeeze_me=True)['p']  # shape [14421]\n",
    "aggr_q = spio.loadmat('data/aggr_q.mat', squeeze_me=True)['q']  # shape [14421]\n",
    "solar = spio.loadmat('data/PV.mat', squeeze_me=True)['actual_PV_profile']  # shape [14421]\n",
    "load = spio.loadmat('orig_data/loadavail20150908.mat', squeeze_me=True)\n",
    "scale = 1.1\n",
    "\n",
    "active_load = np.stack(load['Load']['kW']) / 1000  # to MW\n",
    "load_p = scale * active_load\n",
    "reactive_load = np.stack(load['Load']['kVar']) / 1000 # to MVar\n",
    "load_q = scale * reactive_load\n",
    "\n",
    "\n",
    "agg_active_load = load_p.sum(axis=0)\n",
    "assert np.allclose(agg_active_load, aggr_p)\n",
    "agg_reactive_load = load_q.sum(axis=0)\n",
    "assert np.allclose(agg_reactive_load, aggr_q)"
   ]
  },
  {
   "cell_type": "code",
   "execution_count": null,
   "metadata": {},
   "outputs": [],
   "source": [
    "T = 14421\n",
    "N = 55\n",
    "gen_p = np.zeros((N, T))\n",
    "gen_q = np.zeros((N, T))\n",
    "solar_orig = spio.loadmat('orig_data/pvavail20150908_2.mat', squeeze_me=True)\n",
    "capacities = np.array([\n",
    "    9.97, 11.36, 13.53, 6.349206814, 106.142148, 154, 600, 293.54, 66.045,\n",
    "    121.588489, 12.94935415, 19.35015173, 100, 31.17327501, 13.06234596,\n",
    "    7.659505852, 100, 700])  # in kW\n",
    "capacities /= 1000  # to MW\n",
    "\n",
    "# for whatever reason, Guanan scales the capacities by a factor of 7\n",
    "# - see line 39 in dynamic_simu_setting_revision_2nd.m\n",
    "capacities *= 7\n",
    "\n",
    "# see Generate_PV_power.m\n",
    "pv_profile = solar_orig['PVavail'][0]['PVp_6s'] / solar_orig['PVavail'][0]['PVacrate']\n",
    "pv = pv_profile * capacities.reshape(-1, 1)  # shape [18, 14421]\n",
    "\n",
    "assert np.allclose(pv.sum(axis=0), solar)"
   ]
  },
  {
   "cell_type": "code",
   "execution_count": null,
   "metadata": {},
   "outputs": [],
   "source": [
    "solar_index = np.array([9,12,14,16,19,10,11,13,15,7,2,4,20,23,25,26,32,8]) - 2\n",
    "gen_p[solar_index,:] = pv"
   ]
  },
  {
   "cell_type": "code",
   "execution_count": null,
   "metadata": {},
   "outputs": [],
   "source": [
    "nodal_injection = -load_p + gen_p\n",
    "pq_fluc = spio.loadmat('data/pq_fluc.mat', squeeze_me=True)['pq_fluc']  # shape [55, 2, 14421]\n",
    "all_p = pq_fluc[:, 0]  # shape [n, T]\n",
    "all_q = pq_fluc[:, 1]  # shape [n, T]\n",
    "assert np.allclose(all_p, nodal_injection) # check if load_p - gen_p = total active injection\n",
    "assert np.allclose(-load_q, all_q) # reactive power injection does not include any solar"
   ]
  },
  {
   "cell_type": "code",
   "execution_count": null,
   "metadata": {},
   "outputs": [],
   "source": [
    "index_list = [8,18,21,30,39,45,54]\n",
    "for i in index_list:\n",
    "    plt.plot(nodal_injection[i,:], label = i)\n",
    "\n",
    "plt.legend()\n",
    "time = [0, 3600, 7200, 10800, 14400]\n",
    "labels = ['00:00','06:00','12:00','18:00','24:00']\n",
    "plt.xticks(time, labels)"
   ]
  },
  {
   "cell_type": "markdown",
   "metadata": {},
   "source": [
    "### no control"
   ]
  },
  {
   "cell_type": "code",
   "execution_count": null,
   "metadata": {
    "scrolled": true
   },
   "outputs": [],
   "source": [
    "T = 14421\n",
    "\n",
    "state = env.reset()\n",
    "episode_reward = 0\n",
    "episode_control = 0\n",
    "num_agent = len(injection_bus)\n",
    "voltage = []\n",
    "q = []\n",
    "\n",
    "last_action = np.zeros((num_agent,1))\n",
    "\n",
    "for t in range(T):\n",
    "    if(t%1000==0):\n",
    "        print('Simulated steps', t)\n",
    "    \n",
    "    state1 = np.asarray(state-env.vmax)\n",
    "    state2 = np.asarray(env.vmin-state)\n",
    "    \n",
    "    d_v = (np.maximum(state1, 0)-np.maximum(state2, 0)).reshape((num_agent,1))\n",
    "    \n",
    "    action = (last_action - 0*d_v)\n",
    "    \n",
    "    last_action = np.copy(action)\n",
    "    \n",
    "    #next_state, reward, done = env.step_load(action, load_p[:, t], load_q[:, t])\n",
    "    next_state, reward, done = env.step_load_solar(action, load_p[:, t], load_q[:, t], \n",
    "                                                   gen_p[:, t], gen_q[:, t])\n",
    "\n",
    "    voltage.append(state)\n",
    "\n",
    "    q.append(action)\n",
    "\n",
    "    state = next_state\n",
    "    \n",
    "    episode_reward += (reward/1000)\n",
    "    \n",
    "    episode_control += LA.norm(action, 2)**2\n",
    "\n",
    "voltage_baseline = np.asarray(voltage)\n",
    "q_baseline =  np.asarray(q)"
   ]
  },
  {
   "cell_type": "code",
   "execution_count": null,
   "metadata": {},
   "outputs": [],
   "source": [
    "voltage_baseline.shape\n",
    "np.save('nonlinear_voltage_baseline.npy', voltage_baseline)"
   ]
  },
  {
   "cell_type": "code",
   "execution_count": null,
   "metadata": {},
   "outputs": [],
   "source": [
    "\n",
    "f = plt.figure(figsize=(5, 4))\n",
    "ax = f.add_subplot(111)\n",
    "\n",
    "for i in range(len(index_list)):\n",
    "    plt.plot(12*voltage_baseline[:, index_list[i]], label = index_list[i]+1)\n",
    "plt.legend(loc = 'upper right')\n",
    "\n",
    "plt.axhline(y=1.05*12, color='k', linestyle='--', label = 'Upper bound')\n",
    "plt.axhline(y=0.95*12, color='k', linestyle='--', label = 'Lower bound')\n",
    "plt.axhline(y=12, color='k', linestyle='--', label = 'Nominal')\n",
    "plt.ylabel('Bus voltage (kV)')\n",
    "plt.xlabel('Time (Hour)')\n",
    "\n",
    "time = [0, 3600, 7200, 10800, 14400]\n",
    "labels = ['00:00','06:00','12:00','18:00','24:00']\n",
    "plt.xticks(time, labels)\n",
    "plt.yticks([11.0, 11.5, 12.0, 12.5, 13.0])\n",
    "# plt.ylim([11.0, 13.0])"
   ]
  },
  {
   "cell_type": "markdown",
   "metadata": {},
   "source": [
    "### Test a linear model-based approach: "
   ]
  },
  {
   "cell_type": "markdown",
   "metadata": {},
   "source": [
    "#### First use data to learn R and X"
   ]
  },
  {
   "cell_type": "code",
   "execution_count": null,
   "metadata": {},
   "outputs": [],
   "source": [
    "# 1.True R and X\n",
    "R_mat = spio.loadmat('data/R_13.mat', squeeze_me=True)\n",
    "X_mat = spio.loadmat('data/X_13.mat', squeeze_me=True)\n",
    "RR = 2*R_mat['R'][1:,1:]\n",
    "XX = 2*X_mat['X'][1:,1:]"
   ]
  },
  {
   "cell_type": "code",
   "execution_count": null,
   "metadata": {},
   "outputs": [],
   "source": [
    "# 2. Linear regression based on v = Rp+Xq +v0\n",
    "P_matrix = gen_p.T - load_p.T\n",
    "Q_matrix = gen_q.T - load_q.T\n",
    "V_matrix = voltage_baseline"
   ]
  },
  {
   "cell_type": "code",
   "execution_count": null,
   "metadata": {},
   "outputs": [],
   "source": [
    "### Test the lindist model\n",
    "t = 6000\n",
    "V_pred = np.sqrt(RR@P_matrix[t, :]+XX@Q_matrix[t, :]+12**2)/12\n",
    "plt.plot(V_matrix[t+1,:], label = 'True V')\n",
    "plt.plot((V_pred), label = 'Predicted V')\n",
    "plt.legend()"
   ]
  },
  {
   "cell_type": "code",
   "execution_count": null,
   "metadata": {},
   "outputs": [],
   "source": [
    "# least square solution for R and X\n",
    "X = np.hstack([P_matrix[0:-1,:], Q_matrix[0:-1,:]])\n",
    "Y = (V_matrix[1:,:]*12)**2-12**2\n",
    "\n",
    "alpha = np.dot((np.dot(np.linalg.pinv(np.dot(X.T, X), rcond=1e-5), X.T)), Y)\n",
    "#print(alpha)\n",
    "\n",
    "R_hat = alpha[0:12,:]\n",
    "X_hat = alpha[12:,:]"
   ]
  },
  {
   "cell_type": "code",
   "execution_count": null,
   "metadata": {},
   "outputs": [],
   "source": [
    "index = 2\n",
    "plt.plot(R_hat[index,:], label = 'R pred')\n",
    "plt.plot(RR[index,:], label = 'R True')\n",
    "plt.legend()"
   ]
  },
  {
   "cell_type": "code",
   "execution_count": null,
   "metadata": {},
   "outputs": [],
   "source": [
    "y_pred = X@alpha\n",
    "plt.plot(y_pred[:, index], label = 'V-v0 Pred')\n",
    "plt.plot(Y[:, index], label = 'V-v0 True')\n",
    "plt.legend()"
   ]
  },
  {
   "cell_type": "markdown",
   "metadata": {},
   "source": [
    "#### Remark. \n",
    "We might not be able to get an accurate estimation for R and X as p, q are correlated; but the voltage prediction from v = Rp + Xq +v0 is accurate"
   ]
  },
  {
   "cell_type": "code",
   "execution_count": null,
   "metadata": {},
   "outputs": [],
   "source": []
  },
  {
   "cell_type": "code",
   "execution_count": null,
   "metadata": {},
   "outputs": [],
   "source": [
    "import cvxpy as cp"
   ]
  },
  {
   "cell_type": "code",
   "execution_count": null,
   "metadata": {},
   "outputs": [],
   "source": [
    "### model based controller based on the groundtruth X and R matrices\n",
    "\n",
    "T = 14421\n",
    "\n",
    "state = env.reset0()\n",
    "episode_reward = 0\n",
    "episode_control = 0\n",
    "num_agent = len(injection_bus)\n",
    "voltage = []\n",
    "q = []\n",
    "\n",
    "v_max = 12.6**2 - 12**2\n",
    "v_min = 11.4**2 - 12**2\n",
    "\n",
    "for t in range(T):\n",
    "    if(t%1000==0):\n",
    "        print('Simulated steps', t)\n",
    "    \n",
    "    state1 = np.asarray(state-env.vmax)\n",
    "    state2 = np.asarray(env.vmin-state)\n",
    "    \n",
    "    d_v = (np.maximum(state1, 0)-np.maximum(state2, 0)).reshape((num_agent,1))\n",
    "    \n",
    "    action = 0*d_v #(last_action - 0*d_v)\n",
    "    \n",
    "    # Project the action into a safety set\n",
    "    action_pi = np.squeeze(action)\n",
    "    x = cp.Variable(N)\n",
    "    P = np.eye(N)\n",
    "    load_pt = load_p[:, t]\n",
    "    load_qt = load_q[:, t]\n",
    "    gen_pt = gen_p[:, t]\n",
    "    gen_qt = gen_q[:, t]\n",
    "    \n",
    "    prob = cp.Problem(cp.Minimize((1/2)*cp.quad_form(x-action_pi, P)),\n",
    "                     [RR@(gen_pt-load_pt)+XX@(x+gen_qt-load_qt) <= v_max,\n",
    "                      RR@(gen_pt-load_pt)+XX@(x+gen_qt-load_qt) >= v_min])\n",
    "    prob.solve()\n",
    "    action_proj = x.value\n",
    "    \n",
    "    action_proj2 = np.expand_dims(action_proj, axis=1)\n",
    "    \n",
    "    #print('Original action', action_pi, 'Projection', action_proj)\n",
    "    \n",
    "    \n",
    "    #next_state, reward, done = env.step_load(action, load_p[:, t], load_q[:, t])\n",
    "    next_state, reward, done = env.step_load_solar(action_proj2, load_p[:, t], load_q[:, t], \n",
    "                                                   gen_p[:, t], gen_q[:, t])\n",
    "\n",
    "    voltage.append(state)\n",
    "\n",
    "    q.append(action_proj2)\n",
    "\n",
    "    state = next_state\n",
    "    \n",
    "    episode_reward += (reward/1000)\n",
    "    \n",
    "    episode_control += LA.norm(action_proj2, 2)**2\n",
    "\n",
    "voltage_baseline_safe = np.asarray(voltage)\n",
    "q_baseline_safe =  np.asarray(q)"
   ]
  },
  {
   "cell_type": "code",
   "execution_count": null,
   "metadata": {},
   "outputs": [],
   "source": [
    "index = [0, 1, 2, 3, 4, 5, 6, 7, 8, 9, 10, 11]\n",
    "\n",
    "f = plt.figure(figsize=(5, 4))\n",
    "ax = f.add_subplot(111)\n",
    "\n",
    "for i in range(len(index)):\n",
    "    plt.plot(12*voltage_baseline_safe[:, index[i]], label = index[i])\n",
    "plt.legend(loc = 'upper right')\n",
    "\n",
    "plt.axhline(y=1.05*12, color='k', linestyle='--', label = 'Upper bound')\n",
    "plt.axhline(y=0.95*12, color='k', linestyle='--', label = 'Lower bound')\n",
    "plt.axhline(y=12, color='k', linestyle='--', label = 'Nominal')\n",
    "plt.ylabel('Bus voltage (kV)')\n",
    "plt.xlabel('Time (Hour)')\n",
    "\n",
    "time = [0, 3600, 7200, 10800, 14400]\n",
    "labels = ['00:00','06:00','12:00','18:00','24:00']\n",
    "plt.xticks(time, labels)\n",
    "plt.yticks([11.0, 11.5, 12.0, 12.5, 13.0])\n",
    "# plt.ylim([11.0, 13.0])"
   ]
  },
  {
   "cell_type": "code",
   "execution_count": null,
   "metadata": {},
   "outputs": [],
   "source": []
  },
  {
   "cell_type": "code",
   "execution_count": null,
   "metadata": {},
   "outputs": [],
   "source": []
  },
  {
   "cell_type": "code",
   "execution_count": null,
   "metadata": {},
   "outputs": [],
   "source": []
  }
 ],
 "metadata": {
  "kernelspec": {
   "display_name": "Python 3.10.4 64-bit",
   "language": "python",
   "name": "python3"
  },
  "language_info": {
   "codemirror_mode": {
    "name": "ipython",
    "version": 3
   },
   "file_extension": ".py",
   "mimetype": "text/x-python",
   "name": "python",
   "nbconvert_exporter": "python",
   "pygments_lexer": "ipython3",
   "version": "3.10.4"
  },
  "vscode": {
   "interpreter": {
    "hash": "31f2aee4e71d21fbe5cf8b01ff0e069b9275f58929596ceb00d14d90e3e16cd6"
   }
  }
 },
 "nbformat": 4,
 "nbformat_minor": 4
}
