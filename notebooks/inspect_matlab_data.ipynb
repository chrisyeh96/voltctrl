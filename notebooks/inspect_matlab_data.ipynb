{
 "cells": [
  {
   "cell_type": "markdown",
   "metadata": {},
   "source": [
    "## Inspect Original Data\n",
    "\n",
    "This notebook shows how the provided data files in `data/` are derived from the original data files. Assumes that orig_data.zip (see GitHub [releases](https://github.com/chrisyeh96/voltctrl/releases/tag/v1.0)) has been unzipped into a folder called `orig_data/`."
   ]
  },
  {
   "cell_type": "code",
   "execution_count": null,
   "metadata": {},
   "outputs": [],
   "source": [
    "%load_ext autoreload\n",
    "%autoreload 2\n",
    "%matplotlib inline\n",
    "%cd .."
   ]
  },
  {
   "cell_type": "code",
   "execution_count": null,
   "metadata": {},
   "outputs": [],
   "source": [
    "import matplotlib.pyplot as plt\n",
    "import numpy as np\n",
    "import pandas as pd\n",
    "import scipy.io as spio\n",
    "import scipy.stats\n",
    "\n",
    "# hide top and right splines on plots\n",
    "plt.rcParams['axes.spines.right'] = False\n",
    "plt.rcParams['axes.spines.top'] = False"
   ]
  },
  {
   "cell_type": "code",
   "execution_count": null,
   "metadata": {},
   "outputs": [],
   "source": [
    "# load the mat files from data folder\n",
    "solar = spio.loadmat('data/PV.mat', squeeze_me=True)['actual_PV_profile']  # shape [14421]\n",
    "aggr_p = spio.loadmat('data/aggr_p.mat', squeeze_me=True)['p']  # shape [14421]\n",
    "aggr_q = spio.loadmat('data/aggr_q.mat', squeeze_me=True)['q']  # shape [14421]\n",
    "pq_fluc = spio.loadmat('data/pq_fluc.mat', squeeze_me=True)['pq_fluc']  # shape [55, 2, 14421]\n",
    "all_p = pq_fluc[:, 0]  # shape [n, T]\n",
    "all_q = pq_fluc[:, 1]  # shape [n, T]"
   ]
  },
  {
   "cell_type": "markdown",
   "metadata": {},
   "source": [
    "## Check load data\n",
    "\n",
    "For whatever reason, Guanan scales the load data by a factor of 1.1."
   ]
  },
  {
   "cell_type": "code",
   "execution_count": null,
   "metadata": {},
   "outputs": [],
   "source": [
    "# each row in is a node (1 - 55)\n",
    "# 6 columns: ['name', 'connectionkW', 'kW', 'pf', 'kVar', 'nameopal']\n",
    "load = spio.loadmat('orig_data/loadavail20150908.mat', squeeze_me=True)\n",
    "print(load.keys())\n",
    "print(load['Load'].dtype)\n",
    "\n",
    "scale = 1.1"
   ]
  },
  {
   "cell_type": "code",
   "execution_count": null,
   "metadata": {},
   "outputs": [],
   "source": [
    "active_load = np.stack(load['Load']['kW']) / 1000  # to MW\n",
    "active_load *= scale"
   ]
  },
  {
   "cell_type": "code",
   "execution_count": null,
   "metadata": {},
   "outputs": [],
   "source": [
    "agg_active_load = active_load.sum(axis=0)\n",
    "assert np.allclose(agg_active_load, aggr_p)"
   ]
  },
  {
   "cell_type": "code",
   "execution_count": null,
   "metadata": {},
   "outputs": [],
   "source": [
    "reactive_load = np.stack(load['Load']['kVar']) / 1000 # to MVar\n",
    "reactive_load *= scale"
   ]
  },
  {
   "cell_type": "code",
   "execution_count": null,
   "metadata": {},
   "outputs": [],
   "source": [
    "agg_reactive_load = reactive_load.sum(axis=0)\n",
    "assert np.allclose(agg_reactive_load, aggr_q)"
   ]
  },
  {
   "cell_type": "markdown",
   "metadata": {},
   "source": [
    "## Check solar data"
   ]
  },
  {
   "cell_type": "code",
   "execution_count": null,
   "metadata": {},
   "outputs": [],
   "source": [
    "solar_orig = spio.loadmat('orig_data/pvavail20150908_2.mat', squeeze_me=True)\n",
    "print(solar_orig.keys())"
   ]
  },
  {
   "cell_type": "code",
   "execution_count": null,
   "metadata": {},
   "outputs": [],
   "source": [
    "# see Load_PV_systems_3phase_delta.m\n",
    "# - simulate up to 18 nodes with PV\n",
    "capacities = np.array([\n",
    "    9.97, 11.36, 13.53, 6.349206814, 106.142148, 154, 600, 293.54, 66.045,\n",
    "    121.588489, 12.94935415, 19.35015173, 100, 31.17327501, 13.06234596,\n",
    "    7.659505852, 100, 700])  # in kW\n",
    "capacities /= 1000  # to MW\n",
    "\n",
    "# for whatever reason, Guanan scales the capacities by a factor of 7\n",
    "# - see line 39 in dynamic_simu_setting_revision_2nd.m\n",
    "capacities *= 7\n",
    "\n",
    "# see Generate_PV_power.m\n",
    "pv_profile = solar_orig['PVavail'][0]['PVp_6s'] / solar_orig['PVavail'][0]['PVacrate']\n",
    "pv = pv_profile * capacities.reshape(-1, 1)  # shape [18, 14421]"
   ]
  },
  {
   "cell_type": "code",
   "execution_count": null,
   "metadata": {},
   "outputs": [],
   "source": [
    "# see line 41 in dynamic_simu_setting_revision_2nd.m\n",
    "assert np.allclose(pv.sum(axis=0), solar)"
   ]
  },
  {
   "cell_type": "markdown",
   "metadata": {},
   "source": [
    "## Check per-bus data"
   ]
  },
  {
   "cell_type": "code",
   "execution_count": null,
   "metadata": {},
   "outputs": [],
   "source": [
    "# see dynamic_simu_setting_revision_2nd.m\n",
    "\n",
    "# nodes with PV\n",
    "# - Guanan sets substation = bus 1, then other nodes are 1,...,56\n",
    "# - I use substation = bus -1, then other nodes are 0,...,54\n",
    "pv_bus = np.array([9,12,14,16,19,10,11,13,15,7,2,4,20,23,25,26,32,8]) - 2\n",
    "p = -active_load  # power injection\n",
    "p[pv_bus] += pv"
   ]
  },
  {
   "cell_type": "code",
   "execution_count": null,
   "metadata": {},
   "outputs": [],
   "source": [
    "assert np.allclose(p, all_p)"
   ]
  },
  {
   "cell_type": "code",
   "execution_count": null,
   "metadata": {},
   "outputs": [],
   "source": [
    "# reactive power injection does not include any solar\n",
    "assert np.allclose(-reactive_load, all_q)"
   ]
  }
 ],
 "metadata": {
  "interpreter": {
   "hash": "bf75c23eac0e07766c1673cbfd8de0a3b0c402ab1f60cc09fc0a52edf496f35f"
  },
  "kernelspec": {
   "display_name": "Python 3.9.7 ('cms21')",
   "language": "python",
   "name": "python3"
  },
  "language_info": {
   "codemirror_mode": {
    "name": "ipython",
    "version": 3
   },
   "file_extension": ".py",
   "mimetype": "text/x-python",
   "name": "python",
   "nbconvert_exporter": "python",
   "pygments_lexer": "ipython3",
   "version": "3.9.7"
  },
  "orig_nbformat": 4
 },
 "nbformat": 4,
 "nbformat_minor": 2
}
