{
 "cells": [
  {
   "cell_type": "code",
   "execution_count": null,
   "id": "65c5bbd3-18ca-48b7-a4a5-9fa7471a251f",
   "metadata": {},
   "outputs": [],
   "source": [
    "%load_ext autoreload\n",
    "%autoreload 2\n",
    "%matplotlib inline\n",
    "%cd .."
   ]
  },
  {
   "cell_type": "code",
   "execution_count": null,
   "id": "cc8c0c04-1c83-4a6b-8246-07c4b61f6958",
   "metadata": {},
   "outputs": [],
   "source": [
    "from __future__ import annotations\n",
    "\n",
    "import cvxpy as cp\n",
    "import matplotlib.pyplot as plt\n",
    "import matplotlib_inline\n",
    "import numpy as np\n",
    "import pandas as pd\n",
    "from tqdm.auto import tqdm\n",
    "\n",
    "from network_utils import (\n",
    "    create_56bus,\n",
    "    create_RX_from_net,\n",
    "    read_load_data\n",
    ")\n",
    "from robust_voltage_control import np_triangle_norm\n",
    "\n",
    "matplotlib_inline.backend_inline.set_matplotlib_formats('svg')\n",
    "\n",
    "# hide top and right splines on plots\n",
    "# plt.rcParams['axes.spines.right'] = False\n",
    "plt.rcParams['axes.spines.top'] = False"
   ]
  },
  {
   "cell_type": "markdown",
   "id": "195e50b7-62ac-4380-b38e-bc94563dca4c",
   "metadata": {
    "tags": []
   },
   "source": [
    "## Calculate minimum q-limits needed to keep voltage within bounds\n",
    "\n",
    "Answer: ±0.23757973725624573"
   ]
  },
  {
   "cell_type": "code",
   "execution_count": null,
   "id": "87bcb2e2-93bb-4fca-b141-958cae36c13c",
   "metadata": {},
   "outputs": [],
   "source": [
    "def calc_qlims(\n",
    "        p: np.ndarray, qe: np.ndarray, X: np.ndarray, R: np.ndarray,\n",
    "        v_lims: tuple[float, float], v_sub: float,\n",
    "        eta: float, eps: float, norm2: float = 0.0) -> np.ndarray:\n",
    "    \"\"\"Calculates minimum-inf-norm values for q^c_t to ensure feasibility.\n",
    "\n",
    "    Args\n",
    "    - p: np.array, shape [T, n], active power injection (MW)\n",
    "    - qe: np.array, shape [T, n], exogenous reactive power injection (MVar)\n",
    "    - v_lims: tuple of float, (v_min, v_max), squared voltage magnitude limits (kV^2)\n",
    "    - X: np.array, shape [n, n], line parameters for reactive power injection\n",
    "    - R: np.array, shape [n, n], line parameters for active power injection\n",
    "    - v_sub: float, fixed squared voltage magnitude at substation (kV^2)\n",
    "    - eta: float, noise bound (kV^2)\n",
    "    - eps: float, robustness buffer (kV^2)\n",
    "    - norm2: float, weight for 2-norm in objective\n",
    "\n",
    "    Returns\n",
    "    - qcts: np.ndarray, shape [n, T-1]\n",
    "    \"\"\"\n",
    "    assert p.shape == qe.shape\n",
    "    T, n = qe.shape\n",
    "    vpars = qe @ X + p @ R + v_sub  # shape [T, n]\n",
    "\n",
    "    v_min, v_max = v_lims\n",
    "    v_lb = v_min + eta + eps\n",
    "    v_ub = v_max - (eta + eps)\n",
    "    qcts = []\n",
    "\n",
    "    block = 69  # T = 14421 is perfectly divisible by 69\n",
    "    qct = cp.Variable([block, n])\n",
    "    vpars_param = cp.Parameter([block, n])\n",
    "\n",
    "    if norm2 == 0:\n",
    "        obj = cp.Minimize(cp.sum(cp.norm(qct, p='inf', axis=1)))\n",
    "    else:\n",
    "        obj = cp.Minimize(cp.sum(cp.norm(qct, p='inf', axis=1) + norm2 * cp.norm(qct, p=2, axis=1)))\n",
    "\n",
    "    constrs = [\n",
    "        v_lb <= qct @ X + vpars_param,\n",
    "        qct @ X + vpars_param <= v_ub]\n",
    "    prob = cp.Problem(objective=obj, constraints=constrs)\n",
    "    assert prob.is_dcp(dpp=True)\n",
    "\n",
    "    qcts = []\n",
    "    for t in tqdm(range(0, T, block)):\n",
    "        vpars_param.value = vpars[t:t+block]\n",
    "        prob.solve(solver=cp.MOSEK, warm_start=True)\n",
    "        assert prob.status == 'optimal'\n",
    "        qcts.append(np.array(qct.value))  # make a copy\n",
    "    qcts = np.concatenate(qcts, axis=1)\n",
    "    return qcts"
   ]
  },
  {
   "cell_type": "code",
   "execution_count": null,
   "id": "55e7c53d-3975-47f3-a5dd-98b44f9c8ce4",
   "metadata": {},
   "outputs": [],
   "source": [
    "net = create_56bus()\n",
    "R, X = create_RX_from_net(net, noise=0)\n",
    "p, qe = read_load_data()  # in MW and MVar\n",
    "T, n = p.shape"
   ]
  },
  {
   "cell_type": "code",
   "execution_count": null,
   "id": "97240203-2eec-4fce-a27d-fa34cd1a8f3e",
   "metadata": {},
   "outputs": [],
   "source": [
    "v_min, v_max = (11.4**2, 12.6**2)  # +/-5%, units kV^2\n",
    "v_nom = 12**2  # nominal squared voltage magnitude, units kV^2\n",
    "v_sub = v_nom  # fixed squared voltage magnitude at substation, units kV^2"
   ]
  },
  {
   "cell_type": "code",
   "execution_count": null,
   "id": "bb2bdb57-ba39-48dd-9827-c02eed409782",
   "metadata": {},
   "outputs": [],
   "source": [
    "qcts = calc_qlims(p=p, qe=qe, X=X, R=R, v_lims=(v_min, v_max), v_sub=v_sub,\n",
    "                  eta=0, eps=0, norm2=0.1)\n",
    "print(f'min q_i: {np.min(qcts):.4f}, max q_i: {np.max(qcts):.4f}')\n",
    "# min q_i: -0.2451, max q_i: 0.1669"
   ]
  },
  {
   "cell_type": "code",
   "execution_count": null,
   "id": "39255336-50f9-4c11-90da-f5e9f67544f0",
   "metadata": {},
   "outputs": [],
   "source": [
    "qcts = calc_qlims(p=p, qe=qe, X=X, R=R, v_lims=(v_min, v_max), v_sub=v_sub,\n",
    "                  eta=0, eps=0)\n",
    "print(f'min q_i: {np.min(qcts):.4f}, max q_i: {np.max(qcts):.4f}')\n",
    "# min q_i: -0.2376, max q_i: 0.2376"
   ]
  },
  {
   "cell_type": "code",
   "execution_count": null,
   "id": "90857d22",
   "metadata": {},
   "outputs": [],
   "source": [
    "qcts = calc_qlims(p=p, qe=qe, X=X, R=R, v_lims=(v_min, v_max), v_sub=v_sub,\n",
    "                  eta=8.65, eps=0.1)\n",
    "print(f'min q_i: {np.min(qcts):.4f}, max q_i: {np.max(qcts):.4f}')\n",
    "# min q_i: -0.4549, max q_i: 0.3867"
   ]
  },
  {
   "cell_type": "code",
   "execution_count": null,
   "id": "9ae68ced",
   "metadata": {},
   "outputs": [],
   "source": [
    "qcts = calc_qlims(p=p, qe=qe, X=X, R=R, v_lims=(v_min, v_max), v_sub=v_sub,\n",
    "                  eta=10, eps=0.1)\n",
    "print(f'min q_i: {np.min(qcts):.4f}, max q_i: {np.max(qcts):.4f}')\n",
    "# min q_i: -0.5275, max q_i: 0.5275"
   ]
  },
  {
   "cell_type": "markdown",
   "id": "723b33fa-53ab-4d92-9dac-3d685d140de6",
   "metadata": {},
   "source": [
    "## Plot $\\left\\|\\hat{X}-X\\right\\|_\\triangle$ as a function of line-parameter noise"
   ]
  },
  {
   "cell_type": "code",
   "execution_count": null,
   "id": "09de4435-5cbe-4883-b798-a749154c068d",
   "metadata": {},
   "outputs": [],
   "source": [
    "net = create_56bus()\n",
    "_, X_true = create_RX_from_net(net, noise=0)\n",
    "norm_true = np_triangle_norm(X_true)\n",
    "print(f'||X||△ = {norm_true}')  # 166.7369736441201\n",
    "\n",
    "nsamples = 50\n",
    "noises = np.arange(0.01, 1, 0.01)\n",
    "norms = np.zeros([len(noises), nsamples])\n",
    "for i, noise in enumerate(tqdm(noises)):\n",
    "    for j in range(nsamples):\n",
    "        _, Xhat = create_RX_from_net(net, noise=noise, check_pd=True, seed=None)\n",
    "        norms[i,j] = np_triangle_norm(X_true - Xhat)"
   ]
  },
  {
   "cell_type": "code",
   "execution_count": null,
   "id": "322eb60d-b40e-40b5-a69e-ee2e23d27298",
   "metadata": {},
   "outputs": [],
   "source": [
    "norms_mean = norms.mean(axis=1)\n",
    "norms_std = norms.std(axis=1)\n",
    "\n",
    "fig, ax = plt.subplots(1, 1, figsize=(5,4), tight_layout=True)\n",
    "ax.plot(noises, norms_mean)\n",
    "ax.fill_between(noises, norms_mean - norms_std, norms_mean + norms_std, alpha=0.5)\n",
    "for j in range(nsamples):\n",
    "    ax.scatter(noises, norms[:,j], s=1, color='b', alpha=0.1)\n",
    "ax.set(xlabel='Uniform noise', ylabel='$||\\hat{X}-X||$')\n",
    "\n",
    "ax2 = ax.twinx()\n",
    "y_min, y_max = ax.get_ylim()\n",
    "ax2.set_ylim(y_min / norm_true, y_max / norm_true)\n",
    "ax2.set(ylabel='$||\\hat{X}-X|| / ||X||$')\n",
    "plt.show()"
   ]
  },
  {
   "cell_type": "markdown",
   "id": "7623ef81-b681-435b-8f86-ab4233c6673e",
   "metadata": {},
   "source": [
    "## Plot $\\left\\|\\hat{X}-X\\right\\|_\\triangle$ for modified graphs"
   ]
  },
  {
   "cell_type": "code",
   "execution_count": null,
   "id": "823eda12-999c-46f1-8330-3e5a01bc4d45",
   "metadata": {},
   "outputs": [],
   "source": [
    "import copy\n",
    "import seaborn as sns"
   ]
  },
  {
   "cell_type": "code",
   "execution_count": null,
   "id": "a4409ea4-1a59-49e7-81e2-92effa6dc6eb",
   "metadata": {},
   "outputs": [],
   "source": [
    "net_orig = create_56bus()\n",
    "_, X_true = create_RX_from_net(net_orig, noise=0)\n",
    "norm_true = np_triangle_norm(X_true)\n",
    "print(f'||X||△ = {norm_true}')  # 166.7369736441201\n",
    "\n",
    "nsamples = 50\n",
    "modifies = [None, 'perm', 'linear', 'rand']\n",
    "data = []\n",
    "for j in tqdm(range(nsamples)):\n",
    "    for noise in [0.5, 1.0]:\n",
    "        for i, modify in enumerate(modifies):\n",
    "            net = copy.deepcopy(net_orig)\n",
    "            _, Xhat = create_RX_from_net(net, noise=noise, modify=modify, check_pd=True, seed=None)\n",
    "            norm = np_triangle_norm(X_true - Xhat)\n",
    "            data.append([modify, norm, noise, j])\n",
    "\n",
    "norms_df = pd.DataFrame(data=data, columns=['modify', 'norm', 'noise', 'sample'])\n",
    "norms_df['modify'].fillna('None', inplace=True)"
   ]
  },
  {
   "cell_type": "code",
   "execution_count": null,
   "id": "7180ce63-6ab9-4855-bb2d-3052c45165a7",
   "metadata": {},
   "outputs": [],
   "source": [
    "ax = sns.violinplot(x='modify', y='norm', hue='noise', data=norms_df, inner=None, color='.8')\n",
    "ax = sns.stripplot(x='modify', y='norm', hue='noise', size=2, dodge=True, data=norms_df)\n",
    "ax.set(ylabel='$||\\hat{X}-X||$')\n",
    "plt.show()"
   ]
  }
 ],
 "metadata": {
  "kernelspec": {
   "display_name": "Python 3 (ipykernel)",
   "language": "python",
   "name": "python3"
  },
  "language_info": {
   "codemirror_mode": {
    "name": "ipython",
    "version": 3
   },
   "file_extension": ".py",
   "mimetype": "text/x-python",
   "name": "python",
   "nbconvert_exporter": "python",
   "pygments_lexer": "ipython3",
   "version": "3.10.12"
  }
 },
 "nbformat": 4,
 "nbformat_minor": 5
}
